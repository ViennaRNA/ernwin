{
 "metadata": {
  "name": "timing"
 },
 "nbformat": 3,
 "nbformat_minor": 0,
 "worksheets": [
  {
   "cells": [
    {
     "cell_type": "markdown",
     "metadata": {},
     "source": [
      "    find tests | grep add_assemble.out | xargs rm\n",
      "    for fn in $(find tests/ | grep README_ASSEMBLE | grep rosetta_outputs | grep /1/); do echo $fn; /usr/bin/time ./${fn} > /dev/null; done;"
     ]
    },
    {
     "cell_type": "code",
     "collapsed": false,
     "input": [
      "curr_base_dir = 'new_sampled_timing'"
     ],
     "language": "python",
     "metadata": {},
     "outputs": [
      {
       "output_type": "stream",
       "stream": "stdout",
       "text": [
        "\n"
       ]
      }
     ],
     "prompt_number": 62
    },
    {
     "cell_type": "code",
     "collapsed": false,
     "input": [
      "struct_lengths = [['1il2', 75],\n",
      "                  ['1dk1', 57],\n",
      "                  ['4erj', 161],\n",
      "                  ['1fg0', 496],\n",
      "                  ['3pdr', 161],\n",
      "                  ['2lkr', 111],\n",
      "                  ['2du3', 71],\n",
      "                  ['1gid', 158],\n",
      "                  ['4frn', 102],\n",
      "                  ['4gma', 192],\n",
      "                  ['1lng', 97],\n",
      "                  ['3d2g', 77],\n",
      "                  ['4frg', 84],\n",
      "                  ['2gdi', 78],\n",
      "                  ['2hoj', 78],\n",
      "                  ['1y26', 71],\n",
      "                  ['1mfq', 127],\n",
      "                  ['3e5c', 52],\n",
      "                  ['4aob', 94],\n",
      "                  ['1mms', 58]]\n",
      "\n",
      "rosetta_times = \"\"\"1il2 245.2\n",
      "1dk1 166.6\n",
      "4erj 826.1\n",
      "1fg0 3058.5\n",
      "3pdr 1457.9\n",
      "2lkr 398.0\n",
      "2du3 207.6\n",
      "1gid 745.2\n",
      "4frn 359.5\n",
      "4gma 963.3\n",
      "1lng 337.0\n",
      "3d2g 234.0\n",
      "4frg 228.6\n",
      "2gdi 205.6\n",
      "2hoj 195.9\n",
      "1y26 158.5\n",
      "1mfq 496.7\n",
      "1mms 136.4\n",
      "4aob 315.9\n",
      "3e5c 130.2\n",
      "\"\"\"\n",
      "\n",
      "rnacomposer_times = \"\"\"\n",
      "1mfq 196\n",
      "1gid 338\n",
      "1y26 31\n",
      "1il2 152\n",
      "3e5c 126\n",
      "1dk1 136\n",
      "1mms 130\n",
      "2du3 150\n",
      "2hoj 172\n",
      "1lng 197\n",
      "4frg 189\n",
      "4frn 216\n",
      "4gma 400\n",
      "4erj 402\n",
      "4aob 153\n",
      "2lkr 227\n",
      "1fg0 613\n",
      "3pdr 329\n",
      "\"\"\"\n"
     ],
     "language": "python",
     "metadata": {},
     "outputs": [],
     "prompt_number": 93
    },
    {
     "cell_type": "code",
     "collapsed": false,
     "input": [
      "import re\n",
      "\n",
      "def get_time_at_iteration(log_fn, target_iteration=10000):\n",
      "    '''\n",
      "    Get the time that had elapsed at a particular iteration.\n",
      "    \n",
      "    @param log_fn: The ernwin log filename\n",
      "    @param iteration: The iteration number\n",
      "    @return: The time that had elapsed at that iteration\n",
      "    '''\n",
      "    with open(log_fn, 'r') as log_fn:\n",
      "        for line in log_fn:\n",
      "            if line.find('native_energy') == 0:\n",
      "                line = line.strip()\n",
      "                parts = re.split(\" +\", line)\n",
      "                \n",
      "                time = float(parts[-1].strip(']'))\n",
      "                iteration = int(parts[3])\n",
      "\n",
      "                if target_iteration == iteration:\n",
      "                    return time\n",
      "                "
     ],
     "language": "python",
     "metadata": {},
     "outputs": [],
     "prompt_number": 94
    },
    {
     "cell_type": "code",
     "collapsed": false,
     "input": [
      "import os.path as op\n",
      "\n",
      "sampled_dir = op.join(curr_base_dir, 'discrete/cylinder-shortestloop-rog/')\n",
      "sss = ['1y26', '3e5c', '1gid', '1mfq', '1il2', '2lkr', '3pdr', '1fg0', '4gma', '4frn', '4frg']\n",
      "\n",
      "for s in sss:\n",
      "    print s, get_time_at_iteration(op.join(sampled_dir, s, 'log.txt'), 1000)"
     ],
     "language": "python",
     "metadata": {},
     "outputs": [
      {
       "output_type": "stream",
       "stream": "stdout",
       "text": [
        "1y26 45.1\n",
        "3e5c 46.6\n",
        "1gid 143.4\n",
        "1mfq 87.0\n",
        "1il2 51.5\n",
        "2lkr 98.0\n",
        "3pdr 145.8\n",
        "1fg0 507.5\n",
        "4gma "
       ]
      },
      {
       "output_type": "stream",
       "stream": "stdout",
       "text": [
        "129.7\n",
        "4frn 64.2\n",
        "4frg 57.3\n"
       ]
      }
     ],
     "prompt_number": 95
    },
    {
     "cell_type": "code",
     "collapsed": false,
     "input": [
      "ernwin_times=\"\"\"1y26 45.1\n",
      "3e5c 46.6\n",
      "1gid 143.4\n",
      "1mfq 87.0\n",
      "1il2 51.5\n",
      "2lkr 98.0\n",
      "3pdr 145.8\n",
      "1fg0 507.5\n",
      "4gma 129.7\n",
      "4frn 64.2\n",
      "4frg 57.3\n",
      "\"\"\""
     ],
     "language": "python",
     "metadata": {},
     "outputs": [],
     "prompt_number": 99
    },
    {
     "cell_type": "code",
     "collapsed": false,
     "input": [
      "import StringIO as sio\n",
      "import numpy as np\n",
      "\n",
      "def read_and_normalize_timing_data(timing_data, num_structures):\n",
      "    '''\n",
      "    Normalize the timing data and output it as a latex table.\n",
      "    \n",
      "    @param timing_data: A string containing the name of the structure\n",
      "                        and the time required to build num_structures models.\n",
      "    @param num_structures: The number of structures built (the normalizing factor)\n",
      "    '''\n",
      "    data = []\n",
      "    \n",
      "    for line in sio.StringIO(timing_data):\n",
      "        parts = line.strip().split(' ')\n",
      "        data += [[parts[0], float(parts[1]) / num_structures]]\n",
      "    data = dict(data)\n",
      "    return data\n",
      "\n",
      "data = dict()\n",
      "\n",
      "data['rosetta'] = read_and_normalize_timing_data(rosetta_times, 1000)\n",
      "data['ernwin'] = read_and_normalize_timing_data(ernwin_times, 1000)\n",
      "data['rnacomposer'] = read_and_normalize_timing_data(rnacomposer_times, 10)\n",
      "\n",
      "pdb_ids = set(data.values()[0].keys())\n",
      "for v in data.values():\n",
      "    pdb_ids = pdb_ids.intersection(set(v.keys()))\n",
      "struct_lengths = dict(struct_lengths)\n",
      "id_list = list(pdb_ids)\n",
      "id_list.sort(key=lambda x: struct_lengths[x])\n",
      "\n",
      "\n",
      "for i in id_list:\n",
      "    print \"%s & %d & %.2f & %.2f & %.2f \\\\\\\\\" % (i, struct_lengths[i], data['ernwin'][i], \n",
      "        data['rosetta'][i], data['rnacomposer'][i])"
     ],
     "language": "python",
     "metadata": {},
     "outputs": [
      {
       "output_type": "stream",
       "stream": "stdout",
       "text": [
        "3e5c & 52 & 0.05 & 0.13 & 12.60 \\\\\n",
        "1y26 & 71 & 0.05 & 0.16 & 3.10 \\\\\n",
        "1il2 & 75 & 0.05 & 0.25 & 15.20 \\\\\n",
        "4frg & 84 & 0.06 & 0.23 & 18.90 \\\\\n",
        "4frn & 102 & 0.06 & 0.36 & 21.60 \\\\\n",
        "2lkr & 111 & 0.10 & 0.40 & 22.70 \\\\\n",
        "1mfq & 127 & 0.09 & 0.50 & 19.60 \\\\\n",
        "1gid & 158 & 0.14 & 0.75 & 33.80 \\\\\n",
        "3pdr & 161 & 0.15 & 1.46 & 32.90 \\\\\n",
        "4gma & 192 & 0.13 & 0.96 & 40.00 \\\\\n",
        "1fg0 & 496 & 0.51 & 3.06 & 61.30 \\\\\n"
       ]
      }
     ],
     "prompt_number": 119
    },
    {
     "cell_type": "code",
     "collapsed": false,
     "input": [],
     "language": "python",
     "metadata": {},
     "outputs": [],
     "prompt_number": 92
    },
    {
     "cell_type": "code",
     "collapsed": false,
     "input": [],
     "language": "python",
     "metadata": {},
     "outputs": []
    }
   ],
   "metadata": {}
  }
 ]
}