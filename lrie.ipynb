{
 "metadata": {
  "name": "lrie"
 },
 "nbformat": 3,
 "nbformat_minor": 0,
 "worksheets": [
  {
   "cells": [
    {
     "cell_type": "markdown",
     "metadata": {},
     "source": [
      "### Set up some stuff ###\n",
      "\n",
      "First we want to reload all modules upon execution so that we can play around with the code as we create it."
     ]
    },
    {
     "cell_type": "code",
     "collapsed": false,
     "input": [
      "%load_ext autoreload\n",
      "%autoreload 2"
     ],
     "language": "python",
     "metadata": {},
     "outputs": [],
     "prompt_number": 109
    },
    {
     "cell_type": "markdown",
     "metadata": {},
     "source": [
      "### Long Range Interaction Energy ###\n",
      "\n",
      "The goal of the long-range interaction energy is to provide a model for interactions between coarse grain loop elements. The probability of an interaction: \n",
      "\n",
      "$$P_r(I|d) = \\frac{P_r(d|I)P(I)}{P_r(d)}$$ \n",
      "\n",
      "Where *d* is equal to the distance between the two coarse grain elements. In our case, this is the minimum distance between the two segments representing the hairpin loops. *P(I)* is just a prior probability that the two elements are involed in an interaction independent of their distance. In our case, this term is irrelevant since it will be cancelled out in the creation of the energy function.\n",
      "\n",
      "To create an energy function we will take the probability calculated above and compare it to a reference state defined by the structures sampled by our local structure proposal model. This is calculated in the same manner as the previous probability, except all of the distances are taken from the sampled structure whereas the identities of the interacting hairpins are taken from the real structure.\n",
      "\n",
      "$$P_s(I|d) = \\frac{P_s(d|I)P(I)}{P_s(d)}$$ \n",
      "\n",
      "Let's explore the nature of the interaction data. First we can load the interaction data from the real structure, filter out the distances that involve only hairpins and then separate those into those that are involved in interactions (`loop_loop_y`) and those that aren't (`loop_loop_n`)."
     ]
    },
    {
     "cell_type": "code",
     "collapsed": false,
     "input": [
      "import pandas as pa\n",
      "\n",
      "def load_interactions(filename):\n",
      "    t = pa.read_csv(filename, header=None, sep=' ')\n",
      "    t.columns = ['key1', 'type1', 'len1', 'key2', 'type2', \n",
      "                 'len2', 'dist', 'seq1', 'seq2', 'longrange', 'angle']\n",
      "    \n",
      "    #loop_loop = t[np.logical_and(t[t.columns[1]] == \"l\", t[t.columns[4]] == \"l\")]\n",
      "    loop_loop = t[np.logical_and(t.type1 == \"l\", t.type2 == \"l\")]\n",
      "    loop_loop_y = loop_loop[loop_loop.longrange == 'Y']\n",
      "    loop_loop_n = loop_loop[loop_loop.longrange == 'N']\n",
      "\n",
      "    return (loop_loop, loop_loop_y, loop_loop_n)\n"
     ],
     "language": "python",
     "metadata": {},
     "outputs": [],
     "prompt_number": 110
    },
    {
     "cell_type": "markdown",
     "metadata": {},
     "source": [
      "Now we can plot the distances for the loops involved in interactions and those that are not involved in interactions:"
     ]
    },
    {
     "cell_type": "code",
     "collapsed": false,
     "input": [
      "(ll, ll_y, ll_n) = load_interactions('fess/stats/temp.longrange.stats')\n",
      "hist(ll_y['dist'], alpha=0.3, normed=True)\n",
      "hist(ll['dist'], alpha=0.3, normed=True)"
     ],
     "language": "python",
     "metadata": {},
     "outputs": [
      {
       "output_type": "pyout",
       "prompt_number": 111,
       "text": [
        "(array([  1.72648122e-03,   5.15405422e-03,   8.45468008e-03,\n",
        "         1.12475173e-02,   1.00796036e-02,   7.38832403e-03,\n",
        "         5.40794852e-03,   2.46277468e-03,   8.37851179e-04,\n",
        "         5.07788593e-05]),\n",
        " array([   3.78409  ,   22.7198927,   41.6556954,   60.5914981,\n",
        "         79.5273008,   98.4631035,  117.3989062,  136.3347089,\n",
        "        155.2705116,  174.2063143,  193.142117 ]),\n",
        " <a list of 10 Patch objects>)"
       ]
      },
      {
       "output_type": "display_data",
       "png": "[encoded data removed]"
      }
     ],
     "prompt_number": 111
    },
    {
     "cell_type": "markdown",
     "metadata": {},
     "source": [
      "Immediately apparent is that hairpins involved in interactions (blue) tend to be much closer to each other than those that are not involved in interactions (green). From this, we can approximate the distributions using kernel density estimates and plot the result. We furthermore plot the value of $P(I|d)$, which is simply the quotient of the two distributions."
     ]
    },
    {
     "cell_type": "code",
     "collapsed": false,
     "input": [
      "import scipy.stats as ss\n",
      "\n",
      "gk_ll_y = ss.gaussian_kde(ll_y['dist'])\n",
      "gk_ll = ss.gaussian_kde(ll['dist'])\n",
      "\n",
      "xs = np.linspace(0, 50, 400)\n",
      "plot(xs, np.log(gk_ll_y(xs)) - np.log(gk_ll(xs)), 'r')"
     ],
     "language": "python",
     "metadata": {},
     "outputs": [
      {
       "output_type": "pyout",
       "prompt_number": 112,
       "text": [
        "[<matplotlib.lines.Line2D at 0x134a2210>]"
       ]
      },
      {
       "output_type": "display_data",
       "png": "[encoded data removed]"
      }
     ],
     "prompt_number": 112
    },
    {
     "cell_type": "markdown",
     "metadata": {},
     "source": [
      "The plot displays the peak at around 10 angstroms. Beyond a distance of around 30 angstroms, the number of long range interactions observed drops to zero and the kernel density estimate also returns values very close to zero leading to steep drop in the ratio of distances given an interaction and distances overall.\n",
      "\n",
      "The same plot can be created for the sampled values."
     ]
    },
    {
     "cell_type": "code",
     "collapsed": false,
     "input": [
      "(s_ll, s_ll_y, s_ll_n) = load_interactions('fess/stats/temp.longrange.stats.sampled')\n",
      "hist(s_ll_y['dist'], alpha=0.3, normed=True)\n",
      "hist(s_ll['dist'], alpha=0.3, normed=True)"
     ],
     "language": "python",
     "metadata": {},
     "outputs": [
      {
       "output_type": "pyout",
       "prompt_number": 113,
       "text": [
        "(array([ 0.00120276,  0.00310342,  0.00495954,  0.0055535 ,  0.00585047,\n",
        "        0.00435073,  0.00282129,  0.00181157,  0.00092063,  0.00031183]),\n",
        " array([   9.947201 ,   42.3245872,   74.7019734,  107.0793596,\n",
        "        139.4567458,  171.834132 ,  204.2115182,  236.5889044,\n",
        "        268.9662906,  301.3436768,  333.721063 ]),\n",
        " <a list of 10 Patch objects>)"
       ]
      },
      {
       "output_type": "display_data",
       "png": "[encoded data removed]"
      }
     ],
     "prompt_number": 113
    },
    {
     "cell_type": "markdown",
     "metadata": {},
     "source": [
      "Evident here is the fact that many of the known long-range interactions do indeed appear to be close to each other in the sampled structures. Notice that while they do appear to cluster in the lower range of distances, this lower range is actually greater than the most probable distances from the real structures. This is likely due to the fact that many long range interactions are between elements that are close to each other in the bulge graph and will thus be relatively near to each other no matter what.\n",
      "\n",
      "Other known interactions are located further from each other in comparison to the real structure. This is to be expected since there is no energy term to shift their distribution to the lower end of the scale."
     ]
    },
    {
     "cell_type": "code",
     "collapsed": false,
     "input": [
      "gk_s_ll_y = ss.gaussian_kde(s_ll_y['dist'])\n",
      "gk_s_ll = ss.gaussian_kde(s_ll['dist'])\n",
      "\n",
      "#plot(xs, np.log(gk_ll_y(xs)), 'b')\n",
      "#plot(xs, np.log(gk_ll(xs)), 'g')\n",
      "plot(xs, np.log(gk_s_ll_y(xs)) - np.log(gk_s_ll(xs)), 'r')"
     ],
     "language": "python",
     "metadata": {},
     "outputs": [
      {
       "output_type": "pyout",
       "prompt_number": 114,
       "text": [
        "[<matplotlib.lines.Line2D at 0x15001f10>]"
       ]
      },
      {
       "output_type": "display_data",
       "png": "[encoded data removed]"
      }
     ],
     "prompt_number": 114
    },
    {
     "cell_type": "markdown",
     "metadata": {},
     "source": [
      "The distribution of $P_s(I|d)$ shows a steadily decreasing probability over the range of [0,100]. This is in contrast to the distribution of P_r(I|d), which drops off drastically at a distance of around 30 angstroms. From these two distributions, we can create our energy function by taking the quotient of their probability values. \n",
      "\n",
      "$$-E=log(\\frac{P_r(I|d)}{P_s(I|d)}$$"
     ]
    },
    {
     "cell_type": "code",
     "collapsed": false,
     "input": [
      "p_r = gk_ll_y(xs) /  gk_ll(xs)\n",
      "p_s = gk_s_ll_y(xs) / gk_s_ll(xs)\n",
      "\n",
      "#plot(xs, p_r)\n",
      "#plot(xs, p_s)\n",
      "plot(xs, np.log(p_r  / p_s ))"
     ],
     "language": "python",
     "metadata": {},
     "outputs": [
      {
       "output_type": "pyout",
       "prompt_number": 115,
       "text": [
        "[<matplotlib.lines.Line2D at 0x14ff4b50>]"
       ]
      },
      {
       "output_type": "display_data",
       "png": "[encoded data removed]"
      }
     ],
     "prompt_number": 115
    },
    {
     "cell_type": "markdown",
     "metadata": {},
     "source": [
      "The function assumes a gradual descent for distances greater than 40 angstroms. This, again is due to the fact that our estimate for $P_r(I|d)$ reaches extremely low values. In our simulation, this would lead to a heavy penalty for any elements that are far apart. In a sense, such behaviour would be wrong since many such interaction partners would be expected. We are more interested in rewarding interaction-like configurations than penalizing non-interaction-like arrangements. Therefore, we will take a pseudocount equal to the sampled value $P_s(I|d)$ and use that to level off our function for large distance values.\n",
      "\n",
      "$$-E=log(\\frac{P_r(I|d) + P_s(I|d)}{P_s(I|d)})$$"
     ]
    },
    {
     "cell_type": "code",
     "collapsed": false,
     "input": [
      "p_r = gk_ll_y(xs) /  gk_ll(xs)\n",
      "p_s = gk_s_ll_y(xs) / gk_s_ll(xs)\n",
      "\n",
      "plot(xs, np.log((p_r + p_s)  / p_s ))"
     ],
     "language": "python",
     "metadata": {},
     "outputs": [
      {
       "output_type": "pyout",
       "prompt_number": 116,
       "text": [
        "[<matplotlib.lines.Line2D at 0x17771750>]"
       ]
      },
      {
       "output_type": "display_data",
       "png": "[encoded data removed]"
      }
     ],
     "prompt_number": 116
    },
    {
     "cell_type": "markdown",
     "metadata": {},
     "source": [
      "These distributions can also be obtained from the `load_data` method of the Loop Loop energy function:"
     ]
    },
    {
     "cell_type": "code",
     "collapsed": false,
     "input": [
      "import corgy.builder.energy as cbe\n",
      "\n",
      "lle = cbe.LoopLoopEnergy()\n",
      "(real_data, gk_ll_y, gk_ll) = lle.load_data('fess/stats/temp.longrange.stats')[:3]   \n",
      "(sampled_data, gk_s_ll_y, gk_s_ll) = lle.load_data('fess/stats/temp.longrange.stats.sampled')[:3]\n",
      "\n",
      "xs = np.linspace(0, 50, 400)\n",
      "\n",
      "p_r = gk_ll_y(xs) /  gk_ll(xs)\n",
      "p_s = gk_s_ll_y(xs) / gk_s_ll(xs)\n",
      "\n",
      "\n",
      "plot(xs, np.log((p_r + p_s)  / p_s ))"
     ],
     "language": "python",
     "metadata": {},
     "outputs": [
      {
       "output_type": "pyout",
       "prompt_number": 117,
       "text": [
        "[<matplotlib.lines.Line2D at 0x1776ed90>]"
       ]
      },
      {
       "output_type": "display_data",
       "png": "[encoded data removed]"
      }
     ],
     "prompt_number": 117
    },
    {
     "cell_type": "markdown",
     "metadata": {},
     "source": [
      "Or even more simple using the `LoopLoopEnergy().calc_energy(dist)` function."
     ]
    },
    {
     "cell_type": "code",
     "collapsed": false,
     "input": [
      "lle = cbe.LoopLoopEnergy()\n",
      "(lle.real_data, lle.real_d_given_i, lle.real_d, lle.real_iprobs) = lle.load_data('fess/stats/temp.longrange.stats')\n",
      "(lle.fake_data, lle.fake_d_given_i, lle.fake_d, lle.fake_iprobs) = lle.load_data('fess/stats/temp.longrange.stats.sampled')\n",
      "\n",
      "xs = np.linspace(0,50,200)\n",
      "ys = [lle.calc_energy(x) for x in xs]\n",
      "\n",
      "plot(xs, ys)"
     ],
     "language": "python",
     "metadata": {},
     "outputs": [
      {
       "output_type": "pyout",
       "prompt_number": 118,
       "text": [
        "[<matplotlib.lines.Line2D at 0x171dc690>]"
       ]
      },
      {
       "output_type": "display_data",
       "png": "[encoded data removed]"
      }
     ],
     "prompt_number": 118
    },
    {
     "cell_type": "markdown",
     "metadata": {},
     "source": [
      "And now we can evaluate this energy on a real structure.\n"
     ]
    },
    {
     "cell_type": "code",
     "collapsed": false,
     "input": [
      "import corgy.graph.bulge_graph as cgb\n",
      "import corgy.builder.models as cbm\n",
      "import os.path as op\n",
      "\n",
      "bg = cgb.BulgeGraph(op.expanduser('~/coarse/1y26/graph/temp.comp'))\n",
      "sm = cbm.SpatialModel(bg)\n",
      "lle = cbe.LoopLoopEnergy()\n",
      "\n",
      "lle.eval_energy(sm)"
     ],
     "language": "python",
     "metadata": {},
     "outputs": [
      {
       "output_type": "stream",
       "stream": "stderr",
       "text": [
        "to_remove, loop: ('b2', ['b2', 's1', 'b0', 's0', 'b5', 's2'])\n"
       ]
      },
      {
       "output_type": "pyout",
       "prompt_number": 119,
       "text": [
        "array([-1.44854531])"
       ]
      }
     ],
     "prompt_number": 119
    },
    {
     "cell_type": "markdown",
     "metadata": {},
     "source": [
      "And we can try and sample structures using this energy function. We also want to avoid clashes and unrealistic junctions, so we'll add the `StemVirtualResClashEnergy` to take care of the former and the `RoughJunctionClosureEnergy` to take care of the latter. These energies need the virtual residues to be calculated, so that will be done after they are created. These energies will be combined with the LoopLoopEnergy using the `CombinedEnergy` function.\n"
     ]
    },
    {
     "cell_type": "code",
     "collapsed": false,
     "input": [
      "import corgy.graph.graph_pdb as cgg\n",
      "\n",
      "ce = cbe.CombinedEnergy([cbe.StemVirtualResClashEnergy(),\n",
      "                         cbe.RoughJunctionClosureEnergy(),\n",
      "                         cbe.LoopLoopEnergy()])\n",
      "\n",
      "ce.eval_energy(sm)"
     ],
     "language": "python",
     "metadata": {},
     "outputs": [
      {
       "output_type": "pyout",
       "prompt_number": 120,
       "text": [
        "array([-1.44854531])"
       ]
      }
     ],
     "prompt_number": 120
    },
    {
     "cell_type": "markdown",
     "metadata": {},
     "source": [
      "Next we'll need to create the sampler and do a few sampling steps. Additionally, a statistic collecting class will also be created to display some information about each sampling step."
     ]
    },
    {
     "cell_type": "code",
     "collapsed": false,
     "input": [
      "import corgy.builder.sampling as cbs\n",
      "\n",
      "stats = cbs.SamplingStatistics(sm, plotter=None, \n",
      "                              plot_color=None, \n",
      "                              silent=False, \n",
      "                              output_file=None, \n",
      "                              save_n_best = 2)\n",
      "sampler = cbs.MCMCSampler(sm, ce, stats)"
     ],
     "language": "python",
     "metadata": {},
     "outputs": [
      {
       "output_type": "stream",
       "stream": "stderr",
       "text": [
        "Error sampling 5' b4 of size 1. No available statistics.\n"
       ]
      }
     ],
     "prompt_number": 121
    },
    {
     "cell_type": "code",
     "collapsed": false,
     "input": [
      "for i in range(8):\n",
      "    sampler.step()"
     ],
     "language": "python",
     "metadata": {},
     "outputs": [
      {
       "output_type": "stream",
       "stream": "stdout",
       "text": [
        "native_energy [1y26 71]:   1 -7.59e-05  6.527 | min: -0.00 (-0.00)  6.53 | extreme_rmsds:  6.53  6.53\n",
        "native_energy [1y26 71]:   2 -7.59e-05  6.527 | min: -0.00 (-0.00)  6.53 | extreme_rmsds:  6.53  6.53"
       ]
      },
      {
       "output_type": "stream",
       "stream": "stdout",
       "text": [
        "\n",
        "native_energy [1y26 71]:   3 -1.06e-06  6.753 | min: -0.00 (-0.00)  6.53 | extreme_rmsds:  6.53  6.75\n",
        "native_energy [1y26 71]:   4 -1.06e-06  6.735 | min: -0.00 (-0.00)  6.53 | extreme_rmsds:  6.53  6.75"
       ]
      },
      {
       "output_type": "stream",
       "stream": "stdout",
       "text": [
        "\n",
        "native_energy [1y26 71]:   5 -1.06e-06  6.670 | min: -0.00 (-0.00)  6.53 | extreme_rmsds:  6.53  6.75\n",
        "native_energy [1y26 71]:   6 -6.36e-07  6.792 | min: -0.00 (-0.00)  6.53 | extreme_rmsds:  6.53  6.79"
       ]
      },
      {
       "output_type": "stream",
       "stream": "stdout",
       "text": [
        "\n",
        "native_energy [1y26 71]:   7     0  9.530 | min: -0.00 (-0.00)  6.53 | extreme_rmsds:  6.53  9.53"
       ]
      },
      {
       "output_type": "stream",
       "stream": "stdout",
       "text": [
        "\n",
        "native_energy [1y26 71]:   8     0  9.531 | min: -0.00 (-0.00)  6.53 | extreme_rmsds:  6.53  9.53"
       ]
      },
      {
       "output_type": "stream",
       "stream": "stdout",
       "text": [
        "\n"
       ]
      }
     ],
     "prompt_number": 122
    },
    {
     "cell_type": "markdown",
     "metadata": {},
     "source": [
      "## Stem Stem Orientation Energy ##\n",
      "\n",
      "A cursory observation of various pdb structures would seem to indicate that many of their helices are co-axial. This is supported by studies such as [CITATION]. To create an energy function based around this, we will calculate the relative stem orientation statistics for a real structure (1JJ2) and for a sampled version of the real structure and then use the sample as a reference point for actual energy function."
     ]
    },
    {
     "cell_type": "code",
     "collapsed": false,
     "input": [
      "sse = cbe.StemStemOrientationEnergy([2])\n",
      "\n",
      "sse.real_data = sse.load_stem_stem_data('fess/stats/stem_stem_orientations.csv')\n",
      "sse.fake_data = sse.load_stem_stem_data('fess/stats/stem_stem_orientations_sampled.csv')\n",
      "\n",
      "xs = np.linspace(0, math.pi, 50)\n",
      "\n",
      "ys_r = sse.real_data(xs)\n",
      "ys_s = sse.fake_data(xs)\n",
      "\n",
      "plot(xs, ys_r)\n",
      "plot(xs, ys_s)"
     ],
     "language": "python",
     "metadata": {},
     "outputs": [
      {
       "output_type": "pyout",
       "prompt_number": 123,
       "text": [
        "[<matplotlib.lines.Line2D at 0x15a4fb90>]"
       ]
      },
      {
       "output_type": "display_data",
       "png": "[encoded data removed]"
      }
     ],
     "prompt_number": 123
    },
    {
     "cell_type": "markdown",
     "metadata": {},
     "source": [
      "The visualization above shows that co-axisal stems are more represented in real structures than in sampled structures. We can also visualize the actual energy function:\n",
      "\n",
      "$$ -E = log(\\frac{P_r(\\theta)}{P_s(\\theta)})$$"
     ]
    },
    {
     "cell_type": "code",
     "collapsed": false,
     "input": [
      "plot(xs, np.log(ys_r) - np.log(ys_s))"
     ],
     "language": "python",
     "metadata": {},
     "outputs": [
      {
       "output_type": "pyout",
       "prompt_number": 124,
       "text": [
        "[<matplotlib.lines.Line2D at 0x1706db90>]"
       ]
      },
      {
       "output_type": "display_data",
       "png": "[encoded data removed]"
      }
     ],
     "prompt_number": 124
    },
    {
     "cell_type": "markdown",
     "metadata": {},
     "source": [
      "And evaluate it on the native structure."
     ]
    },
    {
     "cell_type": "code",
     "collapsed": false,
     "input": [
      "ce = cbe.CombinedEnergy([cbe.StemVirtualResClashEnergy(),\n",
      "                         cbe.RoughJunctionClosureEnergy(),\n",
      "                         cbe.StemStemOrientationEnergy([2])])\n",
      "bg = cgb.BulgeGraph(op.expanduser('~/coarse/1y26/graph/temp.comp'))\n",
      "sm = cbm.SpatialModel(bg)\n",
      "stats = cbs.SamplingStatistics(sm, plotter=None, \n",
      "                              plot_color=None, \n",
      "                              silent=False, \n",
      "                              output_file=None, \n",
      "                              save_n_best = 2)\n",
      "sampler = cbs.MCMCSampler(sm, ce, stats)\n",
      "for s in sm.bg.stems():\n",
      "    cgg.add_virtual_residues(sm.bg, s)\n",
      "\n",
      "ce.eval_energy(sm)"
     ],
     "language": "python",
     "metadata": {},
     "outputs": [
      {
       "output_type": "stream",
       "stream": "stderr",
       "text": [
        "to_remove, loop: ('b2', ['b2', 's1', 'b0', 's0', 'b5', 's2'])\n",
        "Error sampling 5' b4 of size 1. No available statistics."
       ]
      },
      {
       "output_type": "stream",
       "stream": "stderr",
       "text": [
        "\n"
       ]
      },
      {
       "output_type": "pyout",
       "prompt_number": 125,
       "text": [
        "array([ 0.06673044])"
       ]
      }
     ],
     "prompt_number": 125
    },
    {
     "cell_type": "markdown",
     "metadata": {},
     "source": [
      "Sampling using this energy function can be performed just like with the previous one."
     ]
    },
    {
     "cell_type": "code",
     "collapsed": false,
     "input": [
      "for i in range(8):\n",
      "    sampler.step()"
     ],
     "language": "python",
     "metadata": {},
     "outputs": [
      {
       "output_type": "stream",
       "stream": "stdout",
       "text": [
        "native_energy [1y26 71]:   1 -0.0173  12.135 | min: -0.02 (-0.02) 12.13 | extreme_rmsds: 12.13 12.13\n",
        "native_energy [1y26 71]:   2 -0.0189  13.678 | min: -0.02 (-0.02) 13.68 | extreme_rmsds: 12.13 13.68"
       ]
      },
      {
       "output_type": "stream",
       "stream": "stdout",
       "text": [
        "\n",
        "native_energy [1y26 71]:   3 -0.059  14.037 | min: -0.06 (-0.02) 14.04 | extreme_rmsds: 12.13 14.04"
       ]
      },
      {
       "output_type": "stream",
       "stream": "stdout",
       "text": [
        "\n",
        "native_energy [1y26 71]:   4 -0.059  14.168 | min: -0.06 (-0.02) 14.04 | extreme_rmsds: 12.13 14.17"
       ]
      },
      {
       "output_type": "stream",
       "stream": "stdout",
       "text": [
        "\n",
        "native_energy [1y26 71]:   5 -0.059  14.168 | min: -0.06 (-0.02) 14.04 | extreme_rmsds: 12.13 14.17"
       ]
      },
      {
       "output_type": "stream",
       "stream": "stdout",
       "text": [
        "\n",
        "native_energy [1y26 71]:   6 -0.059  14.168 | min: -0.06 (-0.02) 14.04 | extreme_rmsds: 12.13 14.17"
       ]
      },
      {
       "output_type": "stream",
       "stream": "stdout",
       "text": [
        "\n",
        "native_energy [1y26 71]:   7 -0.059  14.168 | min: -0.06 (-0.02) 14.04 | extreme_rmsds: 12.13 14.17"
       ]
      },
      {
       "output_type": "stream",
       "stream": "stdout",
       "text": [
        "\n",
        "native_energy [1y26 71]:   8 -0.0555  15.623 | min: -0.06 (-0.02) 14.04 | extreme_rmsds: 12.13 15.62"
       ]
      },
      {
       "output_type": "stream",
       "stream": "stdout",
       "text": [
        "\n"
       ]
      }
     ],
     "prompt_number": 126
    },
    {
     "cell_type": "code",
     "collapsed": false,
     "input": [
      "ce = cbe.CombinedEnergy([cbe.StemVirtualResClashEnergy(),\n",
      "                         cbe.RoughJunctionClosureEnergy(),\n",
      "                         cbe.StemStemOrientationEnergy([2]),\n",
      "                         cbe.LoopLoopEnergy()])\n",
      "bg = cgb.BulgeGraph(op.expanduser('~/coarse/1y26/graph/temp.comp'))\n",
      "sm = cbm.SpatialModel(bg)\n",
      "stats = cbs.SamplingStatistics(sm, plotter=None, \n",
      "                              plot_color=None, \n",
      "                              silent=False, \n",
      "                              output_file=None, \n",
      "                              save_n_best = 2)\n",
      "    \n",
      "print cbe.StemStemOrientationEnergy([2]).eval_energy(sm)\n",
      "print cbe.LoopLoopEnergy().eval_energy(sm)\n",
      "print ce.eval_energy(sm)\n",
      "\n",
      "sampler = cbs.MCMCSampler(sm, ce, stats)\n",
      "for s in sm.bg.stems():\n",
      "    cgg.add_virtual_residues(sm.bg, s)\n",
      "\n"
     ],
     "language": "python",
     "metadata": {},
     "outputs": [
      {
       "output_type": "stream",
       "stream": "stdout",
       "text": [
        "[-0.22855885]\n",
        "[-1.44854531]"
       ]
      },
      {
       "output_type": "stream",
       "stream": "stdout",
       "text": [
        "\n",
        "[-1.67710416]"
       ]
      },
      {
       "output_type": "stream",
       "stream": "stderr",
       "text": [
        "to_remove, loop: ('b2', ['b2', 's1', 'b0', 's0', 'b5', 's2'])\n",
        "Error sampling 5' b4 of size 1. No available statistics."
       ]
      },
      {
       "output_type": "stream",
       "stream": "stdout",
       "text": [
        "\n"
       ]
      },
      {
       "output_type": "stream",
       "stream": "stderr",
       "text": [
        "\n"
       ]
      }
     ],
     "prompt_number": 163
    },
    {
     "cell_type": "markdown",
     "metadata": {},
     "source": [
      "## Threading a Coarse Grain Structure onto an All-Atom Model ##\n",
      "\n",
      "There are two instances when it is necessary to convert an all-atom model to a coarse grain structure:\n",
      "\n",
      "1. To determine how native structures look in their coarse grain represenation.\n",
      "2. To compare predictions from all-atom generating programs to the coarse-grain predictions generated by ernwin\n",
      "\n",
      "Fortunately, this is done rather easily using the `add_3d_information.py` script."
     ]
    },
    {
     "cell_type": "code",
     "collapsed": false,
     "input": [],
     "language": "python",
     "metadata": {},
     "outputs": []
    }
   ],
   "metadata": {}
  }
 ]
}