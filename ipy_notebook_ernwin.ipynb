{
 "metadata": {
  "name": "lrie"
 },
 "nbformat": 3,
 "nbformat_minor": 0,
 "worksheets": [
  {
   "cells": [
    {
     "cell_type": "markdown",
     "metadata": {},
     "source": [
      "### Set up some stuff ###\n",
      "\n",
      "First we want to reload all modules upon execution so that we can play around with the code as we create it."
     ]
    },
    {
     "cell_type": "code",
     "collapsed": false,
     "input": [
      "%load_ext autoreload\n",
      "%autoreload 2"
     ],
     "language": "python",
     "metadata": {},
     "outputs": [],
     "prompt_number": 1
    },
    {
     "cell_type": "markdown",
     "metadata": {},
     "source": [
      "### Long Range Interaction Energy ###\n",
      "\n",
      "The goal of the long-range interaction energy is to provide a model for interactions between coarse grain loop elements. The probability of an interaction: \n",
      "\n",
      "$$P_r(I|d) = \\frac{P_r(d|I)P(I)}{P_r(d)}$$ \n",
      "\n",
      "Where *d* is equal to the distance between the two coarse grain elements. In our case, this is the minimum distance between the two segments representing the hairpin loops. *P(I)* is just a prior probability that the two elements are involed in an interaction independent of their distance. In our case, this term is irrelevant since it will be cancelled out in the creation of the energy function.\n",
      "\n",
      "To create an energy function we will take the probability calculated above and compare it to a reference state defined by the structures sampled by our local structure proposal model. This is calculated in the same manner as the previous probability, except all of the distances are taken from the sampled structure whereas the identities of the interacting hairpins are taken from the real structure.\n",
      "\n",
      "$$P_s(I|d) = \\frac{P_s(d|I)P(I)}{P_s(d)}$$ \n",
      "\n",
      "Let's explore the nature of the interaction data. First we can load the interaction data from the real structure, filter out the distances that involve only hairpins and then separate those into those that are involved in interactions (`loop_loop_y`) and those that aren't (`loop_loop_n`)."
     ]
    },
    {
     "cell_type": "code",
     "collapsed": false,
     "input": [
      "import pandas as pa\n",
      "\n",
      "def load_interactions(filename):\n",
      "    t = pa.read_csv(filename, header=None, sep=' ')\n",
      "    t.columns = ['key1', 'type1', 'len1', 'key2', 'type2', \n",
      "                 'len2', 'dist', 'seq1', 'seq2', 'longrange', 'angle']\n",
      "    \n",
      "    #loop_loop = t[np.logical_and(t[t.columns[1]] == \"l\", t[t.columns[4]] == \"l\")]\n",
      "    loop_loop = t[np.logical_and(t.type1 == \"l\", t.type2 == \"l\")]\n",
      "    loop_loop_y = loop_loop[loop_loop.longrange == 'Y']\n",
      "    loop_loop_n = loop_loop[loop_loop.longrange == 'N']\n",
      "\n",
      "    return (loop_loop, loop_loop_y, loop_loop_n)\n"
     ],
     "language": "python",
     "metadata": {},
     "outputs": [
      {
       "output_type": "stream",
       "stream": "stderr",
       "text": [
        "/scr/plastilin/pkerp/local/lib64/python2.7/site-packages/pytz/__init__.py:35: UserWarning: Module dateutil was already imported from /scr/plastilin/pkerp/local/lib64/python2.7/site-packages/dateutil/__init__.pyc, but /usr/lib/python2.7/site-packages is being added to sys.path\n",
        "  from pkg_resources import resource_stream\n"
       ]
      }
     ],
     "prompt_number": 2
    },
    {
     "cell_type": "markdown",
     "metadata": {},
     "source": [
      "Now we can plot the distances for the loops involved in interactions and those that are not involved in interactions:"
     ]
    },
    {
     "cell_type": "code",
     "collapsed": false,
     "input": [
      "(ll, ll_y, ll_n) = load_interactions('fess/stats/temp.longrange.stats')\n",
      "hist(ll_y['dist'], alpha=0.3, normed=True)\n",
      "hist(ll['dist'], alpha=0.3, normed=True)"
     ],
     "language": "python",
     "metadata": {},
     "outputs": [
      {
       "output_type": "pyout",
       "prompt_number": 3,
       "text": [
        "(array([  1.72648122e-03,   5.15405422e-03,   8.45468008e-03,\n",
        "         1.12475173e-02,   1.00796036e-02,   7.38832403e-03,\n",
        "         5.40794852e-03,   2.46277468e-03,   8.37851179e-04,\n",
        "         5.07788593e-05]),\n",
        " array([   3.78409  ,   22.7198927,   41.6556954,   60.5914981,\n",
        "         79.5273008,   98.4631035,  117.3989062,  136.3347089,\n",
        "        155.2705116,  174.2063143,  193.142117 ]),\n",
        " <a list of 10 Patch objects>)"
       ]
      },
      {
       "output_type": "display_data",
       "png": "[encoded data removed]"
      }
     ],
     "prompt_number": 3
    },
    {
     "cell_type": "markdown",
     "metadata": {},
     "source": [
      "Immediately apparent is that hairpins involved in interactions (blue) tend to be much closer to each other than those that are not involved in interactions (green). From this, we can approximate the distributions using kernel density estimates and plot the result. We furthermore plot the value of $P(I|d)$, which is simply the quotient of the two distributions."
     ]
    },
    {
     "cell_type": "code",
     "collapsed": false,
     "input": [
      "import scipy.stats as ss\n",
      "\n",
      "gk_ll_y = ss.gaussian_kde(ll_y['dist'])\n",
      "gk_ll = ss.gaussian_kde(ll['dist'])\n",
      "\n",
      "xs = np.linspace(0, 50, 400)\n",
      "plot(xs, np.log(gk_ll_y(xs)) - np.log(gk_ll(xs)), 'r')"
     ],
     "language": "python",
     "metadata": {},
     "outputs": [
      {
       "output_type": "pyout",
       "prompt_number": 4,
       "text": [
        "[<matplotlib.lines.Line2D at 0x3b8f710>]"
       ]
      },
      {
       "output_type": "display_data",
       "png": "[encoded data removed]"
      }
     ],
     "prompt_number": 4
    },
    {
     "cell_type": "markdown",
     "metadata": {},
     "source": [
      "The plot displays the peak at around 10 angstroms. Beyond a distance of around 30 angstroms, the number of long range interactions observed drops to zero and the kernel density estimate also returns values very close to zero leading to steep drop in the ratio of distances given an interaction and distances overall.\n",
      "\n",
      "The same plot can be created for the sampled values."
     ]
    },
    {
     "cell_type": "code",
     "collapsed": false,
     "input": [
      "(s_ll, s_ll_y, s_ll_n) = load_interactions('fess/stats/temp.longrange.stats.sampled')\n",
      "hist(s_ll_y['dist'], alpha=0.3, normed=True)\n",
      "hist(s_ll['dist'], alpha=0.3, normed=True)"
     ],
     "language": "python",
     "metadata": {},
     "outputs": [
      {
       "output_type": "pyout",
       "prompt_number": 5,
       "text": [
        "(array([ 0.00120276,  0.00310342,  0.00495954,  0.0055535 ,  0.00585047,\n",
        "        0.00435073,  0.00282129,  0.00181157,  0.00092063,  0.00031183]),\n",
        " array([   9.947201 ,   42.3245872,   74.7019734,  107.0793596,\n",
        "        139.4567458,  171.834132 ,  204.2115182,  236.5889044,\n",
        "        268.9662906,  301.3436768,  333.721063 ]),\n",
        " <a list of 10 Patch objects>)"
       ]
      },
      {
       "output_type": "display_data",
       "png": "[encoded data removed]"
      }
     ],
     "prompt_number": 5
    },
    {
     "cell_type": "markdown",
     "metadata": {},
     "source": [
      "Evident here is the fact that many of the known long-range interactions do indeed appear to be close to each other in the sampled structures. Notice that while they do appear to cluster in the lower range of distances, this lower range is actually greater than the most probable distances from the real structures. This is likely due to the fact that many long range interactions are between elements that are close to each other in the bulge graph and will thus be relatively near to each other no matter what.\n",
      "\n",
      "Other known interactions are located further from each other in comparison to the real structure. This is to be expected since there is no energy term to shift their distribution to the lower end of the scale."
     ]
    },
    {
     "cell_type": "code",
     "collapsed": false,
     "input": [
      "gk_s_ll_y = ss.gaussian_kde(s_ll_y['dist'])\n",
      "gk_s_ll = ss.gaussian_kde(s_ll['dist'])\n",
      "\n",
      "#plot(xs, np.log(gk_ll_y(xs)), 'b')\n",
      "#plot(xs, np.log(gk_ll(xs)), 'g')\n",
      "plot(xs, np.log(gk_s_ll_y(xs)) - np.log(gk_s_ll(xs)), 'r')"
     ],
     "language": "python",
     "metadata": {},
     "outputs": [
      {
       "output_type": "pyout",
       "prompt_number": 6,
       "text": [
        "[<matplotlib.lines.Line2D at 0x453e410>]"
       ]
      },
      {
       "output_type": "display_data",
       "png": "[encoded data removed]"
      }
     ],
     "prompt_number": 6
    },
    {
     "cell_type": "markdown",
     "metadata": {},
     "source": [
      "The distribution of $P_s(I|d)$ shows a steadily decreasing probability over the range of [0,100]. This is in contrast to the distribution of P_r(I|d), which drops off drastically at a distance of around 30 angstroms. From these two distributions, we can create our energy function by taking the quotient of their probability values. \n",
      "\n",
      "$$-E=log(\\frac{P_r(I|d)}{P_s(I|d)}$$"
     ]
    },
    {
     "cell_type": "code",
     "collapsed": false,
     "input": [
      "p_r = gk_ll_y(xs) /  gk_ll(xs)\n",
      "p_s = gk_s_ll_y(xs) / gk_s_ll(xs)\n",
      "\n",
      "#plot(xs, p_r)\n",
      "#plot(xs, p_s)\n",
      "plot(xs, np.log(p_r  / p_s ))"
     ],
     "language": "python",
     "metadata": {},
     "outputs": [
      {
       "output_type": "pyout",
       "prompt_number": 7,
       "text": [
        "[<matplotlib.lines.Line2D at 0x3f8fe10>]"
       ]
      },
      {
       "output_type": "display_data",
       "png": "[encoded data removed]"
      }
     ],
     "prompt_number": 7
    },
    {
     "cell_type": "markdown",
     "metadata": {},
     "source": [
      "The function assumes a gradual descent for distances greater than 40 angstroms. This, again is due to the fact that our estimate for $P_r(I|d)$ reaches extremely low values. In our simulation, this would lead to a heavy penalty for any elements that are far apart. In a sense, such behaviour would be wrong since many such interaction partners would be expected. We are more interested in rewarding interaction-like configurations than penalizing non-interaction-like arrangements. Therefore, we will take a pseudocount equal to the sampled value $P_s(I|d)$ and use that to level off our function for large distance values.\n",
      "\n",
      "$$-E=log(\\frac{P_r(I|d) + P_s(I|d)}{P_s(I|d)})$$"
     ]
    },
    {
     "cell_type": "code",
     "collapsed": false,
     "input": [
      "p_r = gk_ll_y(xs) /  gk_ll(xs)\n",
      "p_s = gk_s_ll_y(xs) / gk_s_ll(xs)\n",
      "\n",
      "plot(xs, np.log((p_r + p_s)  / p_s ))"
     ],
     "language": "python",
     "metadata": {},
     "outputs": [
      {
       "output_type": "pyout",
       "prompt_number": 8,
       "text": [
        "[<matplotlib.lines.Line2D at 0x416cad0>]"
       ]
      },
      {
       "output_type": "display_data",
       "png": "[encoded data removed]"
      }
     ],
     "prompt_number": 8
    },
    {
     "cell_type": "markdown",
     "metadata": {},
     "source": [
      "These distributions can also be obtained from the `load_data` method of the Loop Loop energy function:"
     ]
    },
    {
     "cell_type": "code",
     "collapsed": false,
     "input": [
      "import corgy.builder.energy as cbe\n",
      "\n",
      "lle = cbe.LoopLoopEnergy()\n",
      "(real_data, gk_ll_y, gk_ll) = lle.load_data('fess/stats/temp.longrange.stats')[:3]   \n",
      "(sampled_data, gk_s_ll_y, gk_s_ll) = lle.load_data('fess/stats/temp.longrange.stats.sampled')[:3]\n",
      "\n",
      "xs = np.linspace(0, 50, 400)\n",
      "\n",
      "p_r = gk_ll_y(xs) /  gk_ll(xs)\n",
      "p_s = gk_s_ll_y(xs) / gk_s_ll(xs)\n",
      "\n",
      "\n",
      "plot(xs, np.log((p_r + p_s)  / p_s ))"
     ],
     "language": "python",
     "metadata": {},
     "outputs": [
      {
       "output_type": "pyout",
       "prompt_number": 9,
       "text": [
        "[<matplotlib.lines.Line2D at 0x4fc7f10>]"
       ]
      },
      {
       "output_type": "display_data",
       "png": "[encoded data removed]"
      }
     ],
     "prompt_number": 9
    },
    {
     "cell_type": "markdown",
     "metadata": {},
     "source": [
      "Or even more simple using the `LoopLoopEnergy().calc_energy(dist)` function."
     ]
    },
    {
     "cell_type": "code",
     "collapsed": false,
     "input": [
      "lle = cbe.LoopLoopEnergy()\n",
      "(lle.real_data, lle.real_d_given_i, lle.real_d, lle.real_iprobs) = lle.load_data('fess/stats/temp.longrange.stats')\n",
      "(lle.fake_data, lle.fake_d_given_i, lle.fake_d, lle.fake_iprobs) = lle.load_data('fess/stats/temp.longrange.stats.sampled')\n",
      "\n",
      "xs = np.linspace(0,50,200)\n",
      "ys = [lle.calc_energy(x) for x in xs]\n",
      "\n",
      "plot(xs, ys)"
     ],
     "language": "python",
     "metadata": {},
     "outputs": [
      {
       "output_type": "pyout",
       "prompt_number": 10,
       "text": [
        "[<matplotlib.lines.Line2D at 0x522e390>]"
       ]
      },
      {
       "output_type": "display_data",
       "png": "[encoded data removed]"
      }
     ],
     "prompt_number": 10
    },
    {
     "cell_type": "markdown",
     "metadata": {},
     "source": [
      "And now we can evaluate this energy on a real structure.\n"
     ]
    },
    {
     "cell_type": "code",
     "collapsed": false,
     "input": [
      "import corgy.graph.bulge_graph as cgb\n",
      "import corgy.builder.models as cbm\n",
      "import os.path as op\n",
      "\n",
      "bg = cgb.BulgeGraph(op.expanduser('~/coarse/1y26/graph/temp.comp'))\n",
      "sm = cbm.SpatialModel(bg)\n",
      "lle = cbe.LoopLoopEnergy()\n",
      "\n",
      "lle.eval_energy(sm)"
     ],
     "language": "python",
     "metadata": {},
     "outputs": [
      {
       "output_type": "stream",
       "stream": "stderr",
       "text": [
        "to_remove, loop: ('b2', ['b2', 's1', 'b0', 's0', 'b5', 's2'])\n"
       ]
      },
      {
       "output_type": "pyout",
       "prompt_number": 11,
       "text": [
        "array([-1.44854531])"
       ]
      }
     ],
     "prompt_number": 11
    },
    {
     "cell_type": "markdown",
     "metadata": {},
     "source": [
      "And we can try and sample structures using this energy function. We also want to avoid clashes and unrealistic junctions, so we'll add the `StemVirtualResClashEnergy` to take care of the former and the `RoughJunctionClosureEnergy` to take care of the latter. These energies need the virtual residues to be calculated, so that will be done after they are created. These energies will be combined with the LoopLoopEnergy using the `CombinedEnergy` function.\n"
     ]
    },
    {
     "cell_type": "code",
     "collapsed": false,
     "input": [
      "import corgy.graph.graph_pdb as cgg\n",
      "\n",
      "ce = cbe.CombinedEnergy([cbe.StemVirtualResClashEnergy(),\n",
      "                         cbe.RoughJunctionClosureEnergy(),\n",
      "                         cbe.LoopLoopEnergy()])\n",
      "\n",
      "ce.eval_energy(sm)"
     ],
     "language": "python",
     "metadata": {},
     "outputs": [
      {
       "output_type": "pyout",
       "prompt_number": 12,
       "text": [
        "array([-1.44854531])"
       ]
      }
     ],
     "prompt_number": 12
    },
    {
     "cell_type": "markdown",
     "metadata": {},
     "source": [
      "Next we'll need to create the sampler and do a few sampling steps. Additionally, a statistic collecting class will also be created to display some information about each sampling step."
     ]
    },
    {
     "cell_type": "code",
     "collapsed": false,
     "input": [
      "import corgy.builder.sampling as cbs\n",
      "\n",
      "stats = cbs.SamplingStatistics(sm, plotter=None, \n",
      "                              plot_color=None, \n",
      "                              silent=False, \n",
      "                              output_file=None, \n",
      "                              save_n_best = 2)\n",
      "sampler = cbs.MCMCSampler(sm, ce, stats)"
     ],
     "language": "python",
     "metadata": {},
     "outputs": [
      {
       "output_type": "stream",
       "stream": "stderr",
       "text": [
        "done loading stats\n",
        "Error sampling 5' b4 of size 1. No available statistics."
       ]
      },
      {
       "output_type": "stream",
       "stream": "stderr",
       "text": [
        "\n"
       ]
      }
     ],
     "prompt_number": 13
    },
    {
     "cell_type": "code",
     "collapsed": false,
     "input": [
      "for i in range(8):\n",
      "    sampler.step()"
     ],
     "language": "python",
     "metadata": {},
     "outputs": [
      {
       "output_type": "stream",
       "stream": "stdout",
       "text": [
        "native_energy [1y26 71]:   1     0  9.745 | min:  0.00 ( 0.00)  9.75 | extreme_rmsds:  9.75  9.75\n",
        "native_energy [1y26 71]:   2     0  9.745 | min:  0.00 ( 0.00)  9.75 | extreme_rmsds:  9.75  9.75\n",
        "native_energy [1y26 71]:   3 -1.04  4.827 | min: -1.04 ( 0.00)  4.83 | extreme_rmsds:  4.83  9.75"
       ]
      },
      {
       "output_type": "stream",
       "stream": "stdout",
       "text": [
        "\n",
        "native_energy [1y26 71]:   4 -1.04  4.827 | min: -1.04 ( 0.00)  4.83 | extreme_rmsds:  4.83  9.75"
       ]
      },
      {
       "output_type": "stream",
       "stream": "stdout",
       "text": [
        "\n",
        "native_energy [1y26 71]:   5 -1.04  4.827 | min: -1.04 ( 0.00)  4.83 | extreme_rmsds:  4.83  9.75\n",
        "native_energy [1y26 71]:   6 -0.842  4.827 | min: -1.04 ( 0.00)  4.83 | extreme_rmsds:  4.83  9.75"
       ]
      },
      {
       "output_type": "stream",
       "stream": "stdout",
       "text": [
        "\n",
        "native_energy [1y26 71]:   7 -0.842  4.827 | min: -1.04 ( 0.00)  4.83 | extreme_rmsds:  4.83  9.75"
       ]
      },
      {
       "output_type": "stream",
       "stream": "stdout",
       "text": [
        "\n",
        "native_energy [1y26 71]:   8 -0.842  4.827 | min: -1.04 ( 0.00)  4.83 | extreme_rmsds:  4.83  9.75"
       ]
      },
      {
       "output_type": "stream",
       "stream": "stdout",
       "text": [
        "\n"
       ]
      }
     ],
     "prompt_number": 14
    },
    {
     "cell_type": "markdown",
     "metadata": {},
     "source": [
      "## Stem Stem Orientation Energy ##\n",
      "\n",
      "A cursory observation of various pdb structures would seem to indicate that many of their helices are co-axial. This is supported by studies such as [CITATION]. To create an energy function based around this, we will calculate the relative stem orientation statistics for a real structure (1JJ2) and for a sampled version of the real structure and then use the sample as a reference point for actual energy function."
     ]
    },
    {
     "cell_type": "code",
     "collapsed": false,
     "input": [
      "sse = cbe.StemStemOrientationEnergy([2])\n",
      "\n",
      "sse.real_data = sse.load_stem_stem_data('fess/stats/stem_stem_orientations.csv')\n",
      "sse.fake_data = sse.load_stem_stem_data('fess/stats/stem_stem_orientations_sampled.csv')\n",
      "\n",
      "xs = np.linspace(0, math.pi, 50)\n",
      "\n",
      "ys_r = sse.real_data(xs)\n",
      "ys_s = sse.fake_data(xs)\n",
      "\n",
      "plot(xs, ys_r)\n",
      "plot(xs, ys_s)"
     ],
     "language": "python",
     "metadata": {},
     "outputs": [
      {
       "output_type": "pyout",
       "prompt_number": 15,
       "text": [
        "[<matplotlib.lines.Line2D at 0xee05b90>]"
       ]
      },
      {
       "output_type": "display_data",
       "png": "[encoded data removed]"
      }
     ],
     "prompt_number": 15
    },
    {
     "cell_type": "markdown",
     "metadata": {},
     "source": [
      "The visualization above shows that co-axisal stems are more represented in real structures than in sampled structures. We can also visualize the actual energy function:\n",
      "\n",
      "$$ -E = log(\\frac{P_r(\\theta)}{P_s(\\theta)})$$"
     ]
    },
    {
     "cell_type": "code",
     "collapsed": false,
     "input": [
      "plot(xs, np.log(ys_r) - np.log(ys_s))"
     ],
     "language": "python",
     "metadata": {},
     "outputs": [
      {
       "output_type": "pyout",
       "prompt_number": 16,
       "text": [
        "[<matplotlib.lines.Line2D at 0x1330da10>]"
       ]
      },
      {
       "output_type": "display_data",
       "png": "[encoded data removed]"
      }
     ],
     "prompt_number": 16
    },
    {
     "cell_type": "markdown",
     "metadata": {},
     "source": [
      "And evaluate it on the native structure."
     ]
    },
    {
     "cell_type": "code",
     "collapsed": false,
     "input": [
      "ce = cbe.CombinedEnergy([cbe.StemVirtualResClashEnergy(),\n",
      "                         cbe.RoughJunctionClosureEnergy(),\n",
      "                         cbe.StemStemOrientationEnergy([2])])\n",
      "bg = cgb.BulgeGraph(op.expanduser('~/coarse/1y26/graph/temp.comp'))\n",
      "sm = cbm.SpatialModel(bg)\n",
      "stats = cbs.SamplingStatistics(sm, plotter=None, \n",
      "                              plot_color=None, \n",
      "                              silent=False, \n",
      "                              output_file=None, \n",
      "                              save_n_best = 2)\n",
      "sampler = cbs.MCMCSampler(sm, ce, stats)\n",
      "for s in sm.bg.stems():\n",
      "    cgg.add_virtual_residues(sm.bg, s)\n",
      "\n",
      "ce.eval_energy(sm)"
     ],
     "language": "python",
     "metadata": {},
     "outputs": [
      {
       "output_type": "stream",
       "stream": "stderr",
       "text": [
        "to_remove, loop: ('b2', ['b2', 's1', 'b0', 's0', 'b5', 's2'])\n",
        "Error sampling 5' b4 of size 1. No available statistics."
       ]
      },
      {
       "output_type": "stream",
       "stream": "stderr",
       "text": [
        "\n"
       ]
      },
      {
       "output_type": "pyout",
       "prompt_number": 17,
       "text": [
        "array([ 400000.45687408])"
       ]
      }
     ],
     "prompt_number": 17
    },
    {
     "cell_type": "markdown",
     "metadata": {},
     "source": [
      "Sampling using this energy function can be performed just like with the previous one."
     ]
    },
    {
     "cell_type": "code",
     "collapsed": false,
     "input": [
      "for i in range(8):\n",
      "    sampler.step()"
     ],
     "language": "python",
     "metadata": {},
     "outputs": [
      {
       "output_type": "stream",
       "stream": "stdout",
       "text": [
        "native_energy [1y26 71]:   1 4e+05  6.446 | min: 400000.46 (400000.46)  6.45 | extreme_rmsds:  6.45  6.45\n",
        "native_energy [1y26 71]:   2 -0.164  10.464 | min: -0.16 (400000.46) 10.46 | extreme_rmsds:  6.45 10.46"
       ]
      },
      {
       "output_type": "stream",
       "stream": "stdout",
       "text": [
        "\n",
        "native_energy [1y26 71]:   3 -0.22  13.680 | min: -0.22 (400000.46) 13.68 | extreme_rmsds:  6.45 13.68"
       ]
      },
      {
       "output_type": "stream",
       "stream": "stdout",
       "text": [
        "\n",
        "native_energy [1y26 71]:   4 -0.22  13.680 | min: -0.22 (400000.46) 13.68 | extreme_rmsds:  6.45 13.68"
       ]
      },
      {
       "output_type": "stream",
       "stream": "stdout",
       "text": [
        "\n",
        "native_energy [1y26 71]:   5 -0.22  13.680 | min: -0.22 (400000.46) 13.68 | extreme_rmsds:  6.45 13.68"
       ]
      },
      {
       "output_type": "stream",
       "stream": "stdout",
       "text": [
        "\n",
        "native_energy [1y26 71]:   6 -0.22  13.680 | min: -0.22 (400000.46) 13.68 | extreme_rmsds:  6.45 13.68"
       ]
      },
      {
       "output_type": "stream",
       "stream": "stdout",
       "text": [
        "\n",
        "native_energy [1y26 71]:   7 0.447  6.831 | min: -0.22 (400000.46) 13.68 | extreme_rmsds:  6.45 13.68"
       ]
      },
      {
       "output_type": "stream",
       "stream": "stdout",
       "text": [
        "\n",
        "native_energy [1y26 71]:   8 0.447  6.831 | min: -0.22 (400000.46) 13.68 | extreme_rmsds:  6.45 13.68"
       ]
      },
      {
       "output_type": "stream",
       "stream": "stdout",
       "text": [
        "\n"
       ]
      }
     ],
     "prompt_number": 18
    },
    {
     "cell_type": "code",
     "collapsed": false,
     "input": [
      "ce = cbe.CombinedEnergy([cbe.StemVirtualResClashEnergy(),\n",
      "                         cbe.RoughJunctionClosureEnergy(),\n",
      "                         cbe.StemStemOrientationEnergy([2]),\n",
      "                         cbe.LoopLoopEnergy()])\n",
      "bg = cgb.BulgeGraph(op.expanduser('~/coarse/1y26/graph/temp.comp'))\n",
      "sm = cbm.SpatialModel(bg)\n",
      "stats = cbs.SamplingStatistics(sm, plotter=None, \n",
      "                              plot_color=None, \n",
      "                              silent=False, \n",
      "                              output_file=None, \n",
      "                              save_n_best = 2)\n",
      "    \n",
      "print cbe.StemStemOrientationEnergy([2]).eval_energy(sm)\n",
      "print cbe.LoopLoopEnergy().eval_energy(sm)\n",
      "print ce.eval_energy(sm)\n",
      "\n",
      "sampler = cbs.MCMCSampler(sm, ce, stats)\n",
      "for s in sm.bg.stems():\n",
      "    cgg.add_virtual_residues(sm.bg, s)\n",
      "\n"
     ],
     "language": "python",
     "metadata": {},
     "outputs": [
      {
       "output_type": "stream",
       "stream": "stdout",
       "text": [
        "[ 0.23096986]\n",
        "[-1.44854531]"
       ]
      },
      {
       "output_type": "stream",
       "stream": "stdout",
       "text": [
        "\n",
        "[-1.21757545]"
       ]
      },
      {
       "output_type": "stream",
       "stream": "stderr",
       "text": [
        "to_remove, loop: ('b2', ['b2', 's1', 'b0', 's0', 'b5', 's2'])\n",
        "Error sampling 5' b4 of size 1. No available statistics."
       ]
      },
      {
       "output_type": "stream",
       "stream": "stdout",
       "text": [
        "\n"
       ]
      },
      {
       "output_type": "stream",
       "stream": "stderr",
       "text": [
        "\n"
       ]
      }
     ],
     "prompt_number": 19
    },
    {
     "cell_type": "markdown",
     "metadata": {},
     "source": [
      "Now we want to sample a some structures using the `LoopLoopEnergy` and the constraint energies so that we have a background distribution we can use for sampling with the `StemStemOrienationEnergy`. Before we do that, we can look at whether the `LoopLoopEnergy` sampled `1jj2` structure shows a different distribution of stem stem orientations.\n",
      "\n",
      "To do the background sampling, we ran the following command, which takes a long time to run and will therefore be omitted from this notebook:\n",
      "\n",
      "`/usr/bin/time ./bobbins/scripts/gibbs.py --loop-energy -m -i 6000 --save-n-best 10 --output-dir sampled_loop_energy/ ~/coarse/1jj2/graph/temp.comp;`\n",
      "\n",
      "The stem stem orientations were extracted using these commands:"
     ]
    },
    {
     "cell_type": "code",
     "collapsed": false,
     "input": [
      "%%bash\n",
      "\n",
      "./fess/scripts/stem_stem_orientations.py -l sampled_constraint_energy/best0.coord > fess/stats/stem_stem_orientations_sampled.csv\n",
      "#./fess/scripts/stem_stem_orientations.py  > fess/stats/stem_stem_orientations_sampled.csv\n",
      "./fess/scripts/stem_stem_orientations.py -l sampled_loop_energy.bak/best0.coord > fess/stats/stem_stem_orientations_loop_sampled.csv"
     ],
     "language": "python",
     "metadata": {},
     "outputs": [],
     "prompt_number": 26
    },
    {
     "cell_type": "markdown",
     "metadata": {},
     "source": [
      "We should take a look to make sure that the stems are packed in a manner similar to that of real stems. To do that, we'll analyze the distances between the closest points of two stems."
     ]
    },
    {
     "cell_type": "code",
     "collapsed": false,
     "input": [
      "sse = cbe.StemStemOrientationEnergy([0])\n",
      "\n",
      "sse.max_dist = 1000\n",
      "\n",
      "sse.real_data = sse.load_stem_stem_data('fess/stats/stem_stem_orientations.csv')\n",
      "sse.fake_data = sse.load_stem_stem_data('fess/stats/stem_stem_orientations_sampled.csv')\n",
      "#sse.fake_loop_data = sse.load_stem_stem_data('fess/stats/stem_stem_orientations_loop_sampled.csv')\n",
      "\n",
      "xs = np.linspace(0, 300, 200)\n",
      "\n",
      "ys_r = sse.real_data(xs)\n",
      "ys_s = sse.fake_data(xs)\n",
      "\n",
      "ax = pylab.axes()\n",
      "\n",
      "ax.plot(xs, ys_r, 'b', label='native')\n",
      "ax.plot(xs, ys_s, 'g', label='constraint sampled')\n",
      "\n",
      "ax.legend(loc='upper center')\n",
      "ax.set_xlabel(\"distance\")\n",
      "ax.set_ylabel(\"density\")"
     ],
     "language": "python",
     "metadata": {},
     "outputs": [
      {
       "output_type": "pyout",
       "prompt_number": 29,
       "text": [
        "<matplotlib.text.Text at 0x1c74ffd0>"
       ]
      },
      {
       "output_type": "display_data",
       "png": "[encoded data removed]"
      }
     ],
     "prompt_number": 29
    },
    {
     "cell_type": "markdown",
     "metadata": {},
     "source": [
      "Evidently, and as may be expected, the stems are more spread out in the case of the sampled structures. This means, that we should first apply an energy function to correct for this effect:\n",
      "\n",
      "     /usr/bin/time ./bobbins/scripts/gibbs.py --stem-stem0 -m -i 6000 --save-n-best 10 --step-save --output-dir sampled_stem_stem0/ ~/coarse/1jj2/graph/temp.comp;\n",
      "\n",
      "\n"
     ]
    },
    {
     "cell_type": "code",
     "collapsed": false,
     "input": [
      "sse = cbe.StemStemOrientationEnergy([2])\n",
      "\n",
      "sse.real_data = sse.load_stem_stem_data('fess/stats/stem_stem_orientations.csv')\n",
      "sse.fake_data = sse.load_stem_stem_data('fess/stats/stem_stem_orientations_sampled.csv')\n",
      "sse.fake_loop_data = sse.load_stem_stem_data('fess/stats/stem_stem_orientations_loop_sampled.csv')\n",
      "\n",
      "xs = np.linspace(0, math.pi, 50)\n",
      "\n",
      "ys_r = sse.real_data(xs)\n",
      "ys_s = sse.fake_data(xs)\n",
      "ys_sl = sse.fake_loop_data(xs)\n",
      "\n",
      "ax = pylab.axes()\n",
      "\n",
      "ax.plot(xs, ys_r, 'b', label='native')\n",
      "ax.plot(xs, ys_s, 'g', label='constraint sampled')\n",
      "ax.plot(xs, ys_sl, 'r', label='loop+constraint sampled')\n",
      "\n",
      "ax.legend(loc='upper center')\n",
      "ax.set_xlabel(\"distance\")\n",
      "ax.set_ylabel(\"density\")"
     ],
     "language": "python",
     "metadata": {},
     "outputs": [
      {
       "output_type": "pyout",
       "prompt_number": 25,
       "text": [
        "<matplotlib.text.Text at 0x17059990>"
       ]
      },
      {
       "output_type": "display_data",
       "png": "[encoded data removed]"
      }
     ],
     "prompt_number": 25
    },
    {
     "cell_type": "markdown",
     "metadata": {},
     "source": [
      "It is immediately clear that sampling using the `LoopLoopEnergy` (red line) has greatly shifted the distributin of stem-stem orientations towards the parallel orientation in relation to sampling using only the constraint energy (green line).\n",
      "\n",
      "$$P(l,s)=P(l|s)P(s)$$"
     ]
    },
    {
     "cell_type": "markdown",
     "metadata": {},
     "source": [
      "## Threading a Coarse Grain Structure onto an All-Atom Model ##\n",
      "\n",
      "There are two instances when it is necessary to convert an all-atom model to a coarse grain structure:\n",
      "\n",
      "1. To determine how native structures look in their coarse grain represenation.\n",
      "2. To compare predictions from all-atom generating programs to the coarse-grain predictions generated by ernwin\n",
      "\n",
      "Fortunately, this is done rather easily using the `add_3d_information.py` script.\n",
      "\n",
      "The structures sampled by rosetta are located in `/scr/plastilin/pkerp/projects/rosetta_benchmark/tests.good/`"
     ]
    },
    {
     "cell_type": "code",
     "collapsed": false,
     "input": [
      "import os.path as op\n",
      "import shutil as sh\n",
      "import os\n",
      "import csv\n",
      "import corgy.graph.graph_pdb as cgg\n",
      "import Bio.PDB as bpdb\n",
      "\n",
      "basename = '/scr/plastilin/pkerp/projects/rosetta_benchmark'\n",
      "coarse_dir = op.expanduser('~/coarse/')\n",
      "\n",
      "def create_coarse_grain_dirs(base_coarse):\n",
      "    if not op.exists(op.join(base_coarse, 'prepare')):\n",
      "        os.makedirs(op.join(base_coarse, 'prepare'))\n",
      "    if not op.exists(op.join(base_coarse, 'graph')):\n",
      "        os.makedirs(op.join(base_coarse, 'graph'))\n",
      "    if not op.exists(op.join(base_coarse, 'pymol')):\n",
      "        os.makedirs(op.join(base_coarse, 'pymol'))\n",
      "\n",
      "# the min_energies file contains information about which test\n",
      "# had the lowest energy in format:\n",
      "# pdb_name test_number energy rmsd\n",
      "with open(op.join(basename, 'min_energies.csv'), 'r') as f:\n",
      "    r = csv.reader(f, delimiter=' ')\n",
      "    for row in r:\n",
      "        pdb_name = row[0]\n",
      "        test_no = row[1]\n",
      "            \n",
      "        pdb_filename = op.join(basename, 'tests.good/%s/%s/generated-structures/S_0.pdb' % (pdb_name, test_no))\n",
      "\n",
      "        rosetta_coarse_dir = op.join(coarse_dir, '%s_rosetta' % (pdb_name))\n",
      "        create_coarse_grain_dirs(rosetta_coarse_dir)\n",
      "        \n",
      "        # the rosetta prediction becomes the base pdb file\n",
      "        sh.copyfile(pdb_filename, op.join(rosetta_coarse_dir, 'prepare', 'temp.pdb'))\n",
      "                    \n",
      "        with warnings.catch_warnings():\n",
      "            warnings.simplefilter('ignore')\n",
      "            s = bpdb.PDBParser().get_structure('temp', pdb_filename)\n",
      "            chain = list(s.get_chains())[0]\n",
      "        \n",
      "        # the bulge graph will be the one used by the native structure\n",
      "        bg = cgb.BulgeGraph(op.join(coarse_dir, pdb_name, 'graph/temp.comp'))\n",
      "        \n",
      "        # we just need to change the information about where the stems, bulges and loops\n",
      "        # are located\n",
      "        cgg.add_stem_information_from_pdb_chain(bg, chain)\n",
      "        cgg.add_bulge_information_from_pdb_chain(bg, chain)\n",
      "        cgg.add_loop_information_from_pdb_chain(bg, chain)\n",
      "        \n",
      "        bg.output(op.join(rosetta_coarse_dir, 'graph', 'temp.comp'))\n",
      "\n",
      "        print pdb_name, test_no, \"done\"\n"
     ],
     "language": "python",
     "metadata": {},
     "outputs": [
      {
       "output_type": "stream",
       "stream": "stdout",
       "text": [
        "1mfq"
       ]
      },
      {
       "output_type": "stream",
       "stream": "stdout",
       "text": [
        " 2 done\n",
        "3e5c"
       ]
      },
      {
       "output_type": "stream",
       "stream": "stdout",
       "text": [
        " 2 done\n",
        "4erj"
       ]
      },
      {
       "output_type": "stream",
       "stream": "stdout",
       "text": [
        " 4 done\n",
        "2hoj"
       ]
      },
      {
       "output_type": "stream",
       "stream": "stdout",
       "text": [
        " 1 done\n",
        "2gdi"
       ]
      },
      {
       "output_type": "stream",
       "stream": "stdout",
       "text": [
        " 4 done\n",
        "3d2g"
       ]
      },
      {
       "output_type": "stream",
       "stream": "stdout",
       "text": [
        " 1 done\n",
        "4aob"
       ]
      },
      {
       "output_type": "stream",
       "stream": "stdout",
       "text": [
        " 4 done\n",
        "1il2"
       ]
      },
      {
       "output_type": "stream",
       "stream": "stdout",
       "text": [
        " 2 done\n",
        "4gma"
       ]
      },
      {
       "output_type": "stream",
       "stream": "stdout",
       "text": [
        " 2 done\n",
        "1mms"
       ]
      },
      {
       "output_type": "stream",
       "stream": "stdout",
       "text": [
        " 3 done\n",
        "2du3"
       ]
      },
      {
       "output_type": "stream",
       "stream": "stdout",
       "text": [
        " 2 done\n",
        "1y26"
       ]
      },
      {
       "output_type": "stream",
       "stream": "stdout",
       "text": [
        " 4 done\n",
        "4frg"
       ]
      },
      {
       "output_type": "stream",
       "stream": "stdout",
       "text": [
        " 3 done\n",
        "2lkr"
       ]
      },
      {
       "output_type": "stream",
       "stream": "stdout",
       "text": [
        " 1 done\n",
        "1lng"
       ]
      },
      {
       "output_type": "stream",
       "stream": "stdout",
       "text": [
        " 2 done\n",
        "1dk1"
       ]
      },
      {
       "output_type": "stream",
       "stream": "stdout",
       "text": [
        " 2 done\n",
        "1fg0"
       ]
      },
      {
       "output_type": "stream",
       "stream": "stdout",
       "text": [
        " 1 done\n",
        "4frn"
       ]
      },
      {
       "output_type": "stream",
       "stream": "stdout",
       "text": [
        " 3 done\n",
        "1gid"
       ]
      },
      {
       "output_type": "stream",
       "stream": "stdout",
       "text": [
        " 4 done\n"
       ]
      }
     ],
     "prompt_number": 22
    },
    {
     "cell_type": "markdown",
     "metadata": {},
     "source": [
      "### RMSD with Rosetta Structures ###\n",
      "\n",
      "Now that the Rosetta predictions have been coarse-grained, calculating the RMSD between the rosetta predictions and the rosetta structures should be relatively straight forward."
     ]
    },
    {
     "cell_type": "code",
     "collapsed": false,
     "input": [
      "import corgy.utilities.debug as cud\n",
      "import corgy.builder.rmsd as cbr\n",
      "\n",
      "test_filename = 'test_file_list.txt'\n",
      "coarse_dir = op.expanduser('~/coarse/')\n",
      "\n",
      "pdbs = []\n",
      "\n",
      "with open(test_filename, 'r') as f:\n",
      "    for line in f:\n",
      "        parts = line.strip().split(' ')\n",
      "        pdbs += parts\n",
      "\n",
      "for pdb in pdbs:\n",
      "    rosetta_filename = op.join(coarse_dir, \"%s_rosetta/graph/temp.comp\" % (pdb))\n",
      "    native_filename = op.join(coarse_dir, \"%s/graph/temp.comp\" % (pdb))\n",
      "    \n",
      "    if not op.exists(rosetta_filename):\n",
      "        continue\n",
      "    if not op.exists(native_filename):\n",
      "        continue\n",
      "    \n",
      "    bg_rosetta = cgb.BulgeGraph(rosetta_filename)\n",
      "    bg_native = cgb.BulgeGraph(native_filename)\n",
      "    \n",
      "    centers1 = cgg.bg_virtual_residues(bg_rosetta)\n",
      "    centers2 = cgg.bg_virtual_residues(bg_native)\n",
      "    \n",
      "    r = cbr.centered_rmsd(centers1, centers2)\n",
      "    print \"%s %.2f\" % (pdb, r)\n",
      "    \n",
      "    r = cgg.bg_rmsd(bg_rosetta, bg_native)\n",
      "    "
     ],
     "language": "python",
     "metadata": {},
     "outputs": [
      {
       "output_type": "stream",
       "stream": "stdout",
       "text": [
        "1mfq 9.97\n",
        "1gid 27.31\n",
        "1y26 6.03"
       ]
      },
      {
       "output_type": "stream",
       "stream": "stdout",
       "text": [
        "\n",
        "1il2 9.29\n",
        "3e5c 5.51\n",
        "1dk1 10.75"
       ]
      },
      {
       "output_type": "stream",
       "stream": "stdout",
       "text": [
        "\n",
        "1mms 9.48\n",
        "2du3 10.80\n",
        "3d2g 12.40"
       ]
      },
      {
       "output_type": "stream",
       "stream": "stdout",
       "text": [
        "\n",
        "2hoj 9.62\n",
        "2gdi 11.19\n",
        "1lng 19.38"
       ]
      },
      {
       "output_type": "stream",
       "stream": "stdout",
       "text": [
        "\n",
        "4frg 12.41\n",
        "4frn 15.46"
       ]
      },
      {
       "output_type": "stream",
       "stream": "stdout",
       "text": [
        "\n",
        "4gma 29.10\n",
        "4erj 23.28"
       ]
      },
      {
       "output_type": "stream",
       "stream": "stdout",
       "text": [
        "\n",
        "4aob 22.61\n",
        "2lkr 11.98"
       ]
      },
      {
       "output_type": "stream",
       "stream": "stdout",
       "text": [
        "\n",
        "1fg0 50.02"
       ]
      },
      {
       "output_type": "stream",
       "stream": "stdout",
       "text": [
        "\n"
       ]
      }
     ],
     "prompt_number": 23
    },
    {
     "cell_type": "markdown",
     "metadata": {},
     "source": [
      "### Ernwin Structures RMSD ###\n",
      "\n"
     ]
    },
    {
     "cell_type": "markdown",
     "metadata": {},
     "source": [
      "## Timing Rosetta and Ernwin ##\n",
      "\n",
      "How many MCMC steps can be done per minute?"
     ]
    },
    {
     "cell_type": "markdown",
     "metadata": {},
     "source": [
      "## Creating a Movie from the Sampling\n",
      "\n",
      "Sampling a set of structures should be run using the --step-save parameter:\n",
      "\n",
      "    /usr/bin/time ./bobbins/scripts/gibbs.py -c -m -i 6000 --save-n-best 10 --step-save --output-dir sampled_constraint_energy/ ~/coarse/1jj2/graph/temp.comp;\n",
      "\n",
      "The output, in this case in `sampled_constraint_energy` will contain a bunch of files called `step*.coord`. Each of these contains the coordinates of the structure at a certain step of the simulation. These can be combined to create a movie using the following command:\n",
      "\n",
      "    find sampled_constraint_energy/ -name \"step*.coord\" | sort | head -n 200 | xargs ./fess/scripts/coordinates_to_pymol.py --movie > ss.pym; pymol temp.pml"
     ]
    },
    {
     "cell_type": "code",
     "collapsed": false,
     "input": [],
     "language": "python",
     "metadata": {},
     "outputs": [],
     "prompt_number": 23
    }
   ],
   "metadata": {}
  }
 ]
}