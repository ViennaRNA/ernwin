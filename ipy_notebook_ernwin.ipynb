{
 "metadata": {
  "name": "ipy_notebook_ernwin"
 },
 "nbformat": 3,
 "nbformat_minor": 0,
 "worksheets": [
  {
   "cells": [
    {
     "cell_type": "markdown",
     "metadata": {},
     "source": [
      "### Set up some stuff ###\n",
      "\n",
      "First we want to reload all modules upon execution so that we can play around with the code as we create it."
     ]
    },
    {
     "cell_type": "code",
     "collapsed": false,
     "input": [
      "%load_ext autoreload\n",
      "%autoreload 2\n",
      "%pylab inline"
     ],
     "language": "python",
     "metadata": {},
     "outputs": [
      {
       "output_type": "stream",
       "stream": "stdout",
       "text": [
        "\n",
        "Welcome to pylab, a matplotlib-based Python environment [backend: module://IPython.zmq.pylab.backend_inline].\n",
        "For more information, type 'help(pylab)'.\n"
       ]
      }
     ],
     "prompt_number": 96
    },
    {
     "cell_type": "code",
     "collapsed": false,
     "input": [
      "import forgi.utilities.debug as cud"
     ],
     "language": "python",
     "metadata": {},
     "outputs": [],
     "prompt_number": 97
    },
    {
     "cell_type": "markdown",
     "metadata": {},
     "source": [
      "## Definition of the Hairpin Coarse Grain Element ##\n",
      "\n",
      "The coarse grain element representing a hairpin loop is a line segment starting at the end of the stem to which the hairpin is attached and ending at the location of the C3' atom furthest from the starting point. A hairpin loop always has one and only one neighbor which has to be a stem."
     ]
    },
    {
     "cell_type": "markdown",
     "metadata": {},
     "source": [
      "## Hairpin - Hairpin Interactions ##\n",
      "\n",
      "The existence of an interaction between two elements is determined by the presence of a hydrogen bond between any two atoms within the two elements. If the elements are connected in the skeleton graph, then the interaction is not considered long-range. Statistics for all interacting elements are collected from the crystal structure of the ribosome (1JJ2). The distances between two interacting elements is the length of the shortest line segment that can connect any two points on the two elements."
     ]
    },
    {
     "cell_type": "code",
     "collapsed": false,
     "input": [
      "import pandas as pa\n",
      "\n",
      "def load_raw_interactions(filename):\n",
      "    t = pa.read_csv(filename, header=None, sep=' ')\n",
      "    t.columns = ['key1', 'type1', 'len1', 'key2', 'type2', \n",
      "                 'len2', 'dist', 'seq1', 'seq2', 'longrange', 'angle']\n",
      "    \n",
      "    return t"
     ],
     "language": "python",
     "metadata": {},
     "outputs": [],
     "prompt_number": 104
    },
    {
     "cell_type": "markdown",
     "metadata": {},
     "source": [
      "The long range stats are calculated using the following command:\n",
      "\n",
      "```\n",
      "python fess/scripts/long_range_distances.py random3/1jj2/best0.coord -a > fess/stats/temp.longrange.stats.sampled\n",
      "python fess/scripts/long_range_distances.py ~/doarse/1jj2/temp.cg -a > fess/stats/temp.longrange.stats\n",
      "```"
     ]
    },
    {
     "cell_type": "code",
     "collapsed": false,
     "input": [
      "t = load_raw_interactions('fess/stats/temp.longrange.stats')"
     ],
     "language": "python",
     "metadata": {},
     "outputs": [],
     "prompt_number": 105
    },
    {
     "cell_type": "code",
     "collapsed": false,
     "input": [
      "t.head()"
     ],
     "language": "python",
     "metadata": {},
     "outputs": [
      {
       "html": [
        "<div style=\"max-height:1000px;max-width:1500px;overflow:auto;\">\n",
        "<table border=\"1\" class=\"dataframe\">\n",
        "  <thead>\n",
        "    <tr style=\"text-align: right;\">\n",
        "      <th></th>\n",
        "      <th>key1</th>\n",
        "      <th>type1</th>\n",
        "      <th>len1</th>\n",
        "      <th>key2</th>\n",
        "      <th>type2</th>\n",
        "      <th>len2</th>\n",
        "      <th>dist</th>\n",
        "      <th>seq1</th>\n",
        "      <th>seq2</th>\n",
        "      <th>longrange</th>\n",
        "      <th>angle</th>\n",
        "    </tr>\n",
        "  </thead>\n",
        "  <tbody>\n",
        "    <tr>\n",
        "      <th>0</th>\n",
        "      <td> h47</td>\n",
        "      <td> h</td>\n",
        "      <td> 2</td>\n",
        "      <td> h46</td>\n",
        "      <td> h</td>\n",
        "      <td> 8</td>\n",
        "      <td> 94.995634</td>\n",
        "      <td> x</td>\n",
        "      <td> x</td>\n",
        "      <td> N</td>\n",
        "      <td> 1.257391</td>\n",
        "    </tr>\n",
        "    <tr>\n",
        "      <th>1</th>\n",
        "      <td> h47</td>\n",
        "      <td> h</td>\n",
        "      <td> 2</td>\n",
        "      <td> h45</td>\n",
        "      <td> h</td>\n",
        "      <td> 7</td>\n",
        "      <td> 85.555949</td>\n",
        "      <td> x</td>\n",
        "      <td> x</td>\n",
        "      <td> N</td>\n",
        "      <td> 1.013714</td>\n",
        "    </tr>\n",
        "    <tr>\n",
        "      <th>2</th>\n",
        "      <td> h47</td>\n",
        "      <td> h</td>\n",
        "      <td> 2</td>\n",
        "      <td> h44</td>\n",
        "      <td> h</td>\n",
        "      <td> 3</td>\n",
        "      <td> 53.406089</td>\n",
        "      <td> x</td>\n",
        "      <td> x</td>\n",
        "      <td> N</td>\n",
        "      <td> 0.662546</td>\n",
        "    </tr>\n",
        "    <tr>\n",
        "      <th>3</th>\n",
        "      <td> h47</td>\n",
        "      <td> h</td>\n",
        "      <td> 2</td>\n",
        "      <td> h43</td>\n",
        "      <td> h</td>\n",
        "      <td> 6</td>\n",
        "      <td> 26.896173</td>\n",
        "      <td> x</td>\n",
        "      <td> x</td>\n",
        "      <td> N</td>\n",
        "      <td> 1.570796</td>\n",
        "    </tr>\n",
        "    <tr>\n",
        "      <th>4</th>\n",
        "      <td> h47</td>\n",
        "      <td> h</td>\n",
        "      <td> 2</td>\n",
        "      <td> h42</td>\n",
        "      <td> h</td>\n",
        "      <td> 4</td>\n",
        "      <td> 32.183281</td>\n",
        "      <td> x</td>\n",
        "      <td> x</td>\n",
        "      <td> N</td>\n",
        "      <td> 1.607841</td>\n",
        "    </tr>\n",
        "  </tbody>\n",
        "</table>\n",
        "</div>"
       ],
       "output_type": "pyout",
       "prompt_number": 106,
       "text": [
        "  key1 type1  len1 key2 type2  len2       dist seq1 seq2 longrange     angle\n",
        "0  h47     h     2  h46     h     8  94.995634    x    x         N  1.257391\n",
        "1  h47     h     2  h45     h     7  85.555949    x    x         N  1.013714\n",
        "2  h47     h     2  h44     h     3  53.406089    x    x         N  0.662546\n",
        "3  h47     h     2  h43     h     6  26.896173    x    x         N  1.570796\n",
        "4  h47     h     2  h42     h     4  32.183281    x    x         N  1.607841"
       ]
      }
     ],
     "prompt_number": 106
    },
    {
     "cell_type": "code",
     "collapsed": false,
     "input": [
      "# loop-loop interactions\n",
      "tl = t[np.logical_and(t['type1'] == 'h', t['type2'] == 'h')]\n",
      "tly = tl[tl['longrange'] == 'Y']\n",
      "tln = tl[tl['longrange'] == 'N']\n",
      "\n",
      "print len(tly.index), len(tln.index), len(t.index)\n",
      "tly.head()"
     ],
     "language": "python",
     "metadata": {},
     "outputs": [
      {
       "output_type": "stream",
       "stream": "stdout",
       "text": [
        "38 4122 188480\n"
       ]
      },
      {
       "html": [
        "<div style=\"max-height:1000px;max-width:1500px;overflow:auto;\">\n",
        "<table border=\"1\" class=\"dataframe\">\n",
        "  <thead>\n",
        "    <tr style=\"text-align: right;\">\n",
        "      <th></th>\n",
        "      <th>key1</th>\n",
        "      <th>type1</th>\n",
        "      <th>len1</th>\n",
        "      <th>key2</th>\n",
        "      <th>type2</th>\n",
        "      <th>len2</th>\n",
        "      <th>dist</th>\n",
        "      <th>seq1</th>\n",
        "      <th>seq2</th>\n",
        "      <th>longrange</th>\n",
        "      <th>angle</th>\n",
        "    </tr>\n",
        "  </thead>\n",
        "  <tbody>\n",
        "    <tr>\n",
        "      <th>501 </th>\n",
        "      <td> h46</td>\n",
        "      <td> h</td>\n",
        "      <td> 8</td>\n",
        "      <td> h15</td>\n",
        "      <td> h</td>\n",
        "      <td> 8</td>\n",
        "      <td> 10.319060</td>\n",
        "      <td> x</td>\n",
        "      <td> x</td>\n",
        "      <td> Y</td>\n",
        "      <td> 1.027358</td>\n",
        "    </tr>\n",
        "    <tr>\n",
        "      <th>627 </th>\n",
        "      <td> h46</td>\n",
        "      <td> h</td>\n",
        "      <td> 8</td>\n",
        "      <td> h25</td>\n",
        "      <td> h</td>\n",
        "      <td> 5</td>\n",
        "      <td> 12.307645</td>\n",
        "      <td> x</td>\n",
        "      <td> x</td>\n",
        "      <td> Y</td>\n",
        "      <td> 1.000252</td>\n",
        "    </tr>\n",
        "    <tr>\n",
        "      <th>1001</th>\n",
        "      <td> h45</td>\n",
        "      <td> h</td>\n",
        "      <td> 7</td>\n",
        "      <td> h58</td>\n",
        "      <td> h</td>\n",
        "      <td> 7</td>\n",
        "      <td> 14.531255</td>\n",
        "      <td> x</td>\n",
        "      <td> x</td>\n",
        "      <td> Y</td>\n",
        "      <td> 1.570796</td>\n",
        "    </tr>\n",
        "    <tr>\n",
        "      <th>1798</th>\n",
        "      <td> h43</td>\n",
        "      <td> h</td>\n",
        "      <td> 6</td>\n",
        "      <td> h11</td>\n",
        "      <td> h</td>\n",
        "      <td> 7</td>\n",
        "      <td> 15.159266</td>\n",
        "      <td> x</td>\n",
        "      <td> x</td>\n",
        "      <td> Y</td>\n",
        "      <td> 1.297930</td>\n",
        "    </tr>\n",
        "    <tr>\n",
        "      <th>1860</th>\n",
        "      <td> h43</td>\n",
        "      <td> h</td>\n",
        "      <td> 6</td>\n",
        "      <td> h55</td>\n",
        "      <td> h</td>\n",
        "      <td> 7</td>\n",
        "      <td> 19.204572</td>\n",
        "      <td> x</td>\n",
        "      <td> x</td>\n",
        "      <td> Y</td>\n",
        "      <td> 1.224916</td>\n",
        "    </tr>\n",
        "  </tbody>\n",
        "</table>\n",
        "</div>"
       ],
       "output_type": "pyout",
       "prompt_number": 108,
       "text": [
        "     key1 type1  len1 key2 type2  len2       dist seq1 seq2 longrange     angle\n",
        "501   h46     h     8  h15     h     8  10.319060    x    x         Y  1.027358\n",
        "627   h46     h     8  h25     h     5  12.307645    x    x         Y  1.000252\n",
        "1001  h45     h     7  h58     h     7  14.531255    x    x         Y  1.570796\n",
        "1798  h43     h     6  h11     h     7  15.159266    x    x         Y  1.297930\n",
        "1860  h43     h     6  h55     h     7  19.204572    x    x         Y  1.224916"
       ]
      }
     ],
     "prompt_number": 108
    },
    {
     "cell_type": "markdown",
     "metadata": {},
     "source": [
      "Calculate the probability of finding an interaction given a loop of particular length:\n",
      "\n",
      "$$ P(I|l) = \\frac{P(l|I) * P(I)}{P(l)} $$\n",
      "\n",
      "All of the values in this equation are estimated from interacting hairpin loops found in the ribosome structure (1JJ2). $P(l|I)$ is the proportion of all hairpins that are involved in any interaction which have a length $l$. $P(I)$ is the fraction of all hairpins that are involved in any interaction, and $P(l)$ is the fraction of hairpins which have a length $l$."
     ]
    },
    {
     "cell_type": "code",
     "collapsed": false,
     "input": [
      "def probs_by_length(tl):\n",
      "    tly = tl[tl['longrange'] == 'Y']\n",
      "    tln = tl[tl['longrange'] == 'N']\n",
      "    \n",
      "    nodes = dict()\n",
      "    node_lengths = dict()\n",
      "    \n",
      "    for r in tl[['key1', 'len1', 'longrange']].as_matrix():\n",
      "        if r[2] == 'Y':\n",
      "            nodes[r[0]] = 'Y'\n",
      "            node_lengths[r[0]] = r[1]\n",
      "            continue\n",
      "        \n",
      "        if r[0] not in nodes:\n",
      "            nodes[r[0]] = 'N'\n",
      "            node_lengths[r[0]] = r[1]\n",
      "            \n",
      "    lengths_y = [node_lengths[i] for i in nodes.keys() if nodes[i] == 'Y']\n",
      "    lengths_n = [node_lengths[i] for i in nodes.keys() if nodes[i] == 'N']\n",
      "    \n",
      "    # add pseudocounts\n",
      "    lengths_y += list(set(lengths_n))\n",
      "    \n",
      "    p_l = dict()\n",
      "    p_l_given_i = c.defaultdict(lambda: 1)\n",
      "    p_i_given_l = dict()\n",
      "    counts_y = c.Counter(lengths_y)\n",
      "    counts_a = c.Counter(lengths_y + lengths_n)\n",
      "    p_i = len(lengths_y) / float(len(lengths_y + lengths_n))\n",
      "    \n",
      "    for l in counts_a.keys():\n",
      "        p_l_given_i[l] = (counts_y[l]) / float(sum(counts_y.values()))\n",
      "        p_l[l] = counts_a[l] / float(sum(counts_a.values()))\n",
      "        p_i_given_l[l] = p_l_given_i[l] * p_i / p_l[l]\n",
      "    \n",
      "    return p_i_given_l\n",
      "\n",
      "p_i_given_l = probs_by_length(tl)\n",
      "print p_i_given_l"
     ],
     "language": "python",
     "metadata": {},
     "outputs": [
      {
       "output_type": "stream",
       "stream": "stdout",
       "text": [
        "{1: 0.5, 2: 0.2, 3: 0.3333333333333333, 4: 0.14285714285714285, 5: 0.3846153846153846, 6: 0.9, 7: 0.7692307692307692, 8: 0.8333333333333334, 9: 0.5, 10: 0.5, 11: 1.0, 13: 0.5, 15: 1.0}\n"
       ]
      }
     ],
     "prompt_number": 168
    },
    {
     "cell_type": "markdown",
     "metadata": {},
     "source": [
      "Assuming that the lengths of two interacting hairpins are independent, we can estimate $P(I|l_1, l_2)$ by simply multiplying the two probabilities of interaction for each individual hairpin:\n",
      "\n",
      "$$P(I|l_1,l_2) = P(I|l_1) * P(I|l_2)$$"
     ]
    },
    {
     "cell_type": "code",
     "collapsed": false,
     "input": [
      "def get_p_i_given_l1_l2(p_i_given_l):\n",
      "    p_i_given_l1_l2 = dict()\n",
      "    \n",
      "    for l1,l2 in it.product(p_l_given_i.keys(), repeat=2):\n",
      "        #print l1, l2\n",
      "        p_i_given_l1_l2[(l1,l2)] = p_i_given_l[l1] * p_i_given_l[l2]\n",
      "    #print p_i_given_l1_l2\n",
      "    return p_i_given_l1_l2\n",
      "\n",
      "p_i_given_l1_l2 = get_p_i_given_l1_l2(p_i_given_l)"
     ],
     "language": "python",
     "metadata": {},
     "outputs": [],
     "prompt_number": 226
    },
    {
     "cell_type": "code",
     "collapsed": false,
     "input": [
      "@np.vectorize\n",
      "def calc_p_i_given_l1_l2(l1, l2):\n",
      "    return p_i_given_l1_l2[(l1, l2)]\n",
      "\n",
      "x = np.arange(1,12)\n",
      "y = np.arange(1,12)\n",
      "\n",
      "C = rand(len(x), len(y))\n",
      "X,Y = np.meshgrid(x, y)\n",
      "Z = calc_p_i_given_l1_l2(X, Y)\n",
      "\n",
      "figsize(4,3)\n",
      "fig, ax = plt.subplots()\n",
      "\n",
      "p = ax.pcolor(X,Y,Z.T, cmap=plt.cm.Blues)\n",
      "\n",
      "ax.set_frame_on(False)\n",
      "ax.set_xticks(x + 0.5, minor=False)\n",
      "ax.set_yticks(y + 0.5, minor=False)\n",
      "\n",
      "ax.set_xticklabels(x)\n",
      "ax.set_yticklabels(y)\n",
      "\n",
      "#ax.axis([x.min(), x.max(), y.min(), y.max()])\n",
      "ax.autoscale_view('tight')\n",
      "#ax.grid(color='w', linestyle='-', linewidth=1, which='major')\n",
      "\n",
      "for i in x:\n",
      "    ax.axvline(i-0.03, color='w', ls='-', lw=1.4)\n",
      "for i in y:\n",
      "    ax.axhline(i, color='w', ls='-', lw=1.4)\n",
      "    \n",
      "for t in ax.xaxis.get_major_ticks(): \n",
      "    t.tick1On = False \n",
      "    t.tick2On = False \n",
      "for t in ax.yaxis.get_major_ticks(): \n",
      "    t.tick1On = False \n",
      "    t.tick2On = False \n",
      "    \n",
      "ax.set_xlabel(\"Loop 1 Size\")\n",
      "ax.set_ylabel(\"Loop 2 Size\")\n",
      "plt.colorbar(p)\n",
      "#ax.set_title(\"Probability of Interaction Between Two Loops of a Certain Size\")"
     ],
     "language": "python",
     "metadata": {},
     "outputs": [
      {
       "output_type": "pyout",
       "prompt_number": 289,
       "text": [
        "<matplotlib.colorbar.Colorbar instance at 0x1e5c65a8>"
       ]
      },
      {
       "output_type": "display_data",
       "png": "[encoded data removed]"
      }
     ],
     "prompt_number": 289
    },
    {
     "cell_type": "markdown",
     "metadata": {},
     "source": [
      "These probabilities can be used to assign a probabilities to the distances encountered between two hairpins in a particular structure.\n",
      "\n",
      "$$ P(d|l_1, l_2) = P(d | I) * P( I | l_1, l_2) + P(d | I^c) (1 - P(I | l_1, l_2)) $$\n",
      "\n",
      "$P(d | I)$ is the probability of seeing two hairpins a distance $d$ from each other when there is an interaction between them. $(d | I^c)$, being the opposite case, is the probability of seeing them distance $d$ apart when there is no interaction between them. In general, we would expect to see interacting hairpins closer together than ones which are further apart. As the probability is conditional on the lengths of the hairpins, we would assign a higher probability to a shorter distance between hairpins that are likely to interact (i.e. ones with a length of > 6). Conversely, hairpins less likely to interact (i.e. extremely short hairpins) will have a more even probability distribution over the potential distances. The energy function will take the form of a potential of mean force where the reference state is defined by sampled ribosome structures. This is intended to remove the bias for shorter distances due to the proximity of hairpins in the local secondary structure."
     ]
    },
    {
     "cell_type": "code",
     "collapsed": false,
     "input": [
      "def load_interactions(filename, type1='h', type2='h'):\n",
      "    t = pa.read_csv(filename, header=None, sep=' ')\n",
      "    t.columns = ['key1', 'type1', 'len1', 'key2', 'type2', \n",
      "                 'len2', 'dist', 'seq1', 'seq2', 'longrange', 'angle']\n",
      "    \n",
      "    #loop_loop = t[np.logical_and(t[t.columns[1]] == \"l\", t[t.columns[4]] == \"l\")]\n",
      "    #loop_loop = t[np.logical_and(t.type1 == \"l\", t.type2 == \"l\")]\n",
      "    tl = t[t.dist < 40]\n",
      "    loop_loop = tl[tl.type1 == type1]\n",
      "    loop_loop = loop_loop[loop_loop.type2 == type2]\n",
      "    \n",
      "    loop_loop_y = loop_loop[loop_loop.longrange == 'Y']\n",
      "    loop_loop_n = loop_loop[loop_loop.longrange == 'N']\n",
      "\n",
      "    return (loop_loop, loop_loop_y, loop_loop_n)"
     ],
     "language": "python",
     "metadata": {},
     "outputs": [],
     "prompt_number": 385
    },
    {
     "cell_type": "markdown",
     "metadata": {},
     "source": [
      "The identities of the hairpins that interact will be taken from the real structure and their distances will be taken from the sampled structure to obtain $P_s(d|l_1, l_2)$. The figure below shows P_r(d|I) for the real structure as well as for the sampled. "
     ]
    },
    {
     "cell_type": "code",
     "collapsed": false,
     "input": [
      "import scipy.stats as ss\n",
      "\n",
      "def plot_real_vs_sampled(real_dists, sampled_dists, xlim=[0,40]):\n",
      "    fig, ax1 = plt.subplots()\n",
      "    \n",
      "    figsize(6, 2.5)\n",
      "    h1 = ax1.hist(real_dists, alpha=0.3, normed=True, label='real')\n",
      "    h2 = ax1.hist(sampled_dists, alpha=0.3, normed=True, label='sampled')\n",
      "    \n",
      "    xs = np.linspace(xlim[0], xlim[1], 100)\n",
      "    \n",
      "    kr = ss.gaussian_kde(real_dists)\n",
      "    ks = ss.gaussian_kde(sampled_dists)\n",
      "    \n",
      "    p1 = ax1.plot(xs, kr(xs), label='kde(real)', ls='--')\n",
      "    p2 = ax1.plot(xs, ks(xs), label='kde(sampled)', ls='--')\n",
      "    \n",
      "    ax2 = ax1.twinx()\n",
      "    delta = 0.0001\n",
      "    p3 = ax2.plot(xs, log(kr(xs) + delta) - log(ks(xs) + delta), label='energy')\n",
      "    \n",
      "    ax1.set_yticks(np.linspace(ax1.get_ybound()[0], ax1.get_ybound()[1] * 1.1, 5))\n",
      "    ax2.set_yticks(np.linspace(ax2.get_ybound()[0], ax2.get_ybound()[1] * 1.1, 5))\n",
      "    \n",
      "    ls1, lb1 = ax1.get_legend_handles_labels()\n",
      "    ls2, lb2 = ax2.get_legend_handles_labels()\n",
      "    \n",
      "    ax1.set_xlabel('Distance')\n",
      "    ax1.set_ylabel('Frequency')\n",
      "    ax2.set_ylabel('Energy')\n",
      "    ax1.set_xlim(xlim)\n",
      "    ax2.set_xlim(xlim)\n",
      "    plt.legend(ls1 + ls2, lb1 + lb2, bbox_to_anchor=(1.25, 0.9), loc=2, borderaxespad=0.)\n",
      "    #ax.legend(bbox_to_anchor=(1.1, 1.05))"
     ],
     "language": "python",
     "metadata": {},
     "outputs": [],
     "prompt_number": 511
    },
    {
     "cell_type": "code",
     "collapsed": false,
     "input": [
      "(ll, ll_y, ll_n) = load_interactions('fess/stats/temp.longrange.stats', 'h', 'h')\n",
      "(sll, sll_y, sll_n) = load_interactions('fess/stats/temp.longrange.stats.sampled', 'h', 'h')\n",
      "\n",
      "plot_real_vs_sampled(ll_y['dist'], sll_y['dist'])"
     ],
     "language": "python",
     "metadata": {},
     "outputs": [
      {
       "output_type": "display_data",
       "png": "[encoded data removed]"
      }
     ],
     "prompt_number": 512
    },
    {
     "cell_type": "markdown",
     "metadata": {},
     "source": [
      "We can do the same for non-interacting hairpins:\n"
     ]
    },
    {
     "cell_type": "code",
     "collapsed": false,
     "input": [
      "plot_real_vs_sampled(ll_n['dist'], sll_n['dist'])"
     ],
     "language": "python",
     "metadata": {},
     "outputs": [
      {
       "output_type": "display_data",
       "png": "[encoded data removed]"
      }
     ],
     "prompt_number": 513
    },
    {
     "cell_type": "markdown",
     "metadata": {},
     "source": [
      "## Stem - Stem Orientation Energy ##\n",
      "\n",
      "Stems tend to be oriented in a co-axial / co-linear fashion [CITATION NEEDED] in native structures. To account for this, I examined the distribution of inter-stem angles in the native ribosome structure and a sampled ribosome structure. These value were calculated using the following commands:\n",
      "\n",
      "```\n",
      "python fess/scripts/stem_stem_orientations.py ~/doarse/1jj2/temp.cg > fess/stats/stem_stem_orientations.csv\n",
      "python fess/scripts/stem_stem_orientations.py random4/1jj2/best0.coord > fess/stats/stem_stem_orientations_sampled.csv\n",
      "```"
     ]
    },
    {
     "cell_type": "markdown",
     "metadata": {},
     "source": [
      "The first distribution that needs to be equalized is the distance of the stems to each other. In the native ribosome, the closest points between two stems tend to be closer than in the sampled structure. In a sense, this energy is like a radius of gyration function serving to favor more compact structures."
     ]
    },
    {
     "cell_type": "code",
     "collapsed": false,
     "input": [
      "sse = cbe.StemStemOrientationEnergy([0])\n",
      "\n",
      "sse.max_dist = 100\n",
      "sse.max_lateral_dist = 40\n",
      "\n",
      "sse.real_data = sse.load_stem_stem_data('fess/stats/stem_stem_orientations.csv')\n",
      "sse.fake_data = sse.load_stem_stem_data('fess/stats/stem_stem_orientations_sampled.csv')\n",
      "\n",
      "plot_real_vs_sampled(sse.angles[0], sse.angles[1], xlim=[0, 100])"
     ],
     "language": "python",
     "metadata": {},
     "outputs": [
      {
       "output_type": "display_data",
       "png": "[encoded data removed]"
      }
     ],
     "prompt_number": 515
    },
    {
     "cell_type": "code",
     "collapsed": false,
     "input": [
      "sse = cbe.StemStemOrientationEnergy([1])\n",
      "\n",
      "sse.max_dist = 40\n",
      "sse.max_lateral_dist = 12\n",
      "\n",
      "sse.real_data = sse.load_stem_stem_data('fess/stats/stem_stem_orientations.csv')\n",
      "sse.fake_data = sse.load_stem_stem_data('fess/stats/stem_stem_orientations_sampled.csv')\n",
      "\n",
      "plot_real_vs_sampled(sse.angles[0], sse.angles[1], [0, 3.14])"
     ],
     "language": "python",
     "metadata": {},
     "outputs": [
      {
       "output_type": "display_data",
       "png": "[encoded data removed]"
      }
     ],
     "prompt_number": 507
    },
    {
     "cell_type": "markdown",
     "metadata": {},
     "source": [
      "#### Using the energy ####"
     ]
    },
    {
     "cell_type": "code",
     "collapsed": false,
     "input": [
      "import fess.builder.models as fbm \n",
      "\n",
      "sse = cbe.StemStemOrientationEnergy([0])\n",
      "sse.max_dist = 1000.\n",
      "sse.max_lateral_dist = 1000.\n",
      "cg = ftmc.CoarseGrainRNA(op.expanduser('~/doarse/1gid/temp.cg'))\n",
      "sm = fbm.SpatialModel(cg)\n",
      "print sse.eval_energy(sm)\n",
      "sm.sample_stats()\n",
      "sm.traverse_and_build()\n",
      "print sse.eval_energy(sm)"
     ],
     "language": "python",
     "metadata": {},
     "outputs": [
      {
       "output_type": "stream",
       "stream": "stdout",
       "text": [
        "[-96.20670111]\n",
        "[-84.33119937]"
       ]
      },
      {
       "output_type": "stream",
       "stream": "stdout",
       "text": [
        "\n"
       ]
      },
      {
       "output_type": "stream",
       "stream": "stderr",
       "text": [
        "self.fake_data_location: /home/pete/projects/ernwin/fess/stats/stem_stem_orientations_sampled.csv\n"
       ]
      }
     ],
     "prompt_number": 460
    },
    {
     "cell_type": "markdown",
     "metadata": {},
     "source": [
      "The visualization above shows that co-axisal stems are more represented in real structures than in sampled structures. We can also visualize the actual energy function:\n",
      "\n",
      "$$ -E = log(\\frac{P_r(\\theta)}{P_s(\\theta)})$$"
     ]
    },
    {
     "cell_type": "code",
     "collapsed": false,
     "input": [
      "sse = cbe.StemStemOrientationEnergy([2])\n",
      "sse.beta = False\n",
      "\n",
      "sse.real_data = sse.load_stem_stem_data('fess/stats/stem_stem_orientations.csv')\n",
      "sse.fake_data = sse.load_stem_stem_data('fess/stats/stem_stem_orientations_sampled.csv')\n",
      "sse.fake_loop_data = sse.load_stem_stem_data('fess/stats/stem_stem_orientations_stem_stem0_sampled.csv')\n",
      "\n",
      "xs = np.linspace(0, math.pi, 50)\n",
      "\n",
      "ys_r = sse.real_data(xs)\n",
      "ys_s = sse.fake_data(xs)\n",
      "ys_sl = sse.fake_loop_data(xs)\n",
      "\n",
      "ax = pylab.axes()\n",
      "\n",
      "\n",
      "ax.plot(xs, ys_r, 'b', label='native')\n",
      "ax.plot(xs, ys_s, 'g', label='constraint sampled')\n",
      "ax.plot(xs, ys_sl, 'r', label='stem_stem+constraint sampled')\n",
      "\n",
      "ax.hist(sse.angles[0], bins=15, color='b', normed=True, alpha=0.3)\n",
      "ax.hist(sse.angles[1], bins=15, color='g', normed=True, alpha=0.3)\n",
      "ax.hist(sse.angles[2], bins=15, color='r', normed=True, alpha=0.3)\n",
      "\n",
      "leg = ax.legend(loc='upper right')\n",
      "leg.get_frame().set_alpha(0.4)\n",
      "plt.autoscale(tight = True)\n",
      "ax.set_xlabel(\"distance\")\n",
      "ax.set_ylabel(\"density\")"
     ],
     "language": "python",
     "metadata": {},
     "outputs": [
      {
       "output_type": "pyout",
       "prompt_number": 35,
       "text": [
        "<matplotlib.text.Text at 0x149bc1d0>"
       ]
      },
      {
       "output_type": "display_data",
       "png": "[encoded data removed]"
      }
     ],
     "prompt_number": 35
    },
    {
     "cell_type": "markdown",
     "metadata": {},
     "source": [
      "It is immediately clear that sampling using the `LoopLoopEnergy` (red line) has greatly shifted the distribution of stem-stem orientations towards the parallel orientation in relation to sampling using only the constraint energy (green line).\n",
      "\n",
      "$$P(l,s)=P(l|s)P(s)$$"
     ]
    },
    {
     "cell_type": "markdown",
     "metadata": {},
     "source": [
      "## Threading a Coarse Grain Structure onto an All-Atom Model ##\n",
      "\n",
      "There are two instances when it is necessary to convert an all-atom model to a coarse grain structure:\n",
      "\n",
      "1. To determine how native structures look in their coarse grain represenation.\n",
      "2. To compare predictions from all-atom generating programs to the coarse-grain predictions generated by ernwin\n",
      "\n",
      "Fortunately, this is done rather easily using the `add_3d_information.py` script.\n",
      "\n",
      "The structures sampled by rosetta are located in `/scr/plastilin/pkerp/projects/rosetta_benchmark/tests.good/`"
     ]
    },
    {
     "cell_type": "markdown",
     "metadata": {},
     "source": [
      "### General methods for threading coarse-grain onto all-atom ###"
     ]
    },
    {
     "cell_type": "code",
     "collapsed": false,
     "input": [
      "import os.path as op\n",
      "import shutil as sh\n",
      "import os\n",
      "import csv\n",
      "import corgy.graph.graph_pdb as cgg\n",
      "import Bio.PDB as bpdb\n",
      "\n",
      "basename = '/scr/plastilin/pkerp/projects/rosetta_benchmark'\n",
      "coarse_dir = op.expanduser('~/coarse/')\n",
      "\n",
      "def create_coarse_grain_dirs(base_coarse):\n",
      "    if not op.exists(op.join(base_coarse, 'prepare')):\n",
      "        os.makedirs(op.join(base_coarse, 'prepare'))\n",
      "    if not op.exists(op.join(base_coarse, 'graph')):\n",
      "        os.makedirs(op.join(base_coarse, 'graph'))\n",
      "    if not op.exists(op.join(base_coarse, 'pymol')):\n",
      "        os.makedirs(op.join(base_coarse, 'pymol'))\n",
      "\n",
      "def thread_coarse_grain_onto_pdb(coarse_dir, graph_name, new_coarse_dir, pdb_filename):\n",
      "    print \"new_coarse_dir:\", new_coarse_dir\n",
      "\n",
      "     # the prediction becomes the base pdb file\n",
      "    sh.copyfile(pdb_filename, op.join(new_coarse_dir, 'prepare', 'temp.pdb'))\n",
      "                \n",
      "    with warnings.catch_warnings():\n",
      "        warnings.simplefilter('ignore')\n",
      "        s = bpdb.PDBParser().get_structure('temp', pdb_filename)\n",
      "        chain = list(s.get_chains())[0]\n",
      "    \n",
      "    # the bulge graph will be the one used by the native structure\n",
      "    bg = cgb.BulgeGraph(op.join(coarse_dir, graph_name, 'graph/temp.comp'))\n",
      "    \n",
      "    # we just need to change the information about where the stems, bulges and loops\n",
      "    # are located\n",
      "    cgg.add_stem_information_from_pdb_chain(bg, chain)\n",
      "    cgg.add_bulge_information_from_pdb_chain(bg, chain)\n",
      "    cgg.add_loop_information_from_pdb_chain(bg, chain)\n",
      "    \n",
      "    bg.output(op.join(new_coarse_dir, 'graph', 'temp.comp'))"
     ],
     "language": "python",
     "metadata": {},
     "outputs": [],
     "prompt_number": 36
    },
    {
     "cell_type": "code",
     "collapsed": false,
     "input": [
      "# the min_energies file contains information about which test\n",
      "# had the lowest energy in format:\n",
      "# pdb_name test_number energy rmsd\n",
      "with open(op.join(basename, 'min_energies.csv'), 'r') as f:\n",
      "    r = csv.reader(f, delimiter=' ')\n",
      "    for row in r:\n",
      "        pdb_name = row[0]\n",
      "        test_no = row[1]\n",
      "            \n",
      "        pdb_filename = op.join(basename, 'tests.good/%s/%s/generated-structures/S_0.pdb' % (pdb_name, test_no))\n",
      "        new_coarse_name = op.join(coarse_dir, '%s_rosetta' % (pdb_name))\n",
      "        \n",
      "        thread_coarse_grain_onto_pdb(coarse_dir, pdb_name, new_coarse_name, pdb_filename)\n",
      "        \n",
      "        #print pdb_name, test_no, \"done\""
     ],
     "language": "python",
     "metadata": {},
     "outputs": [
      {
       "output_type": "stream",
       "stream": "stdout",
       "text": [
        "new_coarse_dir: /home/mescalin/pkerp/coarse/1mfq_rosetta\n",
        "new_coarse_dir:"
       ]
      },
      {
       "output_type": "stream",
       "stream": "stdout",
       "text": [
        " /home/mescalin/pkerp/coarse/3e5c_rosetta\n",
        "new_coarse_dir:"
       ]
      },
      {
       "output_type": "stream",
       "stream": "stdout",
       "text": [
        " /home/mescalin/pkerp/coarse/4erj_rosetta\n",
        "new_coarse_dir:"
       ]
      },
      {
       "output_type": "stream",
       "stream": "stdout",
       "text": [
        " /home/mescalin/pkerp/coarse/2hoj_rosetta\n",
        "new_coarse_dir:"
       ]
      },
      {
       "output_type": "stream",
       "stream": "stdout",
       "text": [
        " /home/mescalin/pkerp/coarse/2gdi_rosetta\n",
        "new_coarse_dir:"
       ]
      },
      {
       "output_type": "stream",
       "stream": "stdout",
       "text": [
        " /home/mescalin/pkerp/coarse/3d2g_rosetta\n",
        "new_coarse_dir:"
       ]
      },
      {
       "output_type": "stream",
       "stream": "stdout",
       "text": [
        " /home/mescalin/pkerp/coarse/4aob_rosetta\n",
        "new_coarse_dir:"
       ]
      },
      {
       "output_type": "stream",
       "stream": "stdout",
       "text": [
        " /home/mescalin/pkerp/coarse/1il2_rosetta\n",
        "new_coarse_dir:"
       ]
      },
      {
       "output_type": "stream",
       "stream": "stdout",
       "text": [
        " /home/mescalin/pkerp/coarse/4gma_rosetta\n",
        "new_coarse_dir:"
       ]
      },
      {
       "output_type": "stream",
       "stream": "stdout",
       "text": [
        " /home/mescalin/pkerp/coarse/1mms_rosetta\n",
        "new_coarse_dir:"
       ]
      },
      {
       "output_type": "stream",
       "stream": "stdout",
       "text": [
        " /home/mescalin/pkerp/coarse/2du3_rosetta\n",
        "new_coarse_dir:"
       ]
      },
      {
       "output_type": "stream",
       "stream": "stdout",
       "text": [
        " /home/mescalin/pkerp/coarse/1y26_rosetta\n",
        "new_coarse_dir:"
       ]
      },
      {
       "output_type": "stream",
       "stream": "stdout",
       "text": [
        " /home/mescalin/pkerp/coarse/4frg_rosetta\n",
        "new_coarse_dir:"
       ]
      },
      {
       "output_type": "stream",
       "stream": "stdout",
       "text": [
        " /home/mescalin/pkerp/coarse/2lkr_rosetta\n",
        "new_coarse_dir:"
       ]
      },
      {
       "output_type": "stream",
       "stream": "stdout",
       "text": [
        " /home/mescalin/pkerp/coarse/1lng_rosetta\n",
        "new_coarse_dir:"
       ]
      },
      {
       "output_type": "stream",
       "stream": "stdout",
       "text": [
        " /home/mescalin/pkerp/coarse/1dk1_rosetta\n",
        "new_coarse_dir:"
       ]
      },
      {
       "output_type": "stream",
       "stream": "stdout",
       "text": [
        " /home/mescalin/pkerp/coarse/1fg0_rosetta\n",
        "new_coarse_dir:"
       ]
      },
      {
       "output_type": "stream",
       "stream": "stdout",
       "text": [
        " /home/mescalin/pkerp/coarse/4frn_rosetta\n",
        "new_coarse_dir:"
       ]
      },
      {
       "output_type": "stream",
       "stream": "stdout",
       "text": [
        " /home/mescalin/pkerp/coarse/1gid_rosetta\n"
       ]
      }
     ],
     "prompt_number": 37
    },
    {
     "cell_type": "markdown",
     "metadata": {},
     "source": [
      "### RMSD with Rosetta Structures ###\n",
      "\n",
      "Now that the Rosetta predictions have been coarse-grained, calculating the RMSD between the rosetta predictions and the rosetta structures should be relatively straight forward."
     ]
    },
    {
     "cell_type": "code",
     "collapsed": false,
     "input": [
      "import corgy.utilities.debug as cud\n",
      "import corgy.builder.rmsd as cbr\n",
      "\n",
      "def iterate_over_test_files(test_filename = 'test_file_list.txt',\n",
      "                            coarse_dir = op.expanduser('~/coarse/')):\n",
      "\n",
      "    with open(test_filename, 'r') as f:\n",
      "        for line in f:\n",
      "            parts = line.strip().split(' ')\n",
      "            for part in parts:\n",
      "                yield part\n",
      "\n",
      "def calc_rmsd(pdb, suffix, coarse_dir=op.expanduser('~/coarse')):\n",
      "    foreign_filename = op.join(coarse_dir, \"%s_%s/graph/temp.comp\" % (pdb, suffix))\n",
      "    native_filename = op.join(coarse_dir, \"%s/graph/temp.comp\" % (pdb))\n",
      "    \n",
      "    if not op.exists(foreign_filename):\n",
      "        print >> sys.stderr, '%s not found' % (foreign_filename)\n",
      "        return\n",
      "    if not op.exists(native_filename):\n",
      "        print >>sys.stderr, '%s not found' % (native_filename)\n",
      "        return\n",
      "    \n",
      "    bg_foreign = cgb.BulgeGraph(foreign_filename)\n",
      "    bg_native = cgb.BulgeGraph(native_filename)\n",
      "    \n",
      "    r = cgg.bg_rmsd(bg_foreign, bg_native)\n",
      "    print \"%s %s %.2f\" % (suffix, pdb, r)\n",
      "    \n",
      "for pdb in iterate_over_test_files():\n",
      "    calc_rmsd(pdb, \"rosetta\")\n",
      "    "
     ],
     "language": "python",
     "metadata": {},
     "outputs": [
      {
       "output_type": "stream",
       "stream": "stdout",
       "text": [
        "rosetta 1mfq 8.59\n",
        "rosetta 1gid 19.38\n",
        "rosetta 1y26 12.97\n",
        "rosetta 1il2 9.68"
       ]
      },
      {
       "output_type": "stream",
       "stream": "stdout",
       "text": [
        "\n",
        "rosetta 3e5c 3.48\n",
        "rosetta 1dk1 12.94\n",
        "rosetta 1mms 9.71\n",
        "rosetta 2du3 11.83"
       ]
      },
      {
       "output_type": "stream",
       "stream": "stdout",
       "text": [
        "\n",
        "rosetta 3d2g 11.24\n",
        "rosetta 2hoj 8.49\n",
        "rosetta 2gdi 8.53\n",
        "rosetta 1lng 18.42"
       ]
      },
      {
       "output_type": "stream",
       "stream": "stdout",
       "text": [
        "\n",
        "rosetta 4frg 19.30\n",
        "rosetta 4frn 17.36\n",
        "rosetta 4gma 20.68"
       ]
      },
      {
       "output_type": "stream",
       "stream": "stdout",
       "text": [
        "\n",
        "rosetta 4erj 23.02\n",
        "rosetta 4aob 21.76\n",
        "rosetta 2lkr 14.27"
       ]
      },
      {
       "output_type": "stream",
       "stream": "stdout",
       "text": [
        "\n",
        "rosetta 1fg0 56.65"
       ]
      },
      {
       "output_type": "stream",
       "stream": "stdout",
       "text": [
        "\n"
       ]
      },
      {
       "output_type": "stream",
       "stream": "stderr",
       "text": [
        "/home/mescalin/pkerp/coarse/3pdr_rosetta/graph/temp.comp not found\n"
       ]
      }
     ],
     "prompt_number": 39
    },
    {
     "cell_type": "markdown",
     "metadata": {},
     "source": [
      "### Coars-ifying NAST Structures ###\n",
      "\n",
      "The NAST structures were initially created using the following commands:\n",
      "\n",
      "    cd /scr/plastilin/pkerp/projects/nast_benchmarks\n",
      "    ./scripts/create_nasts.sh \n",
      "    find tests/ -name \"run_test*\" | xargs -n 1 python"
     ]
    },
    {
     "cell_type": "code",
     "collapsed": false,
     "input": [
      "base_nast_dir = '/scr/plastilin/pkerp/projects/nast_benchmarks'\n",
      "coarse_dir = op.expanduser('~/coarse/')\n",
      "pdbs = list (iterate_over_test_files())\n",
      "\n",
      "for pdb in pdbs:\n",
      "    pdb_filename = op.join(base_nast_dir, \"tests/%s/%s-nast.pdb\" % (pdb,pdb))\n",
      "    if os.path.exists(pdb_filename):\n",
      "        new_coarse_dir = op.join(coarse_dir, '%s_nast' % (pdb))\n",
      "        #cud.pv('pdb')\n",
      "        #cud.pv('pdb_filename')\n",
      "\n",
      "        thread_coarse_grain_onto_pdb(coarse_dir, pdb, new_coarse_dir, pdb_filename)"
     ],
     "language": "python",
     "metadata": {},
     "outputs": [],
     "prompt_number": 56
    },
    {
     "cell_type": "code",
     "collapsed": false,
     "input": [
      "for pdb in iterate_over_test_files():\n",
      "    calc_rmsd(pdb, \"nast\")"
     ],
     "language": "python",
     "metadata": {},
     "outputs": [
      {
       "output_type": "stream",
       "stream": "stdout",
       "text": [
        "nast 1mfq 30.36\n",
        "nast 1gid 64.43"
       ]
      },
      {
       "output_type": "stream",
       "stream": "stdout",
       "text": [
        "\n",
        "nast 1y26 8.70"
       ]
      },
      {
       "output_type": "stream",
       "stream": "stdout",
       "text": [
        "\n",
        "nast 1il2 10.45"
       ]
      },
      {
       "output_type": "stream",
       "stream": "stdout",
       "text": [
        "\n",
        "nast 3e5c 5.12\n",
        "nast 1dk1 9.28"
       ]
      },
      {
       "output_type": "stream",
       "stream": "stdout",
       "text": [
        "\n",
        "nast 1mms 9.29\n",
        "nast 2du3 10.63"
       ]
      },
      {
       "output_type": "stream",
       "stream": "stdout",
       "text": [
        "\n",
        "nast 3d2g 16.47\n",
        "nast 2hoj 16.48"
       ]
      },
      {
       "output_type": "stream",
       "stream": "stdout",
       "text": [
        "\n",
        "nast 2gdi 20.49\n",
        "nast 1lng 44.07"
       ]
      },
      {
       "output_type": "stream",
       "stream": "stdout",
       "text": [
        "\n",
        "nast 4frg 12.16\n",
        "nast 4frn 20.93"
       ]
      },
      {
       "output_type": "stream",
       "stream": "stdout",
       "text": [
        "\n",
        "nast 4gma 64.59\n",
        "nast 4erj 29.28"
       ]
      },
      {
       "output_type": "stream",
       "stream": "stdout",
       "text": [
        "\n",
        "nast 4aob 43.43\n",
        "nast 2lkr 13.07"
       ]
      },
      {
       "output_type": "stream",
       "stream": "stdout",
       "text": [
        "\n",
        "nast 1fg0 188.09"
       ]
      },
      {
       "output_type": "stream",
       "stream": "stdout",
       "text": [
        "\n",
        "nast 3pdr 50.70\n"
       ]
      }
     ],
     "prompt_number": 57
    },
    {
     "cell_type": "markdown",
     "metadata": {},
     "source": [
      "### RNAComposer Original Sequence Structures RMSD ###"
     ]
    },
    {
     "cell_type": "code",
     "collapsed": false,
     "input": [
      "import subprocess as sp\n",
      "\n",
      "def process_rna_composer_structures(pdb_dir, suffix):\n",
      "    for f in os.listdir(pdb_dir):\n",
      "        out_file = op.join(pdb_dir, f.split('.')[0] + suffix + '.pdb')\n",
      "        with open(out_file, 'w') as of:\n",
      "            sp.Popen([op.expanduser('~/projects/ernwin/fess/scripts/make_rna_rosetta_ready.py'),\n",
      "                  op.join(pdb_dir, f)], stdout=of)\n",
      "            \n",
      "    coarse_dir = op.expanduser('~/coarse/')\n",
      "    rnacomposer_base_dir = '/scr/plastilin/pkerp/projects/rnacomposer_benchmark/pdbs'\n",
      "    cgg.catom_name = 'C3*'\n",
      "    \n",
      "    for pdb in pdbs:\n",
      "        pdb_filename = op.join(rnacomposer_base_dir, '%s%s.pdb' % (pdb, suffix))\n",
      "        \n",
      "        if os.path.exists(pdb_filename):\n",
      "            new_coarse_dir = op.join(coarse_dir, '%s%s' % (pdb, suffix))\n",
      "            \n",
      "            thread_coarse_grain_onto_pdb(coarse_dir, pdb, new_coarse_dir, pdb_filename)\n",
      "\n",
      "process_rna_composer_structures('/scr/plastilin/pkerp/projects/rnacomposer_benchmark/orig_seqs/pdbs', '_rnacomposer_orig')\n",
      "#do\n",
      "#    ~/projects/ernwin/fess/scripts/make_rna_rosetta_ready.py $f > \n",
      "#done"
     ],
     "language": "python",
     "metadata": {},
     "outputs": [],
     "prompt_number": 50
    },
    {
     "cell_type": "code",
     "collapsed": false,
     "input": [
      "for pdb in iterate_over_test_files():\n",
      "    calc_rmsd(pdb, \"rnacomposer_orig\")"
     ],
     "language": "python",
     "metadata": {},
     "outputs": [
      {
       "output_type": "stream",
       "stream": "stdout",
       "text": [
        "rnacomposer_orig 1mfq 5.55\n",
        "rnacomposer_orig 1gid 37.74\n",
        "rnacomposer_orig 1y26 5.77\n",
        "rnacomposer_orig 1il2 2.18"
       ]
      },
      {
       "output_type": "stream",
       "stream": "stdout",
       "text": [
        "\n",
        "rnacomposer_orig 3e5c 6.02\n",
        "rnacomposer_orig 1dk1 1.55\n",
        "rnacomposer_orig 1mms 12.20\n",
        "rnacomposer_orig 2du3 2.16\n",
        "rnacomposer_orig 3d2g 1.05"
       ]
      },
      {
       "output_type": "stream",
       "stream": "stdout",
       "text": [
        "\n",
        "rnacomposer_orig 2hoj 5.89\n",
        "rnacomposer_orig 2gdi 5.79\n",
        "rnacomposer_orig 1lng 2.09\n",
        "rnacomposer_orig 4frg 8.89"
       ]
      },
      {
       "output_type": "stream",
       "stream": "stdout",
       "text": [
        "\n",
        "rnacomposer_orig 4frn 10.16\n",
        "rnacomposer_orig 4gma 30.58\n",
        "rnacomposer_orig 4aob 3.64\n",
        "rnacomposer_orig 2lkr 17.92"
       ]
      },
      {
       "output_type": "stream",
       "stream": "stdout",
       "text": [
        "\n",
        "rnacomposer_orig 1fg0 34.11"
       ]
      },
      {
       "output_type": "stream",
       "stream": "stdout",
       "text": [
        "\n",
        "rnacomposer_orig 3pdr 10.31\n"
       ]
      },
      {
       "output_type": "stream",
       "stream": "stderr",
       "text": [
        "/home/mescalin/pkerp/coarse/4erj_rnacomposer_orig/graph/temp.comp not found\n"
       ]
      }
     ],
     "prompt_number": 59
    },
    {
     "cell_type": "code",
     "collapsed": false,
     "input": [
      "for pdb in iterate_over_test_files():\n",
      "    calc_rmsd(pdb, \"rnacomposer_rand\")"
     ],
     "language": "python",
     "metadata": {},
     "outputs": [
      {
       "output_type": "stream",
       "stream": "stdout",
       "text": [
        "rnacomposer_rand 1mfq 7.05\n",
        "rnacomposer_rand 1gid 36.66"
       ]
      },
      {
       "output_type": "stream",
       "stream": "stdout",
       "text": [
        "\n",
        "rnacomposer_rand 1y26 9.74"
       ]
      },
      {
       "output_type": "stream",
       "stream": "stdout",
       "text": [
        "\n",
        "rnacomposer_rand 1il2 2.54"
       ]
      },
      {
       "output_type": "stream",
       "stream": "stdout",
       "text": [
        "\n",
        "rnacomposer_rand 3e5c 6.35"
       ]
      },
      {
       "output_type": "stream",
       "stream": "stdout",
       "text": [
        "\n",
        "rnacomposer_rand 1dk1 3.62"
       ]
      },
      {
       "output_type": "stream",
       "stream": "stdout",
       "text": [
        "\n",
        "rnacomposer_rand 1mms 12.14"
       ]
      },
      {
       "output_type": "stream",
       "stream": "stdout",
       "text": [
        "\n",
        "rnacomposer_rand 2du3 1.26\n",
        "rnacomposer_rand 3d2g 7.77"
       ]
      },
      {
       "output_type": "stream",
       "stream": "stdout",
       "text": [
        "\n",
        "rnacomposer_rand 2hoj 9.12\n",
        "rnacomposer_rand 2gdi 5.44"
       ]
      },
      {
       "output_type": "stream",
       "stream": "stdout",
       "text": [
        "\n",
        "rnacomposer_rand 1lng 11.35\n",
        "rnacomposer_rand 4frg 9.84"
       ]
      },
      {
       "output_type": "stream",
       "stream": "stdout",
       "text": [
        "\n",
        "rnacomposer_rand 4erj 23.12\n",
        "rnacomposer_rand 4aob 8.29"
       ]
      },
      {
       "output_type": "stream",
       "stream": "stderr",
       "text": [
        "/home/mescalin/pkerp/coarse/4frn_rnacomposer_rand/graph/temp.comp not found\n",
        "/home/mescalin/pkerp/coarse/4gma_rnacomposer_rand/graph/temp.comp not found\n",
        "/home/mescalin/pkerp/coarse/1fg0_rnacomposer_rand/graph/temp.comp not found"
       ]
      },
      {
       "output_type": "stream",
       "stream": "stdout",
       "text": [
        "\n",
        "rnacomposer_rand 2lkr 10.87\n",
        "rnacomposer_rand 3pdr 29.82"
       ]
      },
      {
       "output_type": "stream",
       "stream": "stdout",
       "text": [
        "\n"
       ]
      },
      {
       "output_type": "stream",
       "stream": "stderr",
       "text": [
        "\n"
       ]
      }
     ],
     "prompt_number": 60
    },
    {
     "cell_type": "markdown",
     "metadata": {},
     "source": [
      "### Ernwin Structures RMSD ###\n",
      "\n"
     ]
    },
    {
     "cell_type": "markdown",
     "metadata": {},
     "source": [
      "## Timing Rosetta and Ernwin ##\n",
      "\n",
      "How many MCMC steps can be done per minute?"
     ]
    },
    {
     "cell_type": "markdown",
     "metadata": {},
     "source": [
      "## Creating a Movie from the Sampling\n",
      "\n",
      "Sampling a set of structures should be run using the --step-save parameter:\n",
      "\n",
      "    /usr/bin/time ./bobbins/scripts/gibbs.py -c -m -i 6000 --save-n-best 10 --step-save --output-dir sampled_constraint_energy/ ~/coarse/1jj2/graph/temp.comp;\n",
      "\n",
      "The output, in this case in `sampled_constraint_energy` will contain a bunch of files called `step*.coord`. Each of these contains the coordinates of the structure at a certain step of the simulation. These can be combined to create a movie using the following command:\n",
      "\n",
      "    find sampled_constraint_energy/ -name \"step*.coord\" | sort | head -n 200 | xargs ./fess/scripts/coordinates_to_pymol.py --movie > ss.pym; pymol temp.pml"
     ]
    },
    {
     "cell_type": "markdown",
     "metadata": {},
     "source": [
      "## Results ##\n",
      "\n",
      "    rm fess/stats/temp.longrange.stats.sampled; for file in background/1jj2/best0.coord; do ./fess/scripts/long_range_distances.py -a $file >> fess/stats/temp.longrange.stats.sampled; done;\n",
      "    ./fess/scripts/long_range_distances.py -a ~/coarse/1jj2/graph/temp.comp > fess/stats/temp.longrange.stats\n",
      "\n",
      "\n",
      "Using revision number: `ecc20fa`\n",
      "\n",
      "Using --loop-stem-energy\n",
      "\n",
      "    [pkerp@plastilin ernwin]$ ./fess/scripts/summarize_gibbs_output.py best\n",
      "    [ 3e5c/1 | 52 ] [ 7.62 :: -3.8 ( -0.72 ) ] < 0.42 > 3.55 13.27\n",
      "    [ 1dk1/6 | 57 ] [ 13.75 :: -3.09 ( -0.81 ) ] < 0.89 > 2.88 15.14\n",
      "    [ 1mms/10 | 58 ] [ 3.73 :: -4.23 ( -3.09 ) ] < 0.06 > 2.65 20.54\n",
      "    [ 1y26/6 | 71 ] [ 5.9 :: -3.53 ( -0.73 ) ] < 0.17 > 2.66 21.31\n",
      "    [ 2du3/2 | 71 ] [ 12.7 :: -8.87 ( -3.5 ) ] < 0.63 > 3.75 17.91\n",
      "    [ 1il2/2 | 75 ] [ 12.49 :: -8.63 ( -3.31 ) ] < 0.76 > 4.51 14.95\n",
      "    [ 3d2g/9 | 77 ] [ 6.37 :: -4.17 ( -3.09 ) ] < 0.07 > 4.69 30.23\n",
      "    [ 2gdi/4 | 78 ] [ 4.62 :: -4.64 ( -2.86 ) ] < 0.04 > 3.77 27.61\n",
      "    [ 2hoj/9 | 78 ] [ 7.39 :: -4.48 ( -3.0 ) ] < 0.20 > 3.19 24.23\n",
      "    [ 4frg/3 | 84 ] [ 12.96 :: -6.92 ( -3.88 ) ] < 0.52 > 6.79 18.59\n",
      "    [ 4aob/4 | 94 ] [ 19.74 :: -8.75 ( 0.92 ) ] < 0.60 > 8.18 27.56\n",
      "    [ 1lng/9 | 97 ] [ 5.32 :: -5.36 ( -3.66 ) ] < 0.04 > 4.29 33.61\n",
      "    [ 4frn/7 | 102 ] [ 12.16 :: -13.83 ( -8.26 ) ] < 0.29 > 6.0 27.54\n",
      "    [ 2lkr/1 | 111 ] [ 17.68 :: -4.1 ( 0.15 ) ] < 0.49 > 6.78 29.13\n",
      "    [ 1mfq/1 | 127 ] [ 6.95 :: -6.24 ( -5.64 ) ] < 0.00 > 6.95 40.37\n",
      "    [ 1gid/6 | 158 ] [ 23.29 :: -10.14 ( -1.51 ) ] < 0.27 > 11.18 55.24\n",
      "    [ 4erj/5 | 161 ] [ 6.62 :: -6.99 ( -9.37 ) ] < 0.00 > 6.61 37.0\n",
      "    [ 4gma/1 | 192 ] [ 37.61 :: -14.44 ( -5.83 ) ] < 0.57 > 23.41 48.52\n",
      "    average: 12.05 median 12.16 avg_ratio: 0.33 avg_best_rmsd: 6.21 avg_worst_rmsd: 27.93\n",
      "\n",
      "Or, to get an even more compact representation:\n",
      "\n",
      "    [pkerp@plastilin ernwin]$ ./fess/scripts/summarize_gibbs_output.py -m best\n",
      "    ernwin 3e5c 7.62\n",
      "    ernwin 1dk1 13.75\n",
      "    ernwin 1mms 3.73\n",
      "    ernwin 1y26 5.9\n",
      "    ernwin 2du3 12.7\n",
      "    ernwin 1il2 12.49\n",
      "    ernwin 3d2g 6.37\n",
      "    ernwin 2gdi 4.62\n",
      "    ernwin 2hoj 7.39\n",
      "    ernwin 4frg 12.96\n",
      "    ernwin 4aob 19.74\n",
      "    ernwin 1lng 5.32\n",
      "    ernwin 4frn 12.16\n",
      "    ernwin 2lkr 17.68\n",
      "    ernwin 1mfq 6.95\n",
      "    ernwin 1gid 23.29\n",
      "    ernwin 4erj 6.62\n",
      "    ernwin 4gma 37.61\n"
     ]
    },
    {
     "cell_type": "code",
     "collapsed": false,
     "input": [
      "lle = cbe.LoopLoopEnergy()\n",
      "\n",
      "(lle.real_data, lle.real_d_given_i, lle.real_d, lle.real_iprobs) = lle.load_data('fess/stats/temp.longrange.stats')\n",
      "(lle.fake_data, lle.fake_d_given_i, lle.fake_d, lle.fake_iprobs) = lle.load_data('fess/stats/temp.longrange.stats.sampled')"
     ],
     "language": "python",
     "metadata": {},
     "outputs": []
    },
    {
     "cell_type": "code",
     "collapsed": false,
     "input": [
      "xs = np.linspace(0, 50)\n",
      "es = [lle.calc_energy(x) for x in xs]\n",
      "plot(xs, es)"
     ],
     "language": "python",
     "metadata": {},
     "outputs": []
    },
    {
     "cell_type": "markdown",
     "metadata": {},
     "source": [
      "### Comparing the performance with other programs ####"
     ]
    },
    {
     "cell_type": "code",
     "collapsed": false,
     "input": [
      "nast_data = \"\"\"\n",
      "nast 1mfq 30.36\n",
      "nast 1gid 64.43\n",
      "nast 1y26 8.70\n",
      "nast 1il2 10.45\n",
      "nast 3e5c 5.13\n",
      "nast 1dk1 9.28\n",
      "nast 1mms 9.28\n",
      "nast 2du3 10.63\n",
      "nast 3d2g 16.47\n",
      "nast 2hoj 16.48\n",
      "nast 2gdi 20.49\n",
      "nast 1lng 44.07\n",
      "nast 4frg 12.16\n",
      "nast 4frn 20.93\n",
      "nast 4gma 64.59\n",
      "nast 4erj 29.28\n",
      "nast 4aob 43.43\n",
      "nast 2lkr 13.08\n",
      "nast 1fg0 188.09\n",
      "nast 3pdr 50.69\n",
      "\"\"\"\n",
      "\n",
      "data = \"\"\"\n",
      "ernwin 3e5c 7.62\n",
      "ernwin 1dk1 13.75\n",
      "ernwin 1mms 3.73\n",
      "ernwin 1y26 5.9\n",
      "ernwin 2du3 12.7\n",
      "ernwin 1il2 12.49\n",
      "ernwin 3d2g 6.37\n",
      "ernwin 2gdi 4.62\n",
      "ernwin 2hoj 7.39\n",
      "ernwin 4frg 12.96\n",
      "ernwin 4aob 19.74\n",
      "ernwin 1lng 5.32\n",
      "ernwin 4frn 12.16\n",
      "ernwin 2lkr 17.68\n",
      "ernwin 1mfq 6.95\n",
      "ernwin 1gid 23.29\n",
      "ernwin 4erj 6.62\n",
      "ernwin 4gma 37.61\n",
      "rosetta 1mfq 9.97\n",
      "rosetta 1gid 27.31\n",
      "rosetta 1y26 6.03\n",
      "rosetta 1il2 9.29\n",
      "rosetta 3e5c 5.51\n",
      "rosetta 1dk1 10.75\n",
      "rosetta 1mms 9.47\n",
      "rosetta 2du3 10.80\n",
      "rosetta 3d2g 12.40\n",
      "rosetta 2hoj 9.62\n",
      "rosetta 2gdi 11.19\n",
      "rosetta 1lng 19.38\n",
      "rosetta 4frg 12.41\n",
      "rosetta 4frn 15.45\n",
      "rosetta 4gma 29.10\n",
      "rosetta 4erj 23.28\n",
      "rosetta 4aob 22.61\n",
      "rosetta 2lkr 11.98\n",
      "rosetta 1fg0 50.02\n",
      "rnacomposer_orig 1mfq 5.55\n",
      "rnacomposer_orig 1gid 37.74\n",
      "rnacomposer_orig 1y26 5.77\n",
      "rnacomposer_orig 1il2 2.18\n",
      "rnacomposer_orig 3e5c 6.02\n",
      "rnacomposer_orig 1dk1 1.55\n",
      "rnacomposer_orig 1mms 12.20\n",
      "rnacomposer_orig 2du3 2.16\n",
      "rnacomposer_orig 3d2g 1.05\n",
      "rnacomposer_orig 2hoj 5.89\n",
      "rnacomposer_orig 2gdi 5.79\n",
      "rnacomposer_orig 1lng 2.09\n",
      "rnacomposer_orig 4frg 8.89\n",
      "rnacomposer_orig 4frn 10.16\n",
      "rnacomposer_orig 4gma 30.58\n",
      "rnacomposer_orig 4aob 3.64\n",
      "rnacomposer_orig 2lkr 17.92\n",
      "rnacomposer_orig 1fg0 34.11\n",
      "rnacomposer_orig 3pdr 10.31\n",
      "rnacomposer_rand 1mfq 7.05\n",
      "rnacomposer_rand 1gid 36.66\n",
      "rnacomposer_rand 1y26 9.74\n",
      "rnacomposer_rand 1il2 2.54\n",
      "rnacomposer_rand 3e5c 6.35\n",
      "rnacomposer_rand 1dk1 3.62\n",
      "rnacomposer_rand 1mms 12.14\n",
      "rnacomposer_rand 2du3 1.26\n",
      "rnacomposer_rand 3d2g 7.77\n",
      "rnacomposer_rand 2hoj 9.12\n",
      "rnacomposer_rand 2gdi 5.44\n",
      "rnacomposer_rand 1lng 11.35\n",
      "rnacomposer_rand 4frg 9.84\n",
      "rnacomposer_rand 4erj 23.12\n",
      "rnacomposer_rand 4aob 8.29\n",
      "rnacomposer_rand 2lkr 10.87\n",
      "rnacomposer_rand 3pdr 29.82\n",
      "\"\"\"\n",
      "\n",
      "dpoints = []\n",
      "for line in data.split('\\n'):\n",
      "    if len(line.split()) > 0:\n",
      "        dpoints += [line.split()]\n",
      "\n",
      "dpoints.sort(key=lambda x: x[1])\n",
      "dpoints = np.array(dpoints)\n",
      "\n",
      "pdbs = []\n",
      "for program in set(dpoints[:,0]):\n",
      "    pdbs += [set(dpoints[dpoints[:,0] == program][:,1])]\n",
      "    \n",
      "\n",
      "pdbs = set.intersection(*pdbs)        \n",
      "#common_pdbs = set(dpoints[:,0]).intersect(set(dpoints[:,1])).intersect(set(dpoints[:,2]\n",
      "\n",
      "print pdbs\n"
     ],
     "language": "python",
     "metadata": {},
     "outputs": [
      {
       "output_type": "stream",
       "stream": "stdout",
       "text": [
        "set(['1mfq', '3e5c', '2gdi', '3d2g', '4aob', '1il2', '2hoj', '1mms', '1y26', '4frg', '2lkr', '1lng', '1dk1', '2du3', '1gid'])\n"
       ]
      }
     ],
     "prompt_number": 7
    },
    {
     "cell_type": "code",
     "collapsed": false,
     "input": [
      "dpoints =  dpoints[[i for i,p in enumerate(dpoints[:,1]) if p in pdbs]] \n",
      "#print [i for i,p in enumerate(dpoints[:,1]) if p in pdbs]"
     ],
     "language": "python",
     "metadata": {},
     "outputs": [],
     "prompt_number": 8
    },
    {
     "cell_type": "code",
     "collapsed": false,
     "input": [
      "\n",
      "ax = pylab.axes()\n",
      "\n",
      "for pdb in set(dpoints[:,0]):\n",
      "    ax.plot(dpoints[dpoints[:,0] == pdb][:,2], label=pdb)\n",
      "\n",
      "\n",
      "pdbs = dpoints[dpoints[:,0] == pdb][:,1]\n",
      "print pdbs\n",
      "ax.set_xticks(range(len(pdbs)))\n",
      "ax.set_xticklabels(pdbs)\n",
      "\n",
      "ax.set_ylabel('rmsd')\n",
      "ax.set_xlabel('PDB Name')\n",
      "\n",
      "handles, labels = ax.get_legend_handles_labels()\n",
      "ax.legend(handles[::-1], labels[::-1])\n",
      "\n",
      "locs, labels = plt.xticks()\n",
      "plt.setp(labels, rotation=90)\n",
      "    "
     ],
     "language": "python",
     "metadata": {},
     "outputs": [
      {
       "output_type": "stream",
       "stream": "stdout",
       "text": [
        "['1dk1' '1gid' '1il2' '1lng' '1mfq' '1mms' '1y26' '2du3' '2gdi' '2hoj'\n",
        " '2lkr' '3d2g' '3e5c' '4aob' '4frg']\n"
       ]
      },
      {
       "output_type": "pyout",
       "prompt_number": 9,
       "text": [
        "[None,\n",
        " None,\n",
        " None,\n",
        " None,\n",
        " None,\n",
        " None,\n",
        " None,\n",
        " None,\n",
        " None,\n",
        " None,\n",
        " None,\n",
        " None,\n",
        " None,\n",
        " None,\n",
        " None]"
       ]
      },
      {
       "output_type": "display_data",
       "png": "[encoded data removed]"
      }
     ],
     "prompt_number": 9
    },
    {
     "cell_type": "code",
     "collapsed": false,
     "input": [
      "import operator as o\n",
      "\n",
      "fig = plt.figure()\n",
      "ax = fig.add_subplot(111)\n",
      "\n",
      "import matplotlib.cm as cm\n",
      "\n",
      "def barplot(ax, dpoints):\n",
      "    '''\n",
      "    Create a barchart for data across different categories with\n",
      "    multiple conditions for each category.\n",
      "    \n",
      "    @param ax: The plotting axes from matplotlib.\n",
      "    @param dpoints: The data set as an (n, 3) numpy array\n",
      "    '''\n",
      "    \n",
      "    # Aggregate the conditions and the categories according to their\n",
      "    # mean values\n",
      "    conditions = [(c, np.mean(dpoints[dpoints[:,0] == c][:,2].astype(float))) \n",
      "                  for c in np.unique(dpoints[:,0])]\n",
      "    categories = [(c, np.mean(dpoints[dpoints[:,1] == c][:,2].astype(float))) \n",
      "                  for c in np.unique(dpoints[:,1])]\n",
      "    \n",
      "    # sort the conditions, categories and data so that the bars in\n",
      "    # the plot will be ordered by category and condition\n",
      "    conditions = [c[0] for c in sorted(conditions, key=o.itemgetter(1))]\n",
      "    categories = [c[0] for c in sorted(categories, key=o.itemgetter(1))]\n",
      "    \n",
      "    dpoints = np.array(sorted(dpoints, key=lambda x: categories.index(x[1])))\n",
      "\n",
      "    # the space between each set of bars\n",
      "    space = 0.3\n",
      "    n = len(conditions)\n",
      "    width = (1 - space) / (len(conditions))\n",
      "    \n",
      "    # Create a set of bars at each position\n",
      "    for i,cond in enumerate(conditions):\n",
      "        indeces = range(1, len(categories)+1)\n",
      "        vals = dpoints[dpoints[:,0] == cond][:,2].astype(np.float)\n",
      "        pos = [j - (1 - space) / 2. + i * width for j in indeces]\n",
      "        ax.bar(pos, vals, width=width, label=cond, \n",
      "               color=cm.Accent(float(i) / n))\n",
      "    \n",
      "    # Set the x-axis tick labels to be equal to the categories\n",
      "    ax.set_xticks(indeces)\n",
      "    ax.set_xticklabels(categories)\n",
      "    plt.setp(plt.xticks()[1], rotation=90)\n",
      "    \n",
      "    # Add the axis labels\n",
      "    ax.set_ylabel(\"RMSD\")\n",
      "    ax.set_xlabel(\"Structure\")\n",
      "    \n",
      "    # Add a legend\n",
      "    handles, labels = ax.get_legend_handles_labels()\n",
      "    ax.legend(handles[::-1], labels[::-1], loc='upper left')\n",
      "    \n",
      "barplot(ax, dpoints)\n",
      "figsize(15, 6)\n",
      "plt.show()"
     ],
     "language": "python",
     "metadata": {},
     "outputs": [
      {
       "output_type": "display_data",
       "png": "[encoded data removed]"
      }
     ],
     "prompt_number": 12
    },
    {
     "cell_type": "markdown",
     "metadata": {},
     "source": [
      "### Examining the Stem Stem Orientations created by Rosetta as Compared to the Native ones ###"
     ]
    },
    {
     "cell_type": "code",
     "collapsed": false,
     "input": [
      "import pandas as pa\n",
      "import os.path as op\n",
      "import math as m\n",
      "import numpy as np\n",
      "\n",
      "native_stats_fn = op.expanduser('~/coarse/1jj2/stats/temp.angles')\n",
      "sampled_stats_fn = op.expanduser('~/coarse/1jj2_rosetta/stats/temp.angles')\n",
      "                                \n",
      "column_names = ['type', 'pdb', 's1', 's2', 'u', 'v', 't', 'r', 'u1', 'v1', 'atype', 'something1', 'something2', 'sth3', 'sth4']\n",
      "real_stats = pa.read_csv(native_stats_fn, header=None, sep=' ', names=column_names, engine='python')\n",
      "sampled_stats = pa.read_csv(sampled_stats_fn, header=None, sep=' ', names=column_names, engine='python')\n"
     ],
     "language": "python",
     "metadata": {},
     "outputs": []
    },
    {
     "cell_type": "code",
     "collapsed": false,
     "input": [
      "from corgy.builder.energy import select_angle, wrap\n",
      "\n",
      "rs_o = select_angle(real_stats)\n",
      "ss_o = select_angle(sampled_stats)\n",
      "\n",
      "rs_w = wrap(rs_o)\n",
      "ss_w = wrap(ss_o)\n"
     ],
     "language": "python",
     "metadata": {},
     "outputs": []
    },
    {
     "cell_type": "code",
     "collapsed": false,
     "input": [
      "plot(rs_o[: ,0], rs_o[: ,1], 'go', alpha=0.6)\n",
      "plot(ss_o[: ,0], ss_o[: ,1], 'ro', alpha=0.6)"
     ],
     "language": "python",
     "metadata": {},
     "outputs": []
    },
    {
     "cell_type": "code",
     "collapsed": false,
     "input": [
      "import scipy.stats as ss\n",
      "\n",
      "k_ro = ss.gaussian_kde(rs_o.T, bw_method='silverman')\n",
      "k_so = ss.gaussian_kde(ss_o.T, bw_method='silverman')\n",
      "\n",
      "k_rw = ss.gaussian_kde(rs_w.T, bw_method=k_ro.factor / 4.)\n",
      "k_sw = ss.gaussian_kde(ss_w.T, bw_method=k_so.factor / 4.)\n"
     ],
     "language": "python",
     "metadata": {},
     "outputs": []
    },
    {
     "cell_type": "code",
     "collapsed": false,
     "input": [
      "resolution = 20\n",
      "U,V = np.mgrid[-m.pi:m.pi:complex(0,resolution), 0:m.pi:complex(0,resolution)]\n",
      "positions = np.vstack([U.ravel(), V.ravel()])\n",
      "vals_r = k_rw(positions)\n",
      "vals_s = k_sw(positions)\n",
      "vals = vals_r - vals_s\n",
      "#vals = vals_r\n",
      "W = np.reshape(vals.T, U.shape)\n",
      "\n",
      "xmin = -m.pi\n",
      "xmax = m.pi\n",
      "ymin = 0\n",
      "ymax = m.pi\n",
      "\n",
      "figsize(15, 5)\n",
      "imshow(np.rot90(W), cmap=plt.cm.gist_earth_r, extent=[xmin, xmax, ymin, ymax])\n",
      "plot(rs_o[: ,0], rs_o[: ,1], 'go', alpha=0.6)\n",
      "plot(ss_o[: ,0], ss_o[: ,1], 'ro', alpha=0.6)"
     ],
     "language": "python",
     "metadata": {},
     "outputs": []
    },
    {
     "cell_type": "code",
     "collapsed": false,
     "input": [
      "a = rs_o\n",
      "r = np.ones((rs_o.shape[0],rs_o.shape[1]+1)); r[:,1:] = rs_o\n",
      "s = np.ones((ss_o.shape[0],ss_o.shape[1]+1)); s[:,1:] = ss_o\n",
      "\n",
      "def spherical_to_cartesian(s):\n",
      "    '''\n",
      "    Convert the array of spherical coordinates to cartesian. The\n",
      "    coordinates should be arranged such that each row contains one\n",
      "    set of three spherical coordinates.\n",
      "\n",
      "    @param s: An array of spherical coordinates.\n",
      "    @return: An array of cartesian coordinates.\n",
      "    '''\n",
      "    cart = np.zeros(s.shape)\n",
      "    cart[:,0] = s[:,0] * np.sin(s[:,1]) * np.cos(s[:,2])\n",
      "    cart[:,1] = s[:,0] * np.sin(s[:,1]) * np.sin(s[:,2])\n",
      "    cart[:,2] = s[:,0] * np.cos(s[:,1])\n",
      "    \n",
      "    return cart\n",
      "\n",
      "c_r = spherical_to_cartesian(r)\n",
      "c_s = spherical_to_cartesian(s)"
     ],
     "language": "python",
     "metadata": {},
     "outputs": []
    },
    {
     "cell_type": "code",
     "collapsed": false,
     "input": [
      "import matplotlib.pyplot as plt\n",
      "from mpl_toolkits.mplot3d import axes3d, Axes3D\n",
      "\n",
      "fig = plt.figure()\n",
      "ax = fig.add_subplot(111, projection='3d')\n",
      "ax = Axes3D(fig)\n",
      "ax.plot(c_r[:,0], c_r[:,1], c_r[:,2], 'o')\n",
      "ax.plot(c_s[:,0], c_s[:,1], c_s[:,2], 'o')"
     ],
     "language": "python",
     "metadata": {},
     "outputs": []
    },
    {
     "cell_type": "markdown",
     "metadata": {},
     "source": [
      "Hi"
     ]
    },
    {
     "cell_type": "code",
     "collapsed": false,
     "input": [
      "import corgy.builder.energy as cbe\n",
      "import corgy.graph.bulge_graph as cgb\n",
      "import corgy.builder.models as cbm\n",
      "\n",
      "bg_1jj2 = cgb.BulgeGraph(op.expanduser('~/coarse/1jj2/graph/temp.comp'))\n",
      "ase = cbe.AdjacentStemEnergy()"
     ],
     "language": "python",
     "metadata": {},
     "outputs": []
    },
    {
     "cell_type": "code",
     "collapsed": false,
     "input": [
      "#print ase.sampled_stats\n",
      "e = ase.eval_energy(cbm.SpatialModel(bg_1jj2))"
     ],
     "language": "python",
     "metadata": {},
     "outputs": []
    },
    {
     "cell_type": "code",
     "collapsed": false,
     "input": [
      "bg_1jj2_e = cgb.BulgeGraph(op.expanduser('~/coarse/1jj2_ernwin/graph/temp.comp'))\n",
      "e = ase.eval_energy(cbm.SpatialModel(bg_1jj2_e))"
     ],
     "language": "python",
     "metadata": {},
     "outputs": []
    },
    {
     "cell_type": "markdown",
     "metadata": {},
     "source": [
      "### Addenda: ###"
     ]
    },
    {
     "cell_type": "markdown",
     "metadata": {},
     "source": [
      "Coarsifying the necessary structures:\n",
      "\n",
      "     for file in $(cat test_file_list.txt); do ./fess/scripts/enumerate.sh fess/structures/${file}.pdb; done;"
     ]
    },
    {
     "cell_type": "code",
     "collapsed": false,
     "input": [],
     "language": "python",
     "metadata": {},
     "outputs": []
    },
    {
     "cell_type": "markdown",
     "metadata": {},
     "source": [
      "# Test Section #"
     ]
    },
    {
     "cell_type": "markdown",
     "metadata": {},
     "source": [
      "Is it possible to make a plot with two independent y-axes such that the tick marks align?\n",
      "\n",
      "Below is an example of half of the solution. I've doubled the y-axis using `twinx`, but the tick marks aren't aligned and the gridlines form an awkward pattern on the plot. Is there a way to make the tick marks share the same positions, but correspond to different y-values? The point would be to make the grid lines overlap for the two axes."
     ]
    },
    {
     "cell_type": "code",
     "collapsed": false,
     "input": [
      "import numpy as np\n",
      "\n",
      "a = np.random.normal(10, 3, size=20)\n",
      "b = np.random.normal(20, 5, size=40)\n",
      "\n",
      "fig, ax1 = plt.subplots()\n",
      "ax2 = ax1.twinx()\n",
      "ax1.hist(a)\n",
      "ax2.hist(b)\n",
      "\n",
      "ax1.set_yticks(np.linspace(0, ax1.get_ybound()[1]+1, 5))\n",
      "ax2.set_yticks(np.linspace(0, ax2.get_ybound()[1]+1, 5))"
     ],
     "language": "python",
     "metadata": {},
     "outputs": [
      {
       "output_type": "pyout",
       "prompt_number": 364,
       "text": [
        "[<matplotlib.axis.YTick at 0x20ecded0>,\n",
        " <matplotlib.axis.YTick at 0x2018f9d0>,\n",
        " <matplotlib.axis.YTick at 0x1f223ed0>,\n",
        " <matplotlib.axis.YTick at 0x1f22d590>,\n",
        " <matplotlib.axis.YTick at 0x1f22d610>]"
       ]
      },
      {
       "output_type": "display_data",
       "png": "[encoded data removed]"
      }
     ],
     "prompt_number": 364
    },
    {
     "cell_type": "code",
     "collapsed": false,
     "input": [
      "a"
     ],
     "language": "python",
     "metadata": {},
     "outputs": [
      {
       "output_type": "pyout",
       "prompt_number": 358,
       "text": [
        "100.32420637128017"
       ]
      }
     ],
     "prompt_number": 358
    },
    {
     "cell_type": "code",
     "collapsed": false,
     "input": [],
     "language": "python",
     "metadata": {},
     "outputs": []
    }
   ],
   "metadata": {}
  }
 ]
}