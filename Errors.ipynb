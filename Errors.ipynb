{
 "metadata": {
  "name": "Errors"
 },
 "nbformat": 3,
 "nbformat_minor": 0,
 "worksheets": [
  {
   "cells": [
    {
     "cell_type": "markdown",
     "metadata": {},
     "source": [
      "# Errors Encountered #\n"
     ]
    },
    {
     "cell_type": "markdown",
     "metadata": {},
     "source": [
      "## 23-10-2013 ##"
     ]
    },
    {
     "cell_type": "code",
     "collapsed": false,
     "input": [
      "import borgy.graph.bulge_graph as cgb\n",
      "import borgy.builder.models as cbm\n",
      "\n",
      "bg = cgb.BulgeGraph('error/13-10-18-stefs-structure.coord')\n",
      "sm = cbm.SpatialModel(bg)\n"
     ],
     "language": "python",
     "metadata": {},
     "outputs": [],
     "prompt_number": 7
    },
    {
     "cell_type": "code",
     "collapsed": false,
     "input": [
      "sm.sampled_from_bg()"
     ],
     "language": "python",
     "metadata": {},
     "outputs": [
      {
       "output_type": "stream",
       "stream": "stderr",
       "text": [
        "done loading stats\n",
        "some stuff x0\n"
       ]
      }
     ],
     "prompt_number": 10
    },
    {
     "cell_type": "code",
     "collapsed": false,
     "input": [
      "print sm.stem_defs['s0'].bp_length\n",
      "print bg.defines['s0']\n",
      "print sm.stem_defs['s0'].define\n"
     ],
     "language": "python",
     "metadata": {},
     "outputs": [
      {
       "output_type": "stream",
       "stream": "stdout",
       "text": [
        "4\n",
        "[1, 4, 39, 42]\n",
        "[111, 115, 153, 157]\n"
       ]
      }
     ],
     "prompt_number": 21
    },
    {
     "cell_type": "markdown",
     "metadata": {},
     "source": [
      "The define of the sampled stem has one more nucleotide than the define of the actual stem. The former is wrong and the latter is correct. The problem is actually that in the stats file the following line indicates that the length of the stem is 4, when in reality it should be five since nucleotides 111 and 115 are included in the stem.\n",
      "\n",
      "    stem RS_447_S_3 4 10.1941705115 2.27419746025 111 115 153 157\n",
      "\n",
      "This was an issue in the `get_stem_stats` function of the bulge_graph which simply took difference between the first and last coordinates rather than calling the appropriate `stem_length` function."
     ]
    },
    {
     "cell_type": "code",
     "collapsed": false,
     "input": [],
     "language": "python",
     "metadata": {},
     "outputs": []
    }
   ],
   "metadata": {}
  }
 ]
}