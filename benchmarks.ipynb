{
 "metadata": {
  "name": "benchmarks"
 },
 "nbformat": 3,
 "nbformat_minor": 0,
 "worksheets": [
  {
   "cells": [
    {
     "cell_type": "markdown",
     "metadata": {},
     "source": [
      "    cd /scr/plastilin/pkerp/projects/rnacomposer_benchmark/11.03.14\n",
      "    for file in $(cat ~/projects/ernwin/test_file_list.txt); do pdb_to_ss_fasta.py ~/projects/ernwin/fess/structures/${file}.pdb; done > all_seqs.fa;\n",
      "    python ../scripts/split_fasta_file.py all_seqs.fa 10 --prefix all_seqs\n",
      "    \n",
      "Submit to http://rnacomposer.cs.put.poznan.pl/Home. Download and unzip the files. Rename the files."
     ]
    },
    {
     "cell_type": "code",
     "collapsed": false,
     "input": [
      "import os\n",
      "import re\n",
      "import os.path as op\n",
      "\n",
      "rc_dir = '/scr/plastilin/pkerp/projects/rnacomposer_benchmark/11.03.14'\n",
      "\n",
      "for root, dirs, files in os.walk(rc_dir):\n",
      "    for f in files:\n",
      "        if re.match('[A-Za-z0-9_]{4}\\.pdb', f):\n",
      "            barename = os.path.splitext(f)[0]\n",
      "            os.rename(op.join(root, f),\n",
      "                      op.join(root, barename + \"_rnacomposer.pdb\"))\n",
      "        "
     ],
     "language": "python",
     "metadata": {},
     "outputs": [],
     "prompt_number": 19
    },
    {
     "cell_type": "markdown",
     "metadata": {},
     "source": [
      "Thread coarse-grain structures onto the files:\n"
     ]
    },
    {
     "cell_type": "code",
     "collapsed": false,
     "input": [
      "import os.path as op\n",
      "import shutil as sh\n",
      "import os\n",
      "import csv\n",
      "import warnings\n",
      "import forgi.threedee.utilities.graph_pdb as cgg\n",
      "import forgi.threedee.model.coarse_grain as ftmc\n",
      "import Bio.PDB as bpdb\n",
      "\n",
      "basename = '/scr/plastilin/pkerp/projects/rosetta_benchmark'\n",
      "coarse_dir = op.expanduser('~/doarse/')\n",
      "\n",
      "\n",
      "def thread_coarse_grain_onto_pdb(coarse_dir, graph_name, new_coarse_dir, pdb_filename):\n",
      "    if not op.exists(new_coarse_dir):\n",
      "        os.makedirs(new_coarse_dir)\n",
      "     # the prediction becomes the base pdb file\n",
      "    sh.copyfile(pdb_filename, op.join(new_coarse_dir, 'temp.pdb'))\n",
      "                \n",
      "    with warnings.catch_warnings():\n",
      "        warnings.simplefilter('ignore')\n",
      "        s = bpdb.PDBParser().get_structure('temp', pdb_filename)\n",
      "        chain = list(s.get_chains())[0]\n",
      "    \n",
      "    # the bulge graph will be the one used by the native structure\n",
      "    bg = ftmc.CoarseGrainRNA(op.join(coarse_dir, graph_name, 'temp.cg'))\n",
      "    #bg.seq_length = len(chain.get_list())\n",
      "    \n",
      "    # we just need to change the information about where the stems, bulges and loops\n",
      "    # are located\n",
      "    cgg.add_stem_information_from_pdb_chain(bg, chain)\n",
      "    cgg.add_bulge_information_from_pdb_chain(bg, chain)\n",
      "    cgg.add_loop_information_from_pdb_chain(bg, chain)\n",
      "    \n",
      "    bg.to_cg_file(op.join(new_coarse_dir, 'temp.cg'))"
     ],
     "language": "python",
     "metadata": {},
     "outputs": [],
     "prompt_number": 27
    },
    {
     "cell_type": "code",
     "collapsed": false,
     "input": [
      "for root, dirs, files in os.walk(rc_dir):\n",
      "    for f in files:\n",
      "        if f[-4:] == '.pdb':\n",
      "            barename = os.path.splitext(f)[0]\n",
      "            #print barename\n",
      "            pdbname = barename.split('_')[0]\n",
      "            \n",
      "            thread_coarse_grain_onto_pdb(coarse_dir, pdbname, \n",
      "                                         op.join(coarse_dir, barename), \n",
      "                                         op.join(root, f))\n",
      "print \"done\""
     ],
     "language": "python",
     "metadata": {},
     "outputs": [
      {
       "output_type": "stream",
       "stream": "stdout",
       "text": [
        " done\n"
       ]
      }
     ],
     "prompt_number": 37
    },
    {
     "cell_type": "code",
     "collapsed": false,
     "input": [
      "import forgi.utilities.debug as cud\n",
      "import forgi.threedee.utilities.rmsd as ftur\n",
      "import sys\n",
      "\n",
      "def iterate_over_test_files(test_filename = 'test_file_list.txt',\n",
      "                            coarse_dir = op.expanduser('~/doarse/')):\n",
      "\n",
      "    with open(test_filename, 'r') as f:\n",
      "        for line in f:\n",
      "            parts = line.strip().split(' ')\n",
      "            for part in parts:\n",
      "                yield part"
     ],
     "language": "python",
     "metadata": {},
     "outputs": [],
     "prompt_number": 28
    },
    {
     "cell_type": "code",
     "collapsed": false,
     "input": [
      "import forgi.threedee.model.coarse_grain as ftmc\n",
      "import forgi.threedee.utilities.graph_pdb as ftug\n",
      "import forgi.threedee.utilities.rmsd as ftur\n",
      "\n",
      "for file in iterate_over_test_files():\n",
      "    rnacomposer_name = file + \"_rnacomposer\"\n",
      "    \n",
      "    native_cg = ftmc.CoarseGrainRNA(op.join(coarse_dir, file, \"temp.cg\"))\n",
      "    rc_cg = ftmc.CoarseGrainRNA(op.join(coarse_dir, rnacomposer_name, \"temp.cg\"))\n",
      "    \n",
      "    vrs1 = ftug.bg_virtual_residues(native_cg)\n",
      "    vrs2 = ftug.bg_virtual_residues(rc_cg)\n",
      "    \n",
      "    print file,ftur.centered_drmsd(vrs1, vrs2)\n",
      "    \n",
      "    "
     ],
     "language": "python",
     "metadata": {},
     "outputs": [
      {
       "ename": "AttributeError",
       "evalue": "'module' object has no attribute 'centered_drmsd'",
       "output_type": "pyerr",
       "traceback": [
        "\u001b[1;31m---------------------------------------------------------------------------\u001b[0m\n\u001b[1;31mAttributeError\u001b[0m                            Traceback (most recent call last)",
        "\u001b[1;32m<ipython-input-36-ced5733cf12d>\u001b[0m in \u001b[0;36m<module>\u001b[1;34m()\u001b[0m\n\u001b[0;32m     12\u001b[0m     \u001b[0mvrs2\u001b[0m \u001b[1;33m=\u001b[0m \u001b[0mftug\u001b[0m\u001b[1;33m.\u001b[0m\u001b[0mbg_virtual_residues\u001b[0m\u001b[1;33m(\u001b[0m\u001b[0mrc_cg\u001b[0m\u001b[1;33m)\u001b[0m\u001b[1;33m\u001b[0m\u001b[0m\n\u001b[0;32m     13\u001b[0m \u001b[1;33m\u001b[0m\u001b[0m\n\u001b[1;32m---> 14\u001b[1;33m     \u001b[1;32mprint\u001b[0m \u001b[0mfile\u001b[0m\u001b[1;33m,\u001b[0m\u001b[0mftur\u001b[0m\u001b[1;33m.\u001b[0m\u001b[0mcentered_drmsd\u001b[0m\u001b[1;33m(\u001b[0m\u001b[0mvrs1\u001b[0m\u001b[1;33m,\u001b[0m \u001b[0mvrs2\u001b[0m\u001b[1;33m)\u001b[0m\u001b[1;33m\u001b[0m\u001b[0m\n\u001b[0m\u001b[0;32m     15\u001b[0m \u001b[1;33m\u001b[0m\u001b[0m\n\u001b[0;32m     16\u001b[0m \u001b[1;33m\u001b[0m\u001b[0m\n",
        "\u001b[1;31mAttributeError\u001b[0m: 'module' object has no attribute 'centered_drmsd'"
       ]
      },
      {
       "output_type": "stream",
       "stream": "stdout",
       "text": [
        " 1mfq"
       ]
      }
     ],
     "prompt_number": 36
    },
    {
     "cell_type": "code",
     "collapsed": false,
     "input": [],
     "language": "python",
     "metadata": {},
     "outputs": []
    }
   ],
   "metadata": {}
  }
 ]
}