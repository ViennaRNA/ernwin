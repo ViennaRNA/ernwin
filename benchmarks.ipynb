{
 "metadata": {
  "name": "benchmarks"
 },
 "nbformat": 3,
 "nbformat_minor": 0,
 "worksheets": [
  {
   "cells": [
    {
     "cell_type": "code",
     "collapsed": false,
     "input": [
      "%load_ext autoreload\n",
      "%autoreload 2\n",
      "%pylab inline"
     ],
     "language": "python",
     "metadata": {},
     "outputs": [
      {
       "output_type": "stream",
       "stream": "stdout",
       "text": [
        "\n",
        "Welcome to pylab, a matplotlib-based Python environment [backend: module://IPython.zmq.pylab.backend_inline].\n",
        "For more information, type 'help(pylab)'.\n"
       ]
      }
     ],
     "prompt_number": 1
    },
    {
     "cell_type": "markdown",
     "metadata": {},
     "source": [
      "For threading the rosetta structure see: test.forgi.threedee.utilies.graph_pdb_test.py\n",
      "\n",
      "The nucleotides in the rosetta chains need to be renumbered to match the numbering in the\n",
      "original pdb file."
     ]
    },
    {
     "cell_type": "markdown",
     "metadata": {},
     "source": [
      "    cd /scr/plastilin/pkerp/projects/rnacomposer_benchmark/11.03.14\n",
      "    for file in $(cat ~/projects/ernwin/test_file_list.txt); do pdb_to_ss_fasta.py ~/projects/ernwin/fess/structures/${file}.pdb; done > all_seqs.fa;\n",
      "    python ../scripts/split_fasta_file.py all_seqs.fa 10 --prefix all_seqs\n",
      "    \n",
      "Submit to http://rnacomposer.cs.put.poznan.pl/Home. Download and unzip the files. Rename the files."
     ]
    },
    {
     "cell_type": "code",
     "collapsed": false,
     "input": [
      "import os\n",
      "import re\n",
      "import os.path as op\n",
      "\n",
      "rc_dir = '/scr/plastilin/pkerp/projects/rnacomposer_benchmark/10.06.14'\n",
      "\n",
      "for root, dirs, files in os.walk(rc_dir):\n",
      "    for f in files:\n",
      "        if re.match('[A-Za-z0-9_]{4}\\.pdb', f):\n",
      "            barename = os.path.splitext(f)[0]\n",
      "            os.rename(op.join(root, f),\n",
      "                      op.join(root, barename + \"_rnacomposer.pdb\"))\n",
      "        "
     ],
     "language": "python",
     "metadata": {},
     "outputs": [],
     "prompt_number": 2
    },
    {
     "cell_type": "markdown",
     "metadata": {},
     "source": [
      "Thread coarse-grain structures onto the files:\n"
     ]
    },
    {
     "cell_type": "code",
     "collapsed": false,
     "input": [
      "import os.path as op\n",
      "import shutil as sh\n",
      "import os\n",
      "import csv\n",
      "import warnings\n",
      "import forgi.threedee.utilities.graph_pdb as cgg\n",
      "import forgi.threedee.model.coarse_grain as ftmc\n",
      "import Bio.PDB as bpdb\n",
      "\n",
      "basename = '/scr/plastilin/pkerp/projects/rosetta_benchmark'\n",
      "coarse_dir = op.expanduser('~/data/cgs/')\n",
      "\n",
      "\n",
      "def thread_coarse_grain_onto_pdb(coarse_dir, graph_name, new_coarse_dir, pdb_filename, graph_suffix='', calpha_name=\"C1'\", seq_ids=False):\n",
      "    if not op.exists(new_coarse_dir):\n",
      "        os.makedirs(new_coarse_dir)\n",
      "     # the prediction becomes the base pdb file\n",
      "    #sh.copyfile(pdb_filename, op.join(new_coarse_dir, 'temp.pdb'))\n",
      "                \n",
      "    with warnings.catch_warnings():\n",
      "        warnings.simplefilter('ignore')\n",
      "        s = bpdb.PDBParser().get_structure('temp', pdb_filename)\n",
      "        chain = list(s.get_chains())[0]\n",
      "    \n",
      "    # the bulge graph will be the one used by the native structure\n",
      "    bg = ftmc.CoarseGrainRNA(op.join(coarse_dir, graph_name + \".cg\"))\n",
      "    #bg.seq_length = len(chain.get_list())\n",
      "    \n",
      "    # we just need to change the information about where the stems, bulges and loops\n",
      "    # are located\n",
      "    cgg.catom_name = calpha_name\n",
      "    cgg.add_stem_information_from_pdb_chain(bg, chain, seq_ids=seq_ids)\n",
      "    cgg.add_bulge_information_from_pdb_chain(bg, chain)\n",
      "    cgg.add_loop_information_from_pdb_chain(bg, chain, seq_ids=seq_ids)\n",
      "    \n",
      "    bg.to_cg_file(op.join(new_coarse_dir, graph_name + graph_suffix + '.cg'))"
     ],
     "language": "python",
     "metadata": {},
     "outputs": [],
     "prompt_number": 59
    },
    {
     "cell_type": "code",
     "collapsed": false,
     "input": [
      "import forgi.utilities.debug as fud\n",
      "rc_dir = '/scr/plastilin/pkerp/projects/rnacomposer_benchmark/13.06.14'\n",
      "\n",
      "for root, dirs, files in os.walk(rc_dir):\n",
      "    for f in files:\n",
      "        if f[-4:] == '.pdb':\n",
      "            barename = os.path.splitext(f)[0]\n",
      "            #print barename\n",
      "            pdbname = barename.split('_')[0]\n",
      "            fud.pv('pdbname')\n",
      "\n",
      "            thread_coarse_grain_onto_pdb(coarse_dir, pdbname, \n",
      "                                         coarse_dir, \n",
      "                                         op.join(root, f), graph_suffix='_rnacomposer')\n",
      "print \"done\""
     ],
     "language": "python",
     "metadata": {},
     "outputs": [
      {
       "output_type": "stream",
       "stream": "stderr",
       "text": [
        "pdbname: 4FRN\n",
        "pdbname: 4GMA"
       ]
      },
      {
       "output_type": "stream",
       "stream": "stderr",
       "text": [
        "\n",
        "pdbname: 4KQY"
       ]
      },
      {
       "output_type": "stream",
       "stream": "stderr",
       "text": [
        "\n",
        "pdbname: 4FAW"
       ]
      },
      {
       "output_type": "stream",
       "stream": "stderr",
       "text": [
        "\n",
        "pdbname: 4LCK"
       ]
      },
      {
       "output_type": "stream",
       "stream": "stderr",
       "text": [
        "\n",
        "pdbname: 4GXY"
       ]
      },
      {
       "output_type": "stream",
       "stream": "stderr",
       "text": [
        "\n",
        "pdbname: 2HO7"
       ]
      },
      {
       "output_type": "stream",
       "stream": "stderr",
       "text": [
        "\n",
        "pdbname: 1U6B"
       ]
      },
      {
       "output_type": "stream",
       "stream": "stderr",
       "text": [
        "\n",
        "pdbname: 1GID"
       ]
      },
      {
       "output_type": "stream",
       "stream": "stderr",
       "text": [
        "\n",
        "pdbname: 1Y0Q"
       ]
      },
      {
       "output_type": "stream",
       "stream": "stderr",
       "text": [
        "\n",
        "pdbname: 1MFQ"
       ]
      },
      {
       "output_type": "stream",
       "stream": "stderr",
       "text": [
        "\n",
        "pdbname: 2A64"
       ]
      },
      {
       "output_type": "stream",
       "stream": "stderr",
       "text": [
        "\n",
        "pdbname: 1X8W"
       ]
      },
      {
       "output_type": "stream",
       "stream": "stderr",
       "text": [
        "\n",
        "pdbname: 2IL9"
       ]
      },
      {
       "output_type": "stream",
       "stream": "stderr",
       "text": [
        "\n",
        "pdbname: 1U9S"
       ]
      },
      {
       "output_type": "stream",
       "stream": "stderr",
       "text": [
        "\n",
        "pdbname: 1NBS"
       ]
      },
      {
       "output_type": "stream",
       "stream": "stderr",
       "text": [
        "\n",
        "pdbname: 3D0U"
       ]
      },
      {
       "output_type": "stream",
       "stream": "stderr",
       "text": [
        "\n",
        "pdbname: 2QBZ"
       ]
      },
      {
       "output_type": "stream",
       "stream": "stderr",
       "text": [
        "\n",
        "pdbname: 3P49"
       ]
      },
      {
       "output_type": "stream",
       "stream": "stderr",
       "text": [
        "\n",
        "pdbname: 2NZ4"
       ]
      },
      {
       "output_type": "stream",
       "stream": "stderr",
       "text": [
        "\n",
        "pdbname: 2XXA"
       ]
      },
      {
       "output_type": "stream",
       "stream": "stderr",
       "text": [
        "\n",
        "pdbname: 4A1C"
       ]
      },
      {
       "output_type": "stream",
       "stream": "stderr",
       "text": [
        "\n",
        "pdbname: 3DHS"
       ]
      },
      {
       "output_type": "stream",
       "stream": "stderr",
       "text": [
        "\n",
        "pdbname: 3Q1Q"
       ]
      },
      {
       "output_type": "stream",
       "stream": "stderr",
       "text": [
        "\n",
        "pdbname: 3V7E"
       ]
      },
      {
       "output_type": "stream",
       "stream": "stderr",
       "text": [
        "\n",
        "pdbname: 3DIR"
       ]
      },
      {
       "output_type": "stream",
       "stream": "stdout",
       "text": [
        "done\n"
       ]
      },
      {
       "output_type": "stream",
       "stream": "stderr",
       "text": [
        "\n"
       ]
      }
     ],
     "prompt_number": 115
    },
    {
     "cell_type": "code",
     "collapsed": false,
     "input": [
      "import forgi.utilities.debug as cud\n",
      "import forgi.threedee.utilities.rmsd as ftur\n",
      "import sys\n",
      "\n",
      "def iterate_over_test_files(test_filename = 'test_file_list.txt',\n",
      "                            coarse_dir = op.expanduser('~/data/cgs')):\n",
      "\n",
      "    with open(test_filename, 'r') as f:\n",
      "        for line in f:\n",
      "            parts = line.strip().split(' ')\n",
      "            for part in parts:\n",
      "                yield part"
     ],
     "language": "python",
     "metadata": {},
     "outputs": [],
     "prompt_number": 116
    },
    {
     "cell_type": "code",
     "collapsed": false,
     "input": [
      "def compare_cgs(suffix):\n",
      "    vals = []\n",
      "    \n",
      "    for fname in iterate_over_test_files():\n",
      "        rnacomposer_name = fname + \"_\" + suffix\n",
      "        \n",
      "        rc_cg_fname = op.join(coarse_dir, rnacomposer_name + \".cg\")\n",
      "        cg_fname = op.join(coarse_dir, fname + \".cg\")\n",
      "        \n",
      "        if not op.exists(cg_fname):\n",
      "            #print >>sys.stderr, \"Not found: %s\" % (cg_fname)\n",
      "            continue\n",
      "        \n",
      "        if not op.exists(rc_cg_fname):\n",
      "            #print >>sys.stderr, \"Not found: %s\" % (rc_cg_fname)\n",
      "            continue\n",
      "            \n",
      "        native_cg = ftmc.CoarseGrainRNA(cg_fname)\n",
      "        rc_cg = ftmc.CoarseGrainRNA(rc_cg_fname)\n",
      "        \n",
      "        vrs1 = ftug.bg_virtual_residues(native_cg)\n",
      "        vrs2 = ftug.bg_virtual_residues(rc_cg)\n",
      "        \n",
      "        print fname, suffix, native_cg.seq_length, \"%.1f\" % (ftur.centered_drmsd(vrs1, vrs2))\n",
      "        vals += [(fname, suffix, native_cg.seq_length, ftur.centered_drmsd(vrs1, vrs2))]\n",
      "    \n",
      "    return np.array(vals)\n",
      "        "
     ],
     "language": "python",
     "metadata": {},
     "outputs": [],
     "prompt_number": 117
    },
    {
     "cell_type": "code",
     "collapsed": false,
     "input": [
      "import forgi.threedee.model.coarse_grain as ftmc\n",
      "import forgi.threedee.utilities.graph_pdb as ftug\n",
      "import forgi.threedee.utilities.rmsd as ftur\n",
      "\n",
      "vals = dict()\n",
      "\n",
      "vals['rnacomposer'] = compare_cgs('rnacomposer')\n",
      "\n",
      "    \n",
      "    "
     ],
     "language": "python",
     "metadata": {},
     "outputs": [
      {
       "output_type": "stream",
       "stream": "stdout",
       "text": [
        "1GID rnacomposer 158 2.6\n",
        "1MFQ"
       ]
      },
      {
       "output_type": "stream",
       "stream": "stdout",
       "text": [
        " rnacomposer 127 3.5\n",
        "1NBS rnacomposer 150 "
       ]
      },
      {
       "output_type": "stream",
       "stream": "stdout",
       "text": [
        "2.7\n",
        "1U6B rnacomposer 195 "
       ]
      },
      {
       "output_type": "stream",
       "stream": "stdout",
       "text": [
        "8.4\n",
        "1U9S rnacomposer 155 "
       ]
      },
      {
       "output_type": "stream",
       "stream": "stdout",
       "text": [
        "3.8\n",
        "1X8W rnacomposer 247 "
       ]
      },
      {
       "output_type": "stream",
       "stream": "stdout",
       "text": [
        "19.1\n",
        "1Y0Q"
       ]
      },
      {
       "output_type": "stream",
       "stream": "stdout",
       "text": [
        " rnacomposer 229 15.9\n",
        "2A64"
       ]
      },
      {
       "output_type": "stream",
       "stream": "stdout",
       "text": [
        " rnacomposer 298 "
       ]
      },
      {
       "output_type": "stream",
       "stream": "stdout",
       "text": [
        "13.7\n",
        "2HO7"
       ]
      },
      {
       "output_type": "stream",
       "stream": "stdout",
       "text": [
        " rnacomposer 122 12.4\n",
        "2IL9 rnacomposer 135 21.8\n",
        "2NZ4 rnacomposer 140 13.7\n",
        "2QBZ"
       ]
      },
      {
       "output_type": "stream",
       "stream": "stdout",
       "text": [
        " rnacomposer 153 33.8\n",
        "2XXA"
       ]
      },
      {
       "output_type": "stream",
       "stream": "stdout",
       "text": [
        " rnacomposer 102 8.1\n",
        "3D0U rnacomposer 161 "
       ]
      },
      {
       "output_type": "stream",
       "stream": "stdout",
       "text": [
        "2.2\n",
        "3DHS rnacomposer 215 "
       ]
      },
      {
       "output_type": "stream",
       "stream": "stdout",
       "text": [
        "5.9\n",
        "3DIR rnacomposer 172 "
       ]
      },
      {
       "output_type": "stream",
       "stream": "stdout",
       "text": [
        "1.7\n",
        "3P49 rnacomposer 169 18.0\n",
        "3Q1Q"
       ]
      },
      {
       "output_type": "stream",
       "stream": "stdout",
       "text": [
        " rnacomposer 347 "
       ]
      },
      {
       "output_type": "stream",
       "stream": "stdout",
       "text": [
        "20.1\n",
        "3V7E"
       ]
      },
      {
       "output_type": "stream",
       "stream": "stdout",
       "text": [
        " rnacomposer 126 2.9\n",
        "4A1C rnacomposer 154 6.7\n",
        "4FAW"
       ]
      },
      {
       "output_type": "stream",
       "stream": "stdout",
       "text": [
        " rnacomposer 390 "
       ]
      },
      {
       "output_type": "stream",
       "stream": "stdout",
       "text": [
        "25.2\n",
        "4FRN"
       ]
      },
      {
       "output_type": "stream",
       "stream": "stdout",
       "text": [
        " rnacomposer 102 10.2\n",
        "4GMA rnacomposer 192 22.4\n",
        "4GXY"
       ]
      },
      {
       "output_type": "stream",
       "stream": "stdout",
       "text": [
        " rnacomposer 161 19.7\n",
        "4KQY rnacomposer 119 "
       ]
      },
      {
       "output_type": "stream",
       "stream": "stdout",
       "text": [
        "7.2\n",
        "4LCK rnacomposer 102 12.5\n"
       ]
      }
     ],
     "prompt_number": 118
    },
    {
     "cell_type": "code",
     "collapsed": false,
     "input": [
      "rc_dir = '/scr/pendari/pkerp/projects/nast_benchmarks/tests'\n",
      "\n",
      "filenames = dict()\n",
      "\n",
      "for root, dirs, files in os.walk(rc_dir):\n",
      "    for f in files:\n",
      "        if re.match('[A-Za-z0-9_]{4}_[A-Z0-9].?\\-nast\\.pdb', f):\n",
      "            #barename = os.path.splitext(f)[0]\n",
      "            barename = f.split('-')[0].split('_')[0]\n",
      "            filenames[barename] = op.join(root, f)\n",
      "            \n",
      "            print barename, filenames[barename]\n",
      "            thread_coarse_grain_onto_pdb(coarse_dir, barename, \n",
      "                                         coarse_dir, op.join(root, f), \n",
      "                                         graph_suffix='_nast', calpha_name=\"C3'\")\n",
      "            \"\"\"\n",
      "            os.rename(op.join(root, f),\n",
      "                      op.join(root, barename + \"_rnacomposer.pdb\"))\n",
      "            \"\"\""
     ],
     "language": "python",
     "metadata": {},
     "outputs": [
      {
       "output_type": "stream",
       "stream": "stdout",
       "text": [
        "3D0U /scr/pendari/pkerp/projects/nast_benchmarks/tests/3D0U_A/3D0U_A-nast.pdb\n",
        "3Q1Q"
       ]
      },
      {
       "output_type": "stream",
       "stream": "stdout",
       "text": [
        " /scr/pendari/pkerp/projects/nast_benchmarks/tests/3Q1Q_B/3Q1Q_B-nast.pdb\n",
        "1MFQ"
       ]
      },
      {
       "output_type": "stream",
       "stream": "stdout",
       "text": [
        " /scr/pendari/pkerp/projects/nast_benchmarks/tests/1MFQ_A/1MFQ_A-nast.pdb\n",
        "4FRN"
       ]
      },
      {
       "output_type": "stream",
       "stream": "stdout",
       "text": [
        " /scr/pendari/pkerp/projects/nast_benchmarks/tests/4FRN_A/4FRN_A-nast.pdb\n",
        "1X8W /scr/pendari/pkerp/projects/nast_benchmarks/tests/1X8W_B/1X8W_B-nast.pdb\n",
        "4A1C"
       ]
      },
      {
       "output_type": "stream",
       "stream": "stdout",
       "text": [
        " /scr/pendari/pkerp/projects/nast_benchmarks/tests/4A1C_2/4A1C_2-nast.pdb\n",
        "2IL9 /scr/pendari/pkerp/projects/nast_benchmarks/tests/2IL9_A/2IL9_A-nast.pdb\n",
        "1NBS"
       ]
      },
      {
       "output_type": "stream",
       "stream": "stdout",
       "text": [
        " /scr/pendari/pkerp/projects/nast_benchmarks/tests/1NBS_B/1NBS_B-nast.pdb\n",
        "2QBZ"
       ]
      },
      {
       "output_type": "stream",
       "stream": "stdout",
       "text": [
        " /scr/pendari/pkerp/projects/nast_benchmarks/tests/2QBZ_X/2QBZ_X-nast.pdb\n",
        "4LCK"
       ]
      },
      {
       "output_type": "stream",
       "stream": "stdout",
       "text": [
        " /scr/pendari/pkerp/projects/nast_benchmarks/tests/4LCK_C/4LCK_C-nast.pdb\n",
        "1GID /scr/pendari/pkerp/projects/nast_benchmarks/tests/1GID_A/1GID_A-nast.pdb\n",
        "4FAW"
       ]
      },
      {
       "output_type": "stream",
       "stream": "stdout",
       "text": [
        " /scr/pendari/pkerp/projects/nast_benchmarks/tests/4FAW_A/4FAW_A-nast.pdb\n",
        "4GMA"
       ]
      },
      {
       "output_type": "stream",
       "stream": "stdout",
       "text": [
        " /scr/pendari/pkerp/projects/nast_benchmarks/tests/4GMA_Z/4GMA_Z-nast.pdb\n",
        "2NZ4"
       ]
      },
      {
       "output_type": "stream",
       "stream": "stdout",
       "text": [
        " /scr/pendari/pkerp/projects/nast_benchmarks/tests/2NZ4_P/2NZ4_P-nast.pdb\n",
        "3P49"
       ]
      },
      {
       "output_type": "stream",
       "stream": "stdout",
       "text": [
        " /scr/pendari/pkerp/projects/nast_benchmarks/tests/3P49_A/3P49_A-nast.pdb\n",
        "3V7E"
       ]
      },
      {
       "output_type": "stream",
       "stream": "stdout",
       "text": [
        " /scr/pendari/pkerp/projects/nast_benchmarks/tests/3V7E_C/3V7E_C-nast.pdb\n",
        "3DHS"
       ]
      },
      {
       "output_type": "stream",
       "stream": "stdout",
       "text": [
        " /scr/pendari/pkerp/projects/nast_benchmarks/tests/3DHS_A/3DHS_A-nast.pdb\n",
        "4KQY"
       ]
      },
      {
       "output_type": "stream",
       "stream": "stdout",
       "text": [
        " /scr/pendari/pkerp/projects/nast_benchmarks/tests/4KQY_A/4KQY_A-nast.pdb\n",
        "2XXA"
       ]
      },
      {
       "output_type": "stream",
       "stream": "stdout",
       "text": [
        " /scr/pendari/pkerp/projects/nast_benchmarks/tests/2XXA_F/2XXA_F-nast.pdb\n",
        "3DIR"
       ]
      },
      {
       "output_type": "stream",
       "stream": "stdout",
       "text": [
        " /scr/pendari/pkerp/projects/nast_benchmarks/tests/3DIR_A/3DIR_A-nast.pdb\n",
        "1U6B"
       ]
      },
      {
       "output_type": "stream",
       "stream": "stdout",
       "text": [
        " /scr/pendari/pkerp/projects/nast_benchmarks/tests/1U6B_B/1U6B_B-nast.pdb\n"
       ]
      }
     ],
     "prompt_number": 122
    },
    {
     "cell_type": "code",
     "collapsed": false,
     "input": [
      "vals['nast'] = compare_cgs('nast')"
     ],
     "language": "python",
     "metadata": {},
     "outputs": [
      {
       "output_type": "stream",
       "stream": "stdout",
       "text": [
        "1GID nast 158 53.7\n",
        "1MFQ"
       ]
      },
      {
       "output_type": "stream",
       "stream": "stdout",
       "text": [
        " nast 127 11.2\n",
        "1NBS nast 150 "
       ]
      },
      {
       "output_type": "stream",
       "stream": "stdout",
       "text": [
        "18.8\n",
        "1U6B nast 195 "
       ]
      },
      {
       "output_type": "stream",
       "stream": "stdout",
       "text": [
        "15.4\n",
        "1X8W nast 247 "
       ]
      },
      {
       "output_type": "stream",
       "stream": "stdout",
       "text": [
        "76.4\n",
        "2IL9"
       ]
      },
      {
       "output_type": "stream",
       "stream": "stdout",
       "text": [
        " nast 135 21.1\n",
        "2NZ4 nast 140 15.5\n",
        "2QBZ nast 153 "
       ]
      },
      {
       "output_type": "stream",
       "stream": "stdout",
       "text": [
        "41.3\n",
        "2XXA nast 102 8.2\n",
        "3D0U"
       ]
      },
      {
       "output_type": "stream",
       "stream": "stdout",
       "text": [
        " nast 161 17.6\n",
        "3DHS"
       ]
      },
      {
       "output_type": "stream",
       "stream": "stdout",
       "text": [
        " nast 215 14.5\n",
        "3DIR"
       ]
      },
      {
       "output_type": "stream",
       "stream": "stdout",
       "text": [
        " nast 172 18.9\n",
        "3P49"
       ]
      },
      {
       "output_type": "stream",
       "stream": "stdout",
       "text": [
        " nast 169 25.1\n",
        "3Q1Q nast 347 "
       ]
      },
      {
       "output_type": "stream",
       "stream": "stdout",
       "text": [
        "29.3\n",
        "3V7E"
       ]
      },
      {
       "output_type": "stream",
       "stream": "stdout",
       "text": [
        " nast 126 16.1\n",
        "4A1C nast 154 8.9\n",
        "4FAW"
       ]
      },
      {
       "output_type": "stream",
       "stream": "stdout",
       "text": [
        " nast 390 "
       ]
      },
      {
       "output_type": "stream",
       "stream": "stdout",
       "text": [
        "58.3\n",
        "4FRN"
       ]
      },
      {
       "output_type": "stream",
       "stream": "stdout",
       "text": [
        " nast 102 21.5\n",
        "4GMA nast 192 "
       ]
      },
      {
       "output_type": "stream",
       "stream": "stdout",
       "text": [
        "43.2\n",
        "4KQY nast 119 "
       ]
      },
      {
       "output_type": "stream",
       "stream": "stdout",
       "text": [
        "13.7\n",
        "4LCK nast 102 5.0\n"
       ]
      }
     ],
     "prompt_number": 123
    },
    {
     "cell_type": "code",
     "collapsed": false,
     "input": [
      "rc_dir = '/scr/pendari/pkerp/projects/rosetta_benchmark/tests/'\n",
      "\n",
      "filenames = dict()\n",
      "\n",
      "for root, dirs, files in os.walk(rc_dir):\n",
      "    for f in files:\n",
      "        if re.match('S_0.pdb', f.strip()):\n",
      "            #barename = os.path.splitext(f)[0]\n",
      "            barename = root.split('/')[-3]\n",
      "            filenames[barename] = op.join(root, f)\n",
      "            \n",
      "            print barename, root\n",
      "            try:\n",
      "                thread_coarse_grain_onto_pdb(coarse_dir, barename, \n",
      "                                             coarse_dir, op.join(root, f), \n",
      "                                             graph_suffix='_rosetta', calpha_name=\"C3'\")\n",
      "            except Exception as e:\n",
      "                print e\n",
      "                \n",
      "            \"\"\"\n",
      "            os.rename(op.join(root, f),\n",
      "                      op.join(root, barename + \"_rnacomposer.pdb\"))\n",
      "            \"\"\""
     ],
     "language": "python",
     "metadata": {},
     "outputs": [
      {
       "output_type": "stream",
       "stream": "stdout",
       "text": [
        "3D0U /scr/pendari/pkerp/projects/rosetta_benchmark/tests/3D0U/1/generated-structures\n",
        "3Q1Q"
       ]
      },
      {
       "output_type": "stream",
       "stream": "stdout",
       "text": [
        " /scr/pendari/pkerp/projects/rosetta_benchmark/tests/3Q1Q/1/generated-structures\n",
        "4A1C"
       ]
      },
      {
       "output_type": "stream",
       "stream": "stdout",
       "text": [
        " /scr/pendari/pkerp/projects/rosetta_benchmark/tests/4A1C/1/generated-structures\n",
        "3DHS"
       ]
      },
      {
       "output_type": "stream",
       "stream": "stdout",
       "text": [
        " /scr/pendari/pkerp/projects/rosetta_benchmark/tests/3DHS/1/generated-structures\n",
        "2XXA"
       ]
      },
      {
       "output_type": "stream",
       "stream": "stdout",
       "text": [
        " /scr/pendari/pkerp/projects/rosetta_benchmark/tests/2XXA/1/generated-structures\n",
        "4GMA"
       ]
      },
      {
       "output_type": "stream",
       "stream": "stdout",
       "text": [
        " /scr/pendari/pkerp/projects/rosetta_benchmark/tests/4GMA/1/generated-structures\n",
        "3V7E"
       ]
      },
      {
       "output_type": "stream",
       "stream": "stdout",
       "text": [
        " /scr/pendari/pkerp/projects/rosetta_benchmark/tests/3V7E/1/generated-structures\n",
        "1GID"
       ]
      },
      {
       "output_type": "stream",
       "stream": "stdout",
       "text": [
        " /scr/pendari/pkerp/projects/rosetta_benchmark/tests/1GID/1/generated-structures\n",
        "4FRN"
       ]
      },
      {
       "output_type": "stream",
       "stream": "stdout",
       "text": [
        " /scr/pendari/pkerp/projects/rosetta_benchmark/tests/4FRN/1/generated-structures\n",
        "2QBZ"
       ]
      },
      {
       "output_type": "stream",
       "stream": "stdout",
       "text": [
        " /scr/pendari/pkerp/projects/rosetta_benchmark/tests/2QBZ/1/generated-structures\n",
        "4LCK"
       ]
      },
      {
       "output_type": "stream",
       "stream": "stdout",
       "text": [
        " /scr/pendari/pkerp/projects/rosetta_benchmark/tests/4LCK/1/generated-structures\n",
        "(' ', 91, ' ')\n",
        "1X8W"
       ]
      },
      {
       "output_type": "stream",
       "stream": "stdout",
       "text": [
        " /scr/pendari/pkerp/projects/rosetta_benchmark/tests/1X8W/1/generated-structures\n",
        "(' ', 246, ' ')"
       ]
      },
      {
       "output_type": "stream",
       "stream": "stdout",
       "text": [
        "\n",
        "1NBS /scr/pendari/pkerp/projects/rosetta_benchmark/tests/1NBS/1/generated-structures\n",
        "(' ', 142, ' ')"
       ]
      },
      {
       "output_type": "stream",
       "stream": "stdout",
       "text": [
        "\n",
        "4KQY /scr/pendari/pkerp/projects/rosetta_benchmark/tests/4KQY/1/generated-structures\n",
        "1Y0Q"
       ]
      },
      {
       "output_type": "stream",
       "stream": "stdout",
       "text": [
        " /scr/pendari/pkerp/projects/rosetta_benchmark/tests/1Y0Q/1/generated-structures\n",
        "4FAW"
       ]
      },
      {
       "output_type": "stream",
       "stream": "stdout",
       "text": [
        " /scr/pendari/pkerp/projects/rosetta_benchmark/tests/4FAW/1/generated-structures\n",
        "3DIR"
       ]
      },
      {
       "output_type": "stream",
       "stream": "stdout",
       "text": [
        " /scr/pendari/pkerp/projects/rosetta_benchmark/tests/3DIR/1/generated-structures\n",
        "1U6B"
       ]
      },
      {
       "output_type": "stream",
       "stream": "stdout",
       "text": [
        " /scr/pendari/pkerp/projects/rosetta_benchmark/tests/1U6B/1/generated-structures\n",
        "3P49"
       ]
      },
      {
       "output_type": "stream",
       "stream": "stdout",
       "text": [
        " /scr/pendari/pkerp/projects/rosetta_benchmark/tests/3P49/1/generated-structures\n",
        "1MFQ"
       ]
      },
      {
       "output_type": "stream",
       "stream": "stdout",
       "text": [
        " /scr/pendari/pkerp/projects/rosetta_benchmark/tests/1MFQ/1/generated-structures\n",
        "1U9S"
       ]
      },
      {
       "output_type": "stream",
       "stream": "stdout",
       "text": [
        " /scr/pendari/pkerp/projects/rosetta_benchmark/tests/1U9S/1/generated-structures\n"
       ]
      }
     ],
     "prompt_number": 124
    },
    {
     "cell_type": "code",
     "collapsed": false,
     "input": [
      "vals['rosetta'] = compare_cgs('rosetta')"
     ],
     "language": "python",
     "metadata": {},
     "outputs": [
      {
       "output_type": "stream",
       "stream": "stdout",
       "text": [
        "1GID rosetta 158 17.9\n",
        "1MFQ"
       ]
      },
      {
       "output_type": "stream",
       "stream": "stdout",
       "text": [
        " rosetta 127 20.0\n",
        "1U6B"
       ]
      },
      {
       "output_type": "stream",
       "stream": "stdout",
       "text": [
        " rosetta 195 18.7\n",
        "1U9S"
       ]
      },
      {
       "output_type": "stream",
       "stream": "stdout",
       "text": [
        " rosetta 155 18.2\n",
        "1Y0Q"
       ]
      },
      {
       "output_type": "stream",
       "stream": "stdout",
       "text": [
        " rosetta 229 "
       ]
      },
      {
       "output_type": "stream",
       "stream": "stdout",
       "text": [
        "22.7\n",
        "2QBZ"
       ]
      },
      {
       "output_type": "stream",
       "stream": "stdout",
       "text": [
        " rosetta 153 41.8\n",
        "2XXA"
       ]
      },
      {
       "output_type": "stream",
       "stream": "stdout",
       "text": [
        " rosetta 102 9.4\n",
        "3D0U rosetta 161 "
       ]
      },
      {
       "output_type": "stream",
       "stream": "stdout",
       "text": [
        "15.6\n",
        "3DHS"
       ]
      },
      {
       "output_type": "stream",
       "stream": "stdout",
       "text": [
        " rosetta 215 "
       ]
      },
      {
       "output_type": "stream",
       "stream": "stdout",
       "text": [
        "13.8\n",
        "3DIR"
       ]
      },
      {
       "output_type": "stream",
       "stream": "stdout",
       "text": [
        " rosetta 172 "
       ]
      },
      {
       "output_type": "stream",
       "stream": "stdout",
       "text": [
        "17.4\n",
        "3P49"
       ]
      },
      {
       "output_type": "stream",
       "stream": "stdout",
       "text": [
        " rosetta 169 25.4\n",
        "3Q1Q"
       ]
      },
      {
       "output_type": "stream",
       "stream": "stdout",
       "text": [
        " rosetta 347 "
       ]
      },
      {
       "output_type": "stream",
       "stream": "stdout",
       "text": [
        "22.5\n",
        "3V7E"
       ]
      },
      {
       "output_type": "stream",
       "stream": "stdout",
       "text": [
        " rosetta 126 18.9\n",
        "4A1C"
       ]
      },
      {
       "output_type": "stream",
       "stream": "stdout",
       "text": [
        " rosetta 154 9.7\n",
        "4FAW"
       ]
      },
      {
       "output_type": "stream",
       "stream": "stdout",
       "text": [
        " rosetta 390 "
       ]
      },
      {
       "output_type": "stream",
       "stream": "stdout",
       "text": [
        "38.3\n",
        "4FRN"
       ]
      },
      {
       "output_type": "stream",
       "stream": "stdout",
       "text": [
        " rosetta 102 11.7\n",
        "4GMA rosetta 192 "
       ]
      },
      {
       "output_type": "stream",
       "stream": "stdout",
       "text": [
        "27.9\n",
        "4KQY rosetta 119 "
       ]
      },
      {
       "output_type": "stream",
       "stream": "stdout",
       "text": [
        "19.9\n"
       ]
      }
     ],
     "prompt_number": 125
    },
    {
     "cell_type": "code",
     "collapsed": false,
     "input": [
      "rc_dir = '/home/mescalin/pkerp/projects/ernwin/new_sampled/discrete'\n",
      "\n",
      "filenames = dict()\n",
      "\n",
      "for root, dirs, files in os.walk(rc_dir):\n",
      "    for f in files:\n",
      "        if re.match('best0.coord', f.strip()):\n",
      "            #barename = os.path.splitext(f)[0]\n",
      "            barename = root.split('/')[-1].split('_')[0]\n",
      "            filenames[barename] = op.join(root, f)\n",
      "            \n",
      "            print barename, filenames[barename]\n",
      "            sh.copyfile(filenames[barename], op.join(coarse_dir, barename + \"_ernwin.cg\"))\n",
      "                \n",
      "            \"\"\"\n",
      "            os.rename(op.join(root, f),\n",
      "                      op.join(root, barename + \"_rnacomposer.pdb\"))\n",
      "            \"\"\""
     ],
     "language": "python",
     "metadata": {},
     "outputs": [
      {
       "output_type": "stream",
       "stream": "stdout",
       "text": [
        "1GID /home/mescalin/pkerp/projects/ernwin/new_sampled/discrete/cylinder-shortestloop-rog/1GID_A/best0.coord\n",
        "4FRN"
       ]
      },
      {
       "output_type": "stream",
       "stream": "stdout",
       "text": [
        " /home/mescalin/pkerp/projects/ernwin/new_sampled/discrete/cylinder-shortestloop-rog/4FRN_A/best0.coord\n",
        "1Y0Q"
       ]
      },
      {
       "output_type": "stream",
       "stream": "stdout",
       "text": [
        " /home/mescalin/pkerp/projects/ernwin/new_sampled/discrete/cylinder-perloop-rog/1Y0Q_A/best0.coord\n",
        "4KQY"
       ]
      },
      {
       "output_type": "stream",
       "stream": "stdout",
       "text": [
        " /home/mescalin/pkerp/projects/ernwin/new_sampled/discrete/cylinder-perloop-rog/4KQY_A/best0.coord\n",
        "1U9S"
       ]
      },
      {
       "output_type": "stream",
       "stream": "stdout",
       "text": [
        " /home/mescalin/pkerp/projects/ernwin/new_sampled/discrete/cylinder-perloop-rog/1U9S_A/best0.coord\n",
        "4GXY"
       ]
      },
      {
       "output_type": "stream",
       "stream": "stdout",
       "text": [
        " /home/mescalin/pkerp/projects/ernwin/new_sampled/discrete/cylinder-perloop-rog/4GXY_A/best0.coord\n",
        "2XXA"
       ]
      },
      {
       "output_type": "stream",
       "stream": "stdout",
       "text": [
        " /home/mescalin/pkerp/projects/ernwin/new_sampled/discrete/cylinder-perloop-rog/2XXA_F/best0.coord\n",
        "2A64"
       ]
      },
      {
       "output_type": "stream",
       "stream": "stdout",
       "text": [
        " /home/mescalin/pkerp/projects/ernwin/new_sampled/discrete/cylinder-perloop-rog/2A64_A/best0.coord\n",
        "3DHS"
       ]
      },
      {
       "output_type": "stream",
       "stream": "stdout",
       "text": [
        " /home/mescalin/pkerp/projects/ernwin/new_sampled/discrete/cylinder-perloop-rog/3DHS_A/best0.coord\n",
        "1MFQ"
       ]
      },
      {
       "output_type": "stream",
       "stream": "stdout",
       "text": [
        " /home/mescalin/pkerp/projects/ernwin/new_sampled/discrete/cylinder-perloop-rog/1MFQ_A/best0.coord\n",
        "3D0U"
       ]
      },
      {
       "output_type": "stream",
       "stream": "stdout",
       "text": [
        " /home/mescalin/pkerp/projects/ernwin/new_sampled/discrete/cylinder-perloop-rog/3D0U_A/best0.coord\n",
        "4FAW"
       ]
      },
      {
       "output_type": "stream",
       "stream": "stdout",
       "text": [
        " /home/mescalin/pkerp/projects/ernwin/new_sampled/discrete/cylinder-perloop-rog/4FAW_A/best0.coord\n",
        "3DIR"
       ]
      },
      {
       "output_type": "stream",
       "stream": "stdout",
       "text": [
        " /home/mescalin/pkerp/projects/ernwin/new_sampled/discrete/cylinder-perloop-rog/3DIR_A/best0.coord\n",
        "1GID"
       ]
      },
      {
       "output_type": "stream",
       "stream": "stdout",
       "text": [
        " /home/mescalin/pkerp/projects/ernwin/new_sampled/discrete/cylinder-perloop-rog/1GID_A/best0.coord\n",
        "3P49"
       ]
      },
      {
       "output_type": "stream",
       "stream": "stdout",
       "text": [
        " /home/mescalin/pkerp/projects/ernwin/new_sampled/discrete/cylinder-perloop-rog/3P49_A/best0.coord\n",
        "4FRN"
       ]
      },
      {
       "output_type": "stream",
       "stream": "stdout",
       "text": [
        " /home/mescalin/pkerp/projects/ernwin/new_sampled/discrete/cylinder-perloop-rog/4FRN_A/best0.coord\n",
        "3V7E"
       ]
      },
      {
       "output_type": "stream",
       "stream": "stdout",
       "text": [
        " /home/mescalin/pkerp/projects/ernwin/new_sampled/discrete/cylinder-perloop-rog/3V7E_C/best0.coord\n",
        "2NZ4"
       ]
      },
      {
       "output_type": "stream",
       "stream": "stdout",
       "text": [
        " /home/mescalin/pkerp/projects/ernwin/new_sampled/discrete/cylinder-perloop-rog/2NZ4_P/best0.coord\n",
        "2QBZ"
       ]
      },
      {
       "output_type": "stream",
       "stream": "stdout",
       "text": [
        " /home/mescalin/pkerp/projects/ernwin/new_sampled/discrete/cylinder-perloop-rog/2QBZ_X/best0.coord\n"
       ]
      }
     ],
     "prompt_number": 131
    },
    {
     "cell_type": "code",
     "collapsed": false,
     "input": [
      "vals['ernwin'] = compare_cgs('ernwin')"
     ],
     "language": "python",
     "metadata": {},
     "outputs": [
      {
       "output_type": "stream",
       "stream": "stdout",
       "text": [
        "1GID ernwin 158 18.7\n",
        "1MFQ"
       ]
      },
      {
       "output_type": "stream",
       "stream": "stdout",
       "text": [
        " ernwin 127 8.0\n",
        "1U9S ernwin 155 "
       ]
      },
      {
       "output_type": "stream",
       "stream": "stdout",
       "text": [
        "9.5\n",
        "1Y0Q ernwin 229 "
       ]
      },
      {
       "output_type": "stream",
       "stream": "stdout",
       "text": [
        "18.2\n",
        "2A64"
       ]
      },
      {
       "output_type": "stream",
       "stream": "stdout",
       "text": [
        " ernwin 298 "
       ]
      },
      {
       "output_type": "stream",
       "stream": "stdout",
       "text": [
        "14.9\n",
        "2NZ4"
       ]
      },
      {
       "output_type": "stream",
       "stream": "stdout",
       "text": [
        " ernwin 140 19.6\n",
        "2QBZ ernwin 153 "
       ]
      },
      {
       "output_type": "stream",
       "stream": "stdout",
       "text": [
        "13.9\n",
        "2XXA"
       ]
      },
      {
       "output_type": "stream",
       "stream": "stdout",
       "text": [
        " ernwin 102 23.1\n",
        "3D0U ernwin 161 "
       ]
      },
      {
       "output_type": "stream",
       "stream": "stdout",
       "text": [
        "16.2\n",
        "3DHS ernwin 215 "
       ]
      },
      {
       "output_type": "stream",
       "stream": "stdout",
       "text": [
        "14.1\n",
        "3DIR"
       ]
      },
      {
       "output_type": "stream",
       "stream": "stdout",
       "text": [
        " ernwin 172 12.5\n",
        "3P49"
       ]
      },
      {
       "output_type": "stream",
       "stream": "stdout",
       "text": [
        " ernwin 169 13.4\n",
        "3V7E ernwin 126 "
       ]
      },
      {
       "output_type": "stream",
       "stream": "stdout",
       "text": [
        "12.0\n",
        "4FAW ernwin 390 "
       ]
      },
      {
       "output_type": "stream",
       "stream": "stdout",
       "text": [
        "24.4\n",
        "4FRN"
       ]
      },
      {
       "output_type": "stream",
       "stream": "stdout",
       "text": [
        " ernwin 102 12.2\n",
        "4GXY ernwin 161 14.4\n",
        "4KQY"
       ]
      },
      {
       "output_type": "stream",
       "stream": "stdout",
       "text": [
        " ernwin 119 21.2\n"
       ]
      }
     ],
     "prompt_number": 132
    },
    {
     "cell_type": "code",
     "collapsed": false,
     "input": [
      "print vals"
     ],
     "language": "python",
     "metadata": {},
     "outputs": [
      {
       "output_type": "stream",
       "stream": "stdout",
       "text": [
        "{'rosetta': array([['1GID', 'rosetta', '158', '17.9456525759'],\n",
        "       ['1MFQ', 'rosetta', '127', '20.0313357258'],\n",
        "       ['1U6B', 'rosetta', '195', '18.743182878'],\n",
        "       ['1U9S', 'rosetta', '155', '18.2277056667'],\n",
        "       ['1Y0Q', 'rosetta', '229', '22.6865461557'],\n",
        "       ['2QBZ', 'rosetta', '153', '41.7638824187'],\n",
        "       ['2XXA', 'rosetta', '102', '9.44650805151'],\n",
        "       ['3D0U', 'rosetta', '161', '15.6090594777'],\n",
        "       ['3DHS', 'rosetta', '215', '13.8221579367'],\n",
        "       ['3DIR', 'rosetta', '172', '17.4484793611'],\n",
        "       ['3P49', 'rosetta', '169', '25.3572994893'],\n",
        "       ['3Q1Q', 'rosetta', '347', '22.462906841'],\n",
        "       ['3V7E', 'rosetta', '126', '18.8603716089'],\n",
        "       ['4A1C', 'rosetta', '154', '9.70004598433'],\n",
        "       ['4FAW', 'rosetta', '390', '38.2627594928'],\n",
        "       ['4FRN', 'rosetta', '102', '11.7272488931'],\n",
        "       ['4GMA', 'rosetta', '192', '27.892034291'],\n",
        "       ['4KQY', 'rosetta', '119', '19.8962019687']], \n",
        "      dtype='|S13'), 'rnacomposer': array([['1GID', 'rnacomposer', '158', '2.59921513031'],\n",
        "       ['1MFQ', 'rnacomposer', '127', '3.46764063559'],\n",
        "       ['1NBS', 'rnacomposer', '150', '2.70216046671'],\n",
        "       ['1U6B', 'rnacomposer', '195', '8.36282445778'],\n",
        "       ['1U9S', 'rnacomposer', '155', '3.79246909332'],\n",
        "       ['1X8W', 'rnacomposer', '247', '19.0656725259'],\n",
        "       ['1Y0Q', 'rnacomposer', '229', '15.9424470218'],\n",
        "       ['2A64', 'rnacomposer', '298', '13.7389947972'],\n",
        "       ['2HO7', 'rnacomposer', '122', '12.406861852'],\n",
        "       ['2IL9', 'rnacomposer', '135', '21.7927035883'],\n",
        "       ['2NZ4', 'rnacomposer', '140', '13.6679970008'],\n",
        "       ['2QBZ', 'rnacomposer', '153', '33.8087279403'],\n",
        "       ['2XXA', 'rnacomposer', '102', '8.13191645622'],\n",
        "       ['3D0U', 'rnacomposer', '161', '2.2223772881'],\n",
        "       ['3DHS', 'rnacomposer', '215', '5.93311496768'],\n",
        "       ['3DIR', 'rnacomposer', '172', '1.72776407134'],\n",
        "       ['3P49', 'rnacomposer', '169', '17.9696506429'],\n",
        "       ['3Q1Q', 'rnacomposer', '347', '20.1143430289'],\n",
        "       ['3V7E', 'rnacomposer', '126', '2.9064655732'],\n",
        "       ['4A1C', 'rnacomposer', '154', '6.7091738302'],\n",
        "       ['4FAW', 'rnacomposer', '390', '25.1656528214'],\n",
        "       ['4FRN', 'rnacomposer', '102', '10.1879530753'],\n",
        "       ['4GMA', 'rnacomposer', '192', '22.4013798674'],\n",
        "       ['4GXY', 'rnacomposer', '161', '19.7247384801'],\n",
        "       ['4KQY', 'rnacomposer', '119', '7.18268868293'],\n",
        "       ['4LCK', 'rnacomposer', '102', '12.5302517895']], \n",
        "      dtype='|S13'), 'nast': array([['1GID', 'nast', '158', '53.6651070719'],\n",
        "       ['1MFQ', 'nast', '127', '11.2150248879'],\n",
        "       ['1NBS', 'nast', '150', '18.7976463202'],\n",
        "       ['1U6B', 'nast', '195', '15.446670641'],\n",
        "       ['1X8W', 'nast', '247', '76.3875492026'],\n",
        "       ['2IL9', 'nast', '135', '21.0823113317'],\n",
        "       ['2NZ4', 'nast', '140', '15.5155338702'],\n",
        "       ['2QBZ', 'nast', '153', '41.340027753'],\n",
        "       ['2XXA', 'nast', '102', '8.19279909811'],\n",
        "       ['3D0U', 'nast', '161', '17.6365506175'],\n",
        "       ['3DHS', 'nast', '215', '14.5227629143'],\n",
        "       ['3DIR', 'nast', '172', '18.8503435388'],\n",
        "       ['3P49', 'nast', '169', '25.1103204212'],\n",
        "       ['3Q1Q', 'nast', '347', '29.3154192074'],\n",
        "       ['3V7E', 'nast', '126', '16.0887571877'],\n",
        "       ['4A1C', 'nast', '154', '8.93306613326'],\n",
        "       ['4FAW', 'nast', '390', '58.2953001307'],\n",
        "       ['4FRN', 'nast', '102', '21.4570249429'],\n",
        "       ['4GMA', 'nast', '192', '43.2340293133'],\n",
        "       ['4KQY', 'nast', '119', '13.6958372595'],\n",
        "       ['4LCK', 'nast', '102', '4.96035941419']], \n",
        "      dtype='|S13'), 'ernwin': array([['1GID', 'ernwin', '158', '18.6838043232'],\n",
        "       ['1MFQ', 'ernwin', '127', '8.00130507435'],\n",
        "       ['1U9S', 'ernwin', '155', '9.52308132309'],\n",
        "       ['1Y0Q', 'ernwin', '229', '18.1873399856'],\n",
        "       ['2A64', 'ernwin', '298', '14.903494039'],\n",
        "       ['2NZ4', 'ernwin', '140', '19.5578733352'],\n",
        "       ['2QBZ', 'ernwin', '153', '13.9306703749'],\n",
        "       ['2XXA', 'ernwin', '102', '23.0504893357'],\n",
        "       ['3D0U', 'ernwin', '161', '16.2155692196'],\n",
        "       ['3DHS', 'ernwin', '215', '14.1266093893'],\n",
        "       ['3DIR', 'ernwin', '172', '12.4970412572'],\n",
        "       ['3P49', 'ernwin', '169', '13.3718264226'],\n",
        "       ['3V7E', 'ernwin', '126', '11.9609280926'],\n",
        "       ['4FAW', 'ernwin', '390', '24.3698245743'],\n",
        "       ['4FRN', 'ernwin', '102', '12.1924267173'],\n",
        "       ['4GXY', 'ernwin', '161', '14.380505371'],\n",
        "       ['4KQY', 'ernwin', '119', '21.2464808132']], \n",
        "      dtype='|S13')}\n"
       ]
      }
     ],
     "prompt_number": 133
    },
    {
     "cell_type": "code",
     "collapsed": false,
     "input": [
      "fig = plt.figure(figsize=(10,10))\n",
      "ax = fig.add_subplot(1,1,1) \n",
      "import brewer2mpl\n",
      "dark2 = brewer2mpl.get_map('Dark2', 'qualitative', len(vals.keys())).mpl_colors\n",
      "\n",
      "import scipy.stats as ss\n",
      "\n",
      "for i,k in enumerate(vals.keys()):\n",
      "    xs = np.log(map(float, vals[k][:,2]))\n",
      "    ys = map(float, vals[k][:,3])\n",
      "    \n",
      "    xxs = np.linspace(min(xs), max(xs), 100)\n",
      "    \n",
      "    #print xs, ys\n",
      "    slope, intercept, r_value, p_value, std_err = ss.linregress(xs,ys)\n",
      "    print k, r_value, p_value\n",
      "    \n",
      "    yys = xxs * slope + intercept\n",
      "    ax.plot(xs, ys, 'o', color=dark2[i], label=k)\n",
      "    ax.plot(xxs, yys, '-', color=dark2[i])\n",
      "    \n",
      "    ls, lb = ax.get_legend_handles_labels()\n",
      "    plt.legend(ls, lb, loc=2, borderaxespad=0.)"
     ],
     "language": "python",
     "metadata": {},
     "outputs": [
      {
       "output_type": "stream",
       "stream": "stdout",
       "text": [
        "rosetta 0.493920920733 0.0372225666477\n",
        "rnacomposer 0.377944806296 0.0569538098145\n",
        "nast 0.60638363721 0.00356695677369\n",
        "ernwin 0.242531984984 0.348282815497\n"
       ]
      },
      {
       "output_type": "display_data",
       "png": "[encoded data removed]"
      }
     ],
     "prompt_number": 134
    },
    {
     "cell_type": "markdown",
     "metadata": {},
     "source": [
      "    [pkerp@pendari ernwin]$ cat all_rmsds.csv | grep likely | grep cylinder-shortest | awk '{print $2,\"ernwin\",$3,$4}'\n",
      "    3e5c ernwin 52 6.1\n",
      "    1y26 ernwin 71 4.8\n",
      "    1il2 ernwin 75 6.2\n",
      "    4frg ernwin 84 8.1\n",
      "    4frn ernwin 102 13.4\n",
      "    2lkr ernwin 111 9.5\n",
      "    1mfq ernwin 127 12.9\n",
      "    1gid ernwin 158 22.4\n",
      "    3pdr ernwin 161 16.8\n",
      "    4gma ernwin 192 18.3\n",
      "    1fg0 ernwin 496 25.3"
     ]
    },
    {
     "cell_type": "code",
     "collapsed": false,
     "input": [],
     "language": "python",
     "metadata": {},
     "outputs": []
    },
    {
     "cell_type": "code",
     "collapsed": false,
     "input": [
      "for fname in iterate_over_test_files():\n",
      "    rnacomposer_name = fname + \"_rosetta\"\n",
      "    \n",
      "    native_cg = ftmc.CoarseGrainRNA(op.join(coarse_dir, fname + \".cg\"))\n",
      "    \n",
      "    try:\n",
      "        rc_cg = ftmc.CoarseGrainRNA(op.join(coarse_dir, rnacomposer_name + \".cg\"))\n",
      "    except IOError:\n",
      "        print \"File not found:\", rnacomposer_name\n",
      "        continue\n",
      "            \n",
      "    \n",
      "    vrs1 = ftug.bg_virtual_residues(native_cg)\n",
      "    vrs2 = ftug.bg_virtual_residues(rc_cg)\n",
      "    \n",
      "    print file, \"rosetta\", native_cg.seq_length, \"%.1f\" % (ftur.centered_drmsd(vrs1, vrs2))\n",
      "    "
     ],
     "language": "python",
     "metadata": {},
     "outputs": [
      {
       "ename": "IOError",
       "evalue": "[Errno 2] No such file or directory: '/home/mescalin/pkerp/data/cgs/1GID/temp.cg'",
       "output_type": "pyerr",
       "traceback": [
        "\u001b[1;31m---------------------------------------------------------------------------\u001b[0m\n\u001b[1;31mIOError\u001b[0m                                   Traceback (most recent call last)",
        "\u001b[1;32m<ipython-input-14-546cdfd00aa2>\u001b[0m in \u001b[0;36m<module>\u001b[1;34m()\u001b[0m\n\u001b[0;32m      2\u001b[0m     \u001b[0mrnacomposer_name\u001b[0m \u001b[1;33m=\u001b[0m \u001b[0mfile\u001b[0m \u001b[1;33m+\u001b[0m \u001b[1;34m\"_rosetta\"\u001b[0m\u001b[1;33m\u001b[0m\u001b[0m\n\u001b[0;32m      3\u001b[0m \u001b[1;33m\u001b[0m\u001b[0m\n\u001b[1;32m----> 4\u001b[1;33m     \u001b[0mnative_cg\u001b[0m \u001b[1;33m=\u001b[0m \u001b[0mftmc\u001b[0m\u001b[1;33m.\u001b[0m\u001b[0mCoarseGrainRNA\u001b[0m\u001b[1;33m(\u001b[0m\u001b[0mop\u001b[0m\u001b[1;33m.\u001b[0m\u001b[0mjoin\u001b[0m\u001b[1;33m(\u001b[0m\u001b[0mcoarse_dir\u001b[0m\u001b[1;33m,\u001b[0m \u001b[0mfile\u001b[0m\u001b[1;33m,\u001b[0m \u001b[1;34m\"temp.cg\"\u001b[0m\u001b[1;33m)\u001b[0m\u001b[1;33m)\u001b[0m\u001b[1;33m\u001b[0m\u001b[0m\n\u001b[0m\u001b[0;32m      5\u001b[0m \u001b[1;33m\u001b[0m\u001b[0m\n\u001b[0;32m      6\u001b[0m     \u001b[1;32mtry\u001b[0m\u001b[1;33m:\u001b[0m\u001b[1;33m\u001b[0m\u001b[0m\n",
        "\u001b[1;32m/scr/plastilin/pkerp/local/lib/python2.7/site-packages/forgi/threedee/model/coarse_grain.pyc\u001b[0m in \u001b[0;36m__init__\u001b[1;34m(self, cg_file, dotbracket_str, seq)\u001b[0m\n\u001b[0;32m    276\u001b[0m         \u001b[0mInitialize\u001b[0m \u001b[0mthe\u001b[0m \u001b[0mnew\u001b[0m \u001b[0mstructure\u001b[0m\u001b[1;33m.\u001b[0m\u001b[1;33m\u001b[0m\u001b[0m\n\u001b[0;32m    277\u001b[0m         '''\n\u001b[1;32m--> 278\u001b[1;33m         \u001b[0msuper\u001b[0m\u001b[1;33m(\u001b[0m\u001b[0mCoarseGrainRNA\u001b[0m\u001b[1;33m,\u001b[0m \u001b[0mself\u001b[0m\u001b[1;33m)\u001b[0m\u001b[1;33m.\u001b[0m\u001b[0m__init__\u001b[0m\u001b[1;33m(\u001b[0m\u001b[0mcg_file\u001b[0m\u001b[1;33m,\u001b[0m \u001b[0mdotbracket_str\u001b[0m\u001b[1;33m,\u001b[0m \u001b[0mseq\u001b[0m\u001b[1;33m)\u001b[0m\u001b[1;33m\u001b[0m\u001b[0m\n\u001b[0m\u001b[0;32m    279\u001b[0m         \u001b[0mself\u001b[0m\u001b[1;33m.\u001b[0m\u001b[0mcoords\u001b[0m \u001b[1;33m=\u001b[0m \u001b[0mdict\u001b[0m\u001b[1;33m(\u001b[0m\u001b[1;33m)\u001b[0m\u001b[1;33m\u001b[0m\u001b[0m\n\u001b[0;32m    280\u001b[0m         \u001b[0mself\u001b[0m\u001b[1;33m.\u001b[0m\u001b[0mtwists\u001b[0m \u001b[1;33m=\u001b[0m \u001b[0mdict\u001b[0m\u001b[1;33m(\u001b[0m\u001b[1;33m)\u001b[0m\u001b[1;33m\u001b[0m\u001b[0m\n",
        "\u001b[1;32m/scr/plastilin/pkerp/local/lib/python2.7/site-packages/forgi/graph/bulge_graph.pyc\u001b[0m in \u001b[0;36m__init__\u001b[1;34m(self, bg_file, dotbracket_str, seq)\u001b[0m\n\u001b[0;32m    240\u001b[0m \u001b[1;33m\u001b[0m\u001b[0m\n\u001b[0;32m    241\u001b[0m         \u001b[1;32mif\u001b[0m \u001b[0mbg_file\u001b[0m \u001b[1;32mis\u001b[0m \u001b[1;32mnot\u001b[0m \u001b[0mNone\u001b[0m\u001b[1;33m:\u001b[0m\u001b[1;33m\u001b[0m\u001b[0m\n\u001b[1;32m--> 242\u001b[1;33m             \u001b[0mself\u001b[0m\u001b[1;33m.\u001b[0m\u001b[0mfrom_bg_file\u001b[0m\u001b[1;33m(\u001b[0m\u001b[0mbg_file\u001b[0m\u001b[1;33m)\u001b[0m\u001b[1;33m\u001b[0m\u001b[0m\n\u001b[0m\u001b[0;32m    243\u001b[0m \u001b[1;33m\u001b[0m\u001b[0m\n\u001b[0;32m    244\u001b[0m     \u001b[1;31m# get an internal index for a named vertex\u001b[0m\u001b[1;33m\u001b[0m\u001b[1;33m\u001b[0m\u001b[0m\n",
        "\u001b[1;32m/scr/plastilin/pkerp/local/lib/python2.7/site-packages/forgi/graph/bulge_graph.pyc\u001b[0m in \u001b[0;36mfrom_bg_file\u001b[1;34m(self, bg_file)\u001b[0m\n\u001b[0;32m   1320\u001b[0m                  \u001b[0mbeing\u001b[0m \u001b[0mloaded\u001b[0m\u001b[1;33m.\u001b[0m\u001b[1;33m\u001b[0m\u001b[0m\n\u001b[0;32m   1321\u001b[0m         '''\n\u001b[1;32m-> 1322\u001b[1;33m         \u001b[1;32mwith\u001b[0m \u001b[0mopen\u001b[0m\u001b[1;33m(\u001b[0m\u001b[0mbg_file\u001b[0m\u001b[1;33m,\u001b[0m \u001b[1;34m'r'\u001b[0m\u001b[1;33m)\u001b[0m \u001b[1;32mas\u001b[0m \u001b[0mf\u001b[0m\u001b[1;33m:\u001b[0m\u001b[1;33m\u001b[0m\u001b[0m\n\u001b[0m\u001b[0;32m   1323\u001b[0m             \u001b[0mbg_string\u001b[0m \u001b[1;33m=\u001b[0m \u001b[1;34m\"\"\u001b[0m\u001b[1;33m.\u001b[0m\u001b[0mjoin\u001b[0m\u001b[1;33m(\u001b[0m\u001b[0mf\u001b[0m\u001b[1;33m.\u001b[0m\u001b[0mreadlines\u001b[0m\u001b[1;33m(\u001b[0m\u001b[1;33m)\u001b[0m\u001b[1;33m)\u001b[0m\u001b[1;33m\u001b[0m\u001b[0m\n\u001b[0;32m   1324\u001b[0m             \u001b[0mself\u001b[0m\u001b[1;33m.\u001b[0m\u001b[0mfrom_bg_string\u001b[0m\u001b[1;33m(\u001b[0m\u001b[0mbg_string\u001b[0m\u001b[1;33m)\u001b[0m\u001b[1;33m\u001b[0m\u001b[0m\n",
        "\u001b[1;31mIOError\u001b[0m: [Errno 2] No such file or directory: '/home/mescalin/pkerp/data/cgs/1GID/temp.cg'"
       ]
      }
     ],
     "prompt_number": 14
    },
    {
     "cell_type": "code",
     "collapsed": false,
     "input": [],
     "language": "python",
     "metadata": {},
     "outputs": []
    }
   ],
   "metadata": {}
  }
 ]
}