{
 "metadata": {
  "name": "benchmarks"
 },
 "nbformat": 3,
 "nbformat_minor": 0,
 "worksheets": [
  {
   "cells": [
    {
     "cell_type": "markdown",
     "metadata": {},
     "source": [
      "    cd /scr/plastilin/pkerp/projects/rnacomposer_benchmark/11.03.14\n",
      "    for file in $(cat ~/projects/ernwin/test_file_list.txt); do pdb_to_ss_fasta.py ~/projects/ernwin/fess/structures/${file}.pdb; done > all_seqs.fa;\n",
      "    python ../scripts/split_fasta_file.py all_seqs.fa 10 --prefix all_seqs\n",
      "    \n",
      "Submit to http://rnacomposer.cs.put.poznan.pl/Home. Download and unzip the files. Rename the files."
     ]
    },
    {
     "cell_type": "code",
     "collapsed": false,
     "input": [
      "import os\n",
      "import re\n",
      "import os.path as op\n",
      "\n",
      "rc_dir = '/scr/plastilin/pkerp/projects/rnacomposer_benchmark/11.03.14'\n",
      "\n",
      "for root, dirs, files in os.walk(rc_dir):\n",
      "    for f in files:\n",
      "        if re.match('[A-Za-z0-9_]{4}\\.pdb', f):\n",
      "            barename = os.path.splitext(f)[0]\n",
      "            os.rename(op.join(root, f),\n",
      "                      op.join(root, barename + \"_rnacomposer.pdb\"))\n",
      "        "
     ],
     "language": "python",
     "metadata": {},
     "outputs": [],
     "prompt_number": 1
    },
    {
     "cell_type": "markdown",
     "metadata": {},
     "source": [
      "Thread coarse-grain structures onto the files:\n"
     ]
    },
    {
     "cell_type": "code",
     "collapsed": false,
     "input": [
      "import os.path as op\n",
      "import shutil as sh\n",
      "import os\n",
      "import csv\n",
      "import warnings\n",
      "import forgi.threedee.utilities.graph_pdb as cgg\n",
      "import forgi.threedee.model.coarse_grain as ftmc\n",
      "import Bio.PDB as bpdb\n",
      "\n",
      "basename = '/scr/plastilin/pkerp/projects/rosetta_benchmark'\n",
      "coarse_dir = op.expanduser('~/doarse/')\n",
      "\n",
      "\n",
      "def thread_coarse_grain_onto_pdb(coarse_dir, graph_name, new_coarse_dir, pdb_filename):\n",
      "    if not op.exists(new_coarse_dir):\n",
      "        os.makedirs(new_coarse_dir)\n",
      "     # the prediction becomes the base pdb file\n",
      "    sh.copyfile(pdb_filename, op.join(new_coarse_dir, 'temp.pdb'))\n",
      "                \n",
      "    with warnings.catch_warnings():\n",
      "        warnings.simplefilter('ignore')\n",
      "        s = bpdb.PDBParser().get_structure('temp', pdb_filename)\n",
      "        chain = list(s.get_chains())[0]\n",
      "    \n",
      "    # the bulge graph will be the one used by the native structure\n",
      "    bg = ftmc.CoarseGrainRNA(op.join(coarse_dir, graph_name, 'temp.cg'))\n",
      "    #bg.seq_length = len(chain.get_list())\n",
      "    \n",
      "    # we just need to change the information about where the stems, bulges and loops\n",
      "    # are located\n",
      "    cgg.add_stem_information_from_pdb_chain(bg, chain)\n",
      "    cgg.add_bulge_information_from_pdb_chain(bg, chain)\n",
      "    cgg.add_loop_information_from_pdb_chain(bg, chain)\n",
      "    \n",
      "    bg.to_cg_file(op.join(new_coarse_dir, 'temp.cg'))"
     ],
     "language": "python",
     "metadata": {},
     "outputs": [],
     "prompt_number": 2
    },
    {
     "cell_type": "code",
     "collapsed": false,
     "input": [
      "for root, dirs, files in os.walk(rc_dir):\n",
      "    for f in files:\n",
      "        if f[-4:] == '.pdb':\n",
      "            barename = os.path.splitext(f)[0]\n",
      "            #print barename\n",
      "            pdbname = barename.split('_')[0]\n",
      "            \n",
      "            thread_coarse_grain_onto_pdb(coarse_dir, pdbname, \n",
      "                                         op.join(coarse_dir, barename), \n",
      "                                         op.join(root, f))\n",
      "print \"done\""
     ],
     "language": "python",
     "metadata": {},
     "outputs": [
      {
       "output_type": "stream",
       "stream": "stdout",
       "text": [
        " done\n"
       ]
      }
     ],
     "prompt_number": 37
    },
    {
     "cell_type": "code",
     "collapsed": false,
     "input": [
      "import forgi.utilities.debug as cud\n",
      "import forgi.threedee.utilities.rmsd as ftur\n",
      "import sys\n",
      "\n",
      "def iterate_over_test_files(test_filename = 'test_file_list.txt',\n",
      "                            coarse_dir = op.expanduser('~/doarse/')):\n",
      "\n",
      "    with open(test_filename, 'r') as f:\n",
      "        for line in f:\n",
      "            parts = line.strip().split(' ')\n",
      "            for part in parts:\n",
      "                yield part"
     ],
     "language": "python",
     "metadata": {},
     "outputs": [],
     "prompt_number": 3
    },
    {
     "cell_type": "code",
     "collapsed": false,
     "input": [
      "import forgi.threedee.model.coarse_grain as ftmc\n",
      "import forgi.threedee.utilities.graph_pdb as ftug\n",
      "import forgi.threedee.utilities.rmsd as ftur\n",
      "\n",
      "for file in iterate_over_test_files():\n",
      "    rnacomposer_name = file + \"_rnacomposer\"\n",
      "    \n",
      "    native_cg = ftmc.CoarseGrainRNA(op.join(coarse_dir, file, \"temp.cg\"))\n",
      "    rc_cg = ftmc.CoarseGrainRNA(op.join(coarse_dir, rnacomposer_name, \"temp.cg\"))\n",
      "    \n",
      "    vrs1 = ftug.bg_virtual_residues(native_cg)\n",
      "    vrs2 = ftug.bg_virtual_residues(rc_cg)\n",
      "    \n",
      "    print file, \"rnacomposer\", native_cg.seq_length, \"%.1f\" % (ftur.centered_drmsd(vrs1, vrs2))\n",
      "    \n",
      "    "
     ],
     "language": "python",
     "metadata": {},
     "outputs": [
      {
       "output_type": "stream",
       "stream": "stdout",
       "text": [
        "1mfq rnacomposer 127 30.5\n",
        "1gid rnacomposer 158 13.1\n",
        "1y26 rnacomposer 71 13.7\n",
        "1il2"
       ]
      },
      {
       "output_type": "stream",
       "stream": "stdout",
       "text": [
        " rnacomposer 75 1.5\n",
        "3e5c rnacomposer 52 1.1\n",
        "1dk1 rnacomposer 57 3.1\n",
        "1mms rnacomposer 58 1.6\n",
        "2du3 rnacomposer 71 1.8\n",
        "2hoj rnacomposer 78 3.3\n",
        "1lng rnacomposer 97 "
       ]
      },
      {
       "output_type": "stream",
       "stream": "stdout",
       "text": [
        "1.5\n",
        "4frg rnacomposer 84 9.1\n",
        "4frn rnacomposer 102 13.9\n",
        "4gma rnacomposer 192 33.0\n",
        "4erj rnacomposer 161 "
       ]
      },
      {
       "output_type": "stream",
       "stream": "stdout",
       "text": [
        "20.2\n",
        "4aob rnacomposer 94 17.3\n",
        "2lkr rnacomposer 111 12.5\n",
        "1fg0"
       ]
      },
      {
       "output_type": "stream",
       "stream": "stdout",
       "text": [
        " rnacomposer 496 "
       ]
      },
      {
       "output_type": "stream",
       "stream": "stdout",
       "text": [
        "25.0\n",
        "3pdr rnacomposer 161 32.8\n"
       ]
      }
     ],
     "prompt_number": 7
    },
    {
     "cell_type": "markdown",
     "metadata": {},
     "source": [
      "    [pkerp@pendari ernwin]$ cat all_rmsds.csv | grep likely | grep cylinder-shortest | awk '{print $2,\"ernwin\",$3,$4}'\n",
      "    3e5c ernwin 52 6.1\n",
      "    1y26 ernwin 71 4.8\n",
      "    1il2 ernwin 75 6.2\n",
      "    4frg ernwin 84 8.1\n",
      "    4frn ernwin 102 13.4\n",
      "    2lkr ernwin 111 9.5\n",
      "    1mfq ernwin 127 12.9\n",
      "    1gid ernwin 158 22.4\n",
      "    3pdr ernwin 161 16.8\n",
      "    4gma ernwin 192 18.3\n",
      "    1fg0 ernwin 496 25.3"
     ]
    },
    {
     "cell_type": "code",
     "collapsed": false,
     "input": [
      "for file in iterate_over_test_files():\n",
      "    rnacomposer_name = file + \"_rosetta\"\n",
      "    \n",
      "    native_cg = ftmc.CoarseGrainRNA(op.join(coarse_dir, file, \"temp.cg\"))\n",
      "    \n",
      "    try:\n",
      "        rc_cg = ftmc.CoarseGrainRNA(op.join(coarse_dir, rnacomposer_name, \"temp.cg\"))\n",
      "    except IOError:\n",
      "        print \"File not found:\", rnacomposer_name\n",
      "        continue\n",
      "            \n",
      "    \n",
      "    vrs1 = ftug.bg_virtual_residues(native_cg)\n",
      "    vrs2 = ftug.bg_virtual_residues(rc_cg)\n",
      "    \n",
      "    print file, \"rosetta\", native_cg.seq_length, \"%.1f\" % (ftur.centered_drmsd(vrs1, vrs2))\n",
      "    "
     ],
     "language": "python",
     "metadata": {},
     "outputs": [
      {
       "output_type": "stream",
       "stream": "stdout",
       "text": [
        "1mfq rosetta 127 6.9\n",
        "1gid rosetta 158 27.6\n",
        "1y26 rosetta 71 "
       ]
      },
      {
       "output_type": "stream",
       "stream": "stdout",
       "text": [
        "5.8\n",
        "1il2 rosetta 75 6.1\n",
        "3e5c rosetta 52 5.6\n",
        "1dk1 rosetta 57 7.6\n",
        "1mms rosetta 58 7.9\n",
        "2du3 rosetta 71 9.6\n",
        "2hoj"
       ]
      },
      {
       "output_type": "stream",
       "stream": "stdout",
       "text": [
        " rosetta 78 9.6\n",
        "1lng rosetta 97 17.6\n",
        "4frg rosetta 84 8.4\n",
        "4frn rosetta 102 10.6\n",
        "4gma"
       ]
      },
      {
       "output_type": "stream",
       "stream": "stdout",
       "text": [
        " rosetta 192 25.1\n",
        "4erj rosetta 161 16.7\n",
        "4aob"
       ]
      },
      {
       "output_type": "stream",
       "stream": "stdout",
       "text": [
        " rosetta 94 18.2\n",
        "2lkr rosetta 111 9.8\n",
        "1fg0"
       ]
      },
      {
       "output_type": "stream",
       "stream": "stdout",
       "text": [
        " rosetta 496 "
       ]
      },
      {
       "output_type": "stream",
       "stream": "stdout",
       "text": [
        "27.7\n",
        "3pdr rosetta 161 21.0\n"
       ]
      }
     ],
     "prompt_number": 12
    },
    {
     "cell_type": "code",
     "collapsed": false,
     "input": [],
     "language": "python",
     "metadata": {},
     "outputs": []
    }
   ],
   "metadata": {}
  }
 ]
}