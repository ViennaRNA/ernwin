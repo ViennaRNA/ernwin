{
 "metadata": {
  "name": "kl-divergence"
 },
 "nbformat": 3,
 "nbformat_minor": 0,
 "worksheets": [
  {
   "cells": [
    {
     "cell_type": "code",
     "collapsed": false,
     "input": [
      "%load_ext autoreload\n",
      "%autoreload 2\n",
      "%pylab inline"
     ],
     "language": "python",
     "metadata": {},
     "outputs": [
      {
       "output_type": "stream",
       "stream": "stdout",
       "text": [
        "\n",
        "Welcome to pylab, a matplotlib-based Python environment [backend: module://IPython.zmq.pylab.backend_inline].\n",
        "For more information, type 'help(pylab)'.\n"
       ]
      }
     ],
     "prompt_number": 9
    },
    {
     "cell_type": "code",
     "collapsed": false,
     "input": [
      "import os.path as op\n",
      "\n",
      "import fess.builder.models as fbm \n",
      "import fess.builder.energy as fbe\n",
      "\n",
      "import forgi.threedee.model.coarse_grain as ftmc\n",
      "\n",
      "structs = dict()\n",
      "structs[\"1lng\"] = fbm.SpatialModel(ftmc.CoarseGrainRNA(op.expanduser(\"~/doarse/1lng/temp.cg\")))\n",
      "structs[\"2gdi\"] = fbm.SpatialModel(ftmc.CoarseGrainRNA(op.expanduser(\"~/doarse/2gdi/temp.cg\")))\n",
      "structs[\"1jj2\"] = fbm.SpatialModel(ftmc.CoarseGrainRNA(op.expanduser(\"~/doarse/1jj2/temp.cg\")))\n",
      "structs[\"2lkr\"] = fbm.SpatialModel(ftmc.CoarseGrainRNA(op.expanduser(\"~/doarse/2lkr/temp.cg\")))\n",
      "structs[\"3e5c\"] = fbm.SpatialModel(ftmc.CoarseGrainRNA(op.expanduser(\"~/doarse/3e5c/temp.cg\")))\n",
      "structs[\"4frg\"] = fbm.SpatialModel(ftmc.CoarseGrainRNA(op.expanduser(\"~/doarse/4frg/temp.cg\")))\n",
      "structs[\"4frn\"] = fbm.SpatialModel(ftmc.CoarseGrainRNA(op.expanduser(\"~/doarse/4frn/temp.cg\")))\n",
      "structs[\"4gma\"] = fbm.SpatialModel(ftmc.CoarseGrainRNA(op.expanduser(\"~/doarse/4gma/temp.cg\")))\n",
      "structs[\"3pdr\"] = fbm.SpatialModel(ftmc.CoarseGrainRNA(op.expanduser(\"~/doarse/3pdr/temp.cg\")))\n",
      "\n",
      "structs[\"1il2\"] = fbm.SpatialModel(ftmc.CoarseGrainRNA(op.expanduser(\"~/doarse/1il2/temp.cg\")))\n",
      "structs[\"1y26\"] = fbm.SpatialModel(ftmc.CoarseGrainRNA(op.expanduser(\"~/doarse/1y26/temp.cg\")))\n",
      "structs[\"1y26_best\"] = fbm.SpatialModel(ftmc.CoarseGrainRNA(op.expanduser(\"sampled/random_stem_loop_radius_of_gyration_beta/1y26/7/best0.coord\")))\n",
      "structs[\"1gid\"] = fbm.SpatialModel(ftmc.CoarseGrainRNA(op.expanduser(\"~/doarse/1gid/temp.cg\")))\n",
      "structs[\"1gid_best\"] = fbm.SpatialModel(ftmc.CoarseGrainRNA(op.expanduser(\"sampled/random_stem_loop_radius_of_gyration_beta/1gid/7/best0.coord\")))\n",
      "structs[\"1fg0\"] = fbm.SpatialModel(ftmc.CoarseGrainRNA(op.expanduser(\"~/doarse/1fg0/temp.cg\")))\n",
      "structs[\"1mfq\"] = fbm.SpatialModel(ftmc.CoarseGrainRNA(op.expanduser(\"~/doarse/1mfq/temp.cg\")))\n",
      "structs[\"2du3\"] = fbm.SpatialModel(ftmc.CoarseGrainRNA(op.expanduser(\"~/doarse/2du3/temp.cg\")))\n",
      "structs[\"1mfq_best\"] = fbm.SpatialModel(ftmc.CoarseGrainRNA(op.expanduser(\"sampled/random_stem_loop_radius_of_gyration_beta/1mfq/2/best0.coord\")))\n",
      "structs[\"1jj2_loop_rog\"] = fbm.SpatialModel(ftmc.CoarseGrainRNA(op.expanduser(\"~/projects/ernwin/sampled/random_loop_radius_of_gyration_beta_29/1jj2/best0.coord\")))\n",
      "structs[\"1jj2_rog\"] = fbm.SpatialModel(ftmc.CoarseGrainRNA(op.expanduser(\"~/projects/ernwin/sampled/random_radius_of_gyration_beta_16/1jj2/best0.coord\")))\n",
      "structs[\"1jj2_cylinder\"] = fbm.SpatialModel(ftmc.CoarseGrainRNA(op.expanduser(\"~/projects/ernwin/sampled/random_cylinder_loop_radius_of_gyration_beta/1jj2/6/best0.coord\")))"
     ],
     "language": "python",
     "metadata": {},
     "outputs": [],
     "prompt_number": 10
    },
    {
     "cell_type": "code",
     "collapsed": false,
     "input": [
      "import fess.builder.energy as fbe\n",
      "\n",
      "figsize(5,2.5)\n",
      "sn='1mfq'\n",
      "\n",
      "def get_target_sampled_kl(energy, length):\n",
      "    xs = np.linspace(energy.flocs[0], energy.fscales[0], 100)\n",
      " \n",
      "    q = energy.sampled_kdes[length](xs)\n",
      "    p = energy.real_kdes[length](xs)\n",
      "    \n",
      "    div = q / p\n",
      "    #print div\n",
      "    #print div\n",
      "    ldiv =  np.log(div)\n",
      "    #print ldiv\n",
      "    \n",
      "    vals = [v for v in zip(p, ldiv) if (np.isfinite(v[0]) and np.isfinite(v[1]))]\n",
      "    p, ldiv = zip(*vals)\n",
      "    #print ldiv\n",
      "    \n",
      "    kl = np.dot(q, ldiv)\n",
      "    return kl\n",
      "\n",
      "def energy_evolution(energy, sn, base_dir, start_iter=10, end_iter=10000, ax=None, color=None, label=None):\n",
      "    '''\n",
      "    Check how the energy of a particular structure evolves over\n",
      "    the course of the sampling.\n",
      "\n",
      "    @param energy: The energy function we're evaluating.\n",
      "    @param sn: The name of the structure.\n",
      "    @param base_dir: The base directory containing the sampled values.\n",
      "    '''\n",
      "    energy.eval_energy(structs[sn])\n",
      "    energy_measures_fn = energy.__class__.__name__.lower() + \".measures\"\n",
      "    base_dir = op.expanduser(base_dir)\n",
      "    measures_file = op.join(base_dir, '%s/%s' % (sn, energy_measures_fn))\n",
      "    \n",
      "    xs = []\n",
      "    zs = []\n",
      "    ys = []\n",
      "    \n",
      "    all_data = np.genfromtxt(measures_file, delimiter=' ')\n",
      "\n",
      "    for i in range(start_iter, end_iter, 10):\n",
      "        xs += [i]\n",
      "        data = all_data[:i]\n",
      "        energy.sampled_kdes[structs[sn].bg.seq_length] = energy.get_distribution_from_values(list(data))\n",
      "        ys += [energy.eval_energy(structs[sn])]\n",
      "        zs += [get_target_sampled_kl(energy, structs[sn].bg.seq_length)]\n",
      "        #check_energy_distribution(cie, sn)\n",
      "    \n",
      "    if ax is None:\n",
      "        fig, ax = plt.subplots()\n",
      "    #print zs\n",
      "    ax.plot(xs, np.log(zs), color=color, label=label)\n",
      "    ax.set_xlabel('Iteration')\n",
      "    ax.set_ylabel('KL-Divergence')\n"
     ],
     "language": "python",
     "metadata": {},
     "outputs": [],
     "prompt_number": 11
    },
    {
     "cell_type": "code",
     "collapsed": false,
     "input": [
      "import brewer2mpl\n",
      "\n",
      "def energy_kls(fn, iterations=1000):\n",
      "    eps = [1,2,4,8,16,32]\n",
      "    #eps = [1,2,4]\n",
      "    \n",
      "    dark2 = brewer2mpl.get_map('Blues', 'Sequential', len(eps)).mpl_colors\n",
      "    fig, ax = plt.subplots()\n",
      "    \n",
      "    ls, lb = ax.get_legend_handles_labels()\n",
      "    \n",
      "    for e, color in zip(eps, dark2):\n",
      "        energy_evolution(fbe.RadiusOfGyrationEnergy(), fn, 'temp1/ep/%d/' % (e), end_iter=iterations, color=color, ax=ax, label=str(e))\n",
      "    \n",
      "    ls, lb = ax.get_legend_handles_labels()\n",
      "    a.set_title(fn)\n",
      "    plt.legend(ls, lb, bbox_to_anchor=(1.10, 0.9), loc=2, borderaxespad=0.)\n",
      "    \n",
      "    plt.savefig('kl_divergences_rog_%s.pdf' % (fn), bbox_inches='tight')"
     ],
     "language": "python",
     "metadata": {},
     "outputs": [],
     "prompt_number": 19
    },
    {
     "cell_type": "code",
     "collapsed": false,
     "input": [
      "energy_kls('1y26', iterations=4000)"
     ],
     "language": "python",
     "metadata": {},
     "outputs": [],
     "prompt_number": "*"
    },
    {
     "cell_type": "code",
     "collapsed": false,
     "input": [],
     "language": "python",
     "metadata": {},
     "outputs": []
    }
   ],
   "metadata": {}
  }
 ]
}